{
 "cells": [
  {
   "cell_type": "markdown",
   "metadata": {
    "toc": true
   },
   "source": [
    "<h1>Table of Contents<span class=\"tocSkip\"></span></h1>\n",
    "<div class=\"toc\" style=\"margin-top: 1em;\"><ul class=\"toc-item\"><li><span><a href=\"#Ensemble\" data-toc-modified-id=\"Ensemble-1\"><span class=\"toc-item-num\">1&nbsp;&nbsp;</span>Ensemble</a></span><ul class=\"toc-item\"><li><span><a href=\"#fit-a-decision-tree-with-a-single-node-(decision-rule)\" data-toc-modified-id=\"fit-a-decision-tree-with-a-single-node-(decision-rule)-1.1\"><span class=\"toc-item-num\">1.1&nbsp;&nbsp;</span>fit a decision tree with a single node (decision rule)</a></span></li><li><span><a href=\"#Decision-tree-----不同的深度\" data-toc-modified-id=\"Decision-tree-----不同的深度-1.2\"><span class=\"toc-item-num\">1.2&nbsp;&nbsp;</span>Decision tree --- 不同的深度</a></span><ul class=\"toc-item\"><li><span><a href=\"#Decision-tree-diffferent-nodes\" data-toc-modified-id=\"Decision-tree-diffferent-nodes-1.2.1\"><span class=\"toc-item-num\">1.2.1&nbsp;&nbsp;</span>Decision tree diffferent nodes</a></span></li></ul></li><li><span><a href=\"#Ensemble\" data-toc-modified-id=\"Ensemble-1.3\"><span class=\"toc-item-num\">1.3&nbsp;&nbsp;</span>Ensemble</a></span><ul class=\"toc-item\"><li><span><a href=\"#Decision-tree-----different-width\" data-toc-modified-id=\"Decision-tree-----different-width-1.3.1\"><span class=\"toc-item-num\">1.3.1&nbsp;&nbsp;</span>Decision tree --- different width</a></span></li></ul></li><li><span><a href=\"#why-averaging-predictions-work\" data-toc-modified-id=\"why-averaging-predictions-work-1.4\"><span class=\"toc-item-num\">1.4&nbsp;&nbsp;</span>why averaging predictions work</a></span></li><li><span><a href=\"#A-forest-is-an-ensemble-of-trees\" data-toc-modified-id=\"A-forest-is-an-ensemble-of-trees-1.5\"><span class=\"toc-item-num\">1.5&nbsp;&nbsp;</span>A forest is an ensemble of trees</a></span></li><li><span><a href=\"#more-diverse-trees,\" data-toc-modified-id=\"more-diverse-trees,-1.6\"><span class=\"toc-item-num\">1.6&nbsp;&nbsp;</span>more diverse trees,</a></span><ul class=\"toc-item\"><li><span><a href=\"#a-random-forest\" data-toc-modified-id=\"a-random-forest-1.6.1\"><span class=\"toc-item-num\">1.6.1&nbsp;&nbsp;</span>a random forest</a></span></li></ul></li><li><span><a href=\"#Ensembles-:-averaged-predictions\" data-toc-modified-id=\"Ensembles-:-averaged-predictions-1.7\"><span class=\"toc-item-num\">1.7&nbsp;&nbsp;</span>Ensembles : averaged predictions</a></span></li></ul></li><li><span><a href=\"#churn-data.\" data-toc-modified-id=\"churn-data.-2\"><span class=\"toc-item-num\">2&nbsp;&nbsp;</span>churn data.</a></span></li><li><span><a href=\"#Decision-trees\" data-toc-modified-id=\"Decision-trees-3\"><span class=\"toc-item-num\">3&nbsp;&nbsp;</span>Decision trees</a></span></li></ul></div>"
   ]
  },
  {
   "cell_type": "markdown",
   "metadata": {},
   "source": [
    "# Ensemble \n"
   ]
  },
  {
   "cell_type": "code",
   "execution_count": 2,
   "metadata": {
    "collapsed": true
   },
   "outputs": [],
   "source": [
    "import numpy as np\n",
    "import pandas as pd\n",
    "\n",
    "import matplotlib.pyplot as plt\n",
    "%matplotlib inline"
   ]
  },
  {
   "cell_type": "code",
   "execution_count": 3,
   "metadata": {
    "collapsed": true
   },
   "outputs": [],
   "source": [
    "### Import data\n",
    "# Always good to set a seed for reproducibility\n",
    "SEED = 222\n",
    "np.random.seed(SEED)"
   ]
  },
  {
   "cell_type": "code",
   "execution_count": 4,
   "metadata": {
    "collapsed": true
   },
   "outputs": [],
   "source": [
    "df = pd.read_csv('/Users/libolin/Downloads/input.csv')"
   ]
  },
  {
   "cell_type": "code",
   "execution_count": 5,
   "metadata": {},
   "outputs": [
    {
     "data": {
      "text/html": [
       "<div>\n",
       "<style>\n",
       "    .dataframe thead tr:only-child th {\n",
       "        text-align: right;\n",
       "    }\n",
       "\n",
       "    .dataframe thead th {\n",
       "        text-align: left;\n",
       "    }\n",
       "\n",
       "    .dataframe tbody tr th {\n",
       "        vertical-align: top;\n",
       "    }\n",
       "</style>\n",
       "<table border=\"1\" class=\"dataframe\">\n",
       "  <thead>\n",
       "    <tr style=\"text-align: right;\">\n",
       "      <th></th>\n",
       "      <th>cand_pty_affiliation</th>\n",
       "      <th>cand_office_st</th>\n",
       "      <th>cand_office</th>\n",
       "      <th>cand_status</th>\n",
       "      <th>rpt_tp</th>\n",
       "      <th>transaction_tp</th>\n",
       "      <th>entity_tp</th>\n",
       "      <th>state</th>\n",
       "      <th>classification</th>\n",
       "      <th>cycle</th>\n",
       "      <th>transaction_amt</th>\n",
       "    </tr>\n",
       "  </thead>\n",
       "  <tbody>\n",
       "    <tr>\n",
       "      <th>0</th>\n",
       "      <td>REP</td>\n",
       "      <td>US</td>\n",
       "      <td>P</td>\n",
       "      <td>C</td>\n",
       "      <td>Q3</td>\n",
       "      <td>15</td>\n",
       "      <td>IND</td>\n",
       "      <td>NY</td>\n",
       "      <td>Engineer</td>\n",
       "      <td>2016.0</td>\n",
       "      <td>500.0</td>\n",
       "    </tr>\n",
       "    <tr>\n",
       "      <th>1</th>\n",
       "      <td>DEM</td>\n",
       "      <td>US</td>\n",
       "      <td>P</td>\n",
       "      <td>C</td>\n",
       "      <td>M5</td>\n",
       "      <td>15E</td>\n",
       "      <td>IND</td>\n",
       "      <td>OR</td>\n",
       "      <td>Math-Stat</td>\n",
       "      <td>2016.0</td>\n",
       "      <td>50.0</td>\n",
       "    </tr>\n",
       "    <tr>\n",
       "      <th>2</th>\n",
       "      <td>DEM</td>\n",
       "      <td>US</td>\n",
       "      <td>P</td>\n",
       "      <td>C</td>\n",
       "      <td>M3</td>\n",
       "      <td>15</td>\n",
       "      <td>IND</td>\n",
       "      <td>TX</td>\n",
       "      <td>Scientist</td>\n",
       "      <td>2008.0</td>\n",
       "      <td>250.0</td>\n",
       "    </tr>\n",
       "    <tr>\n",
       "      <th>3</th>\n",
       "      <td>DEM</td>\n",
       "      <td>US</td>\n",
       "      <td>P</td>\n",
       "      <td>C</td>\n",
       "      <td>Q2</td>\n",
       "      <td>15E</td>\n",
       "      <td>IND</td>\n",
       "      <td>IN</td>\n",
       "      <td>Math-Stat</td>\n",
       "      <td>2016.0</td>\n",
       "      <td>250.0</td>\n",
       "    </tr>\n",
       "    <tr>\n",
       "      <th>4</th>\n",
       "      <td>REP</td>\n",
       "      <td>US</td>\n",
       "      <td>P</td>\n",
       "      <td>C</td>\n",
       "      <td>12G</td>\n",
       "      <td>15</td>\n",
       "      <td>IND</td>\n",
       "      <td>MA</td>\n",
       "      <td>Engineer</td>\n",
       "      <td>2016.0</td>\n",
       "      <td>184.0</td>\n",
       "    </tr>\n",
       "  </tbody>\n",
       "</table>\n",
       "</div>"
      ],
      "text/plain": [
       "  cand_pty_affiliation cand_office_st cand_office cand_status rpt_tp  \\\n",
       "0                  REP             US           P           C     Q3   \n",
       "1                  DEM             US           P           C     M5   \n",
       "2                  DEM             US           P           C     M3   \n",
       "3                  DEM             US           P           C     Q2   \n",
       "4                  REP             US           P           C    12G   \n",
       "\n",
       "  transaction_tp entity_tp state classification   cycle  transaction_amt  \n",
       "0             15       IND    NY       Engineer  2016.0            500.0  \n",
       "1            15E       IND    OR      Math-Stat  2016.0             50.0  \n",
       "2             15       IND    TX      Scientist  2008.0            250.0  \n",
       "3            15E       IND    IN      Math-Stat  2016.0            250.0  \n",
       "4             15       IND    MA       Engineer  2016.0            184.0  "
      ]
     },
     "execution_count": 5,
     "metadata": {},
     "output_type": "execute_result"
    }
   ],
   "source": [
    "df.head()"
   ]
  },
  {
   "cell_type": "code",
   "execution_count": 6,
   "metadata": {
    "collapsed": true
   },
   "outputs": [],
   "source": [
    "### Training and test set\n",
    "from sklearn.model_selection import train_test_split\n",
    "from sklearn.metrics import roc_auc_score"
   ]
  },
  {
   "cell_type": "code",
   "execution_count": 7,
   "metadata": {
    "collapsed": true
   },
   "outputs": [],
   "source": [
    "def get_train_test(test_size=0.95):\n",
    "    \"\"\"Split Data into train and test sets.\"\"\"\n",
    "    y = 1 * (df.cand_pty_affiliation == \"REP\")\n",
    "    X = df.drop([\"cand_pty_affiliation\"], axis=1)\n",
    "    X = pd.get_dummies(X, sparse=True)\n",
    "    X.drop(X.columns[X.std() == 0], axis=1, inplace=True)\n",
    "    return train_test_split(X, y, test_size=test_size, random_state=SEED)"
   ]
  },
  {
   "cell_type": "code",
   "execution_count": 8,
   "metadata": {
    "collapsed": true
   },
   "outputs": [],
   "source": [
    "xtrain, xtest, ytrain, ytest = get_train_test()"
   ]
  },
  {
   "cell_type": "code",
   "execution_count": 9,
   "metadata": {},
   "outputs": [
    {
     "data": {
      "text/plain": [
       "100000"
      ]
     },
     "execution_count": 9,
     "metadata": {},
     "output_type": "execute_result"
    }
   ],
   "source": [
    "df.shape[0]"
   ]
  },
  {
   "cell_type": "code",
   "execution_count": 10,
   "metadata": {},
   "outputs": [
    {
     "data": {
      "image/png": "[encoded data removed]",
      "text/plain": [
       "<matplotlib.figure.Figure at 0x109dc75f8>"
      ]
     },
     "metadata": {},
     "output_type": "display_data"
    }
   ],
   "source": [
    "df.cand_pty_affiliation.value_counts(normalize=True).plot(\n",
    "    kind=\"bar\", title=\"Share of No. donations\")\n",
    "plt.show()"
   ]
  },
  {
   "cell_type": "markdown",
   "metadata": {},
   "source": [
    "![title](https://www.dataquest.io/blog/content/images/2018/01/features.svg)"
   ]
  },
  {
   "cell_type": "code",
   "execution_count": 12,
   "metadata": {
    "collapsed": true
   },
   "outputs": [],
   "source": [
    "import pydotplus  # you can install pydotplus with: pip install pydotplus \n",
    "from IPython.display import Image\n",
    "from sklearn.metrics import roc_auc_score\n",
    "from sklearn.tree import DecisionTreeClassifier, export_graphviz\n"
   ]
  },
  {
   "cell_type": "code",
   "execution_count": 36,
   "metadata": {
    "collapsed": true
   },
   "outputs": [],
   "source": [
    " from graphviz import Digraph"
   ]
  },
  {
   "cell_type": "code",
   "execution_count": 31,
   "metadata": {
    "collapsed": true
   },
   "outputs": [],
   "source": [
    "def print_graph(clf, feature_names):\n",
    "    \"\"\"Print decision tree.\"\"\"\n",
    "    graph = export_graphviz(\n",
    "        clf,\n",
    "        label=\"root\",\n",
    "        proportion=True,\n",
    "        impurity=False, \n",
    "        out_file=None, \n",
    "        feature_names=feature_names,\n",
    "        class_names={0: \"D\", 1: \"R\"},\n",
    "        filled=True,\n",
    "        rounded=True\n",
    "    )\n",
    "    graph = pydotplus.graph_from_dot_data(graph)  \n",
    "    return Image(graph.create_png())"
   ]
  },
  {
   "cell_type": "code",
   "execution_count": 32,
   "metadata": {},
   "outputs": [
    {
     "data": {
      "text/html": [
       "<div>\n",
       "<style>\n",
       "    .dataframe thead tr:only-child th {\n",
       "        text-align: right;\n",
       "    }\n",
       "\n",
       "    .dataframe thead th {\n",
       "        text-align: left;\n",
       "    }\n",
       "\n",
       "    .dataframe tbody tr th {\n",
       "        vertical-align: top;\n",
       "    }\n",
       "</style>\n",
       "<table border=\"1\" class=\"dataframe\">\n",
       "  <thead>\n",
       "    <tr style=\"text-align: right;\">\n",
       "      <th></th>\n",
       "      <th>cycle</th>\n",
       "      <th>transaction_amt</th>\n",
       "      <th>cand_office_st_AK</th>\n",
       "      <th>cand_office_st_AL</th>\n",
       "      <th>cand_office_st_AR</th>\n",
       "      <th>cand_office_st_AZ</th>\n",
       "      <th>cand_office_st_CA</th>\n",
       "      <th>cand_office_st_CO</th>\n",
       "      <th>cand_office_st_CT</th>\n",
       "      <th>cand_office_st_DC</th>\n",
       "      <th>...</th>\n",
       "      <th>state_VI</th>\n",
       "      <th>state_VT</th>\n",
       "      <th>state_WA</th>\n",
       "      <th>state_WI</th>\n",
       "      <th>state_WV</th>\n",
       "      <th>state_WY</th>\n",
       "      <th>state_ZZ</th>\n",
       "      <th>classification_Engineer</th>\n",
       "      <th>classification_Math-Stat</th>\n",
       "      <th>classification_Scientist</th>\n",
       "    </tr>\n",
       "  </thead>\n",
       "  <tbody>\n",
       "    <tr>\n",
       "      <th>37896</th>\n",
       "      <td>2012.0</td>\n",
       "      <td>500.0</td>\n",
       "      <td>0</td>\n",
       "      <td>0</td>\n",
       "      <td>0</td>\n",
       "      <td>0</td>\n",
       "      <td>0</td>\n",
       "      <td>0</td>\n",
       "      <td>0</td>\n",
       "      <td>0</td>\n",
       "      <td>...</td>\n",
       "      <td>0</td>\n",
       "      <td>0</td>\n",
       "      <td>0</td>\n",
       "      <td>0</td>\n",
       "      <td>0</td>\n",
       "      <td>0</td>\n",
       "      <td>0</td>\n",
       "      <td>1</td>\n",
       "      <td>0</td>\n",
       "      <td>0</td>\n",
       "    </tr>\n",
       "    <tr>\n",
       "      <th>16316</th>\n",
       "      <td>2016.0</td>\n",
       "      <td>20.0</td>\n",
       "      <td>0</td>\n",
       "      <td>0</td>\n",
       "      <td>0</td>\n",
       "      <td>0</td>\n",
       "      <td>0</td>\n",
       "      <td>0</td>\n",
       "      <td>0</td>\n",
       "      <td>0</td>\n",
       "      <td>...</td>\n",
       "      <td>0</td>\n",
       "      <td>0</td>\n",
       "      <td>0</td>\n",
       "      <td>0</td>\n",
       "      <td>0</td>\n",
       "      <td>0</td>\n",
       "      <td>0</td>\n",
       "      <td>1</td>\n",
       "      <td>0</td>\n",
       "      <td>0</td>\n",
       "    </tr>\n",
       "    <tr>\n",
       "      <th>93919</th>\n",
       "      <td>2012.0</td>\n",
       "      <td>500.0</td>\n",
       "      <td>0</td>\n",
       "      <td>0</td>\n",
       "      <td>0</td>\n",
       "      <td>0</td>\n",
       "      <td>0</td>\n",
       "      <td>0</td>\n",
       "      <td>0</td>\n",
       "      <td>0</td>\n",
       "      <td>...</td>\n",
       "      <td>0</td>\n",
       "      <td>0</td>\n",
       "      <td>0</td>\n",
       "      <td>0</td>\n",
       "      <td>0</td>\n",
       "      <td>0</td>\n",
       "      <td>0</td>\n",
       "      <td>0</td>\n",
       "      <td>0</td>\n",
       "      <td>1</td>\n",
       "    </tr>\n",
       "    <tr>\n",
       "      <th>28998</th>\n",
       "      <td>2016.0</td>\n",
       "      <td>50.0</td>\n",
       "      <td>0</td>\n",
       "      <td>0</td>\n",
       "      <td>0</td>\n",
       "      <td>0</td>\n",
       "      <td>0</td>\n",
       "      <td>0</td>\n",
       "      <td>0</td>\n",
       "      <td>0</td>\n",
       "      <td>...</td>\n",
       "      <td>0</td>\n",
       "      <td>0</td>\n",
       "      <td>0</td>\n",
       "      <td>0</td>\n",
       "      <td>0</td>\n",
       "      <td>0</td>\n",
       "      <td>0</td>\n",
       "      <td>1</td>\n",
       "      <td>0</td>\n",
       "      <td>0</td>\n",
       "    </tr>\n",
       "    <tr>\n",
       "      <th>14276</th>\n",
       "      <td>2016.0</td>\n",
       "      <td>50.0</td>\n",
       "      <td>0</td>\n",
       "      <td>0</td>\n",
       "      <td>0</td>\n",
       "      <td>0</td>\n",
       "      <td>0</td>\n",
       "      <td>0</td>\n",
       "      <td>0</td>\n",
       "      <td>0</td>\n",
       "      <td>...</td>\n",
       "      <td>0</td>\n",
       "      <td>0</td>\n",
       "      <td>0</td>\n",
       "      <td>0</td>\n",
       "      <td>0</td>\n",
       "      <td>0</td>\n",
       "      <td>0</td>\n",
       "      <td>1</td>\n",
       "      <td>0</td>\n",
       "      <td>0</td>\n",
       "    </tr>\n",
       "  </tbody>\n",
       "</table>\n",
       "<p>5 rows × 158 columns</p>\n",
       "</div>"
      ],
      "text/plain": [
       "        cycle  transaction_amt  cand_office_st_AK  cand_office_st_AL  \\\n",
       "37896  2012.0            500.0                  0                  0   \n",
       "16316  2016.0             20.0                  0                  0   \n",
       "93919  2012.0            500.0                  0                  0   \n",
       "28998  2016.0             50.0                  0                  0   \n",
       "14276  2016.0             50.0                  0                  0   \n",
       "\n",
       "       cand_office_st_AR  cand_office_st_AZ  cand_office_st_CA  \\\n",
       "37896                  0                  0                  0   \n",
       "16316                  0                  0                  0   \n",
       "93919                  0                  0                  0   \n",
       "28998                  0                  0                  0   \n",
       "14276                  0                  0                  0   \n",
       "\n",
       "       cand_office_st_CO  cand_office_st_CT  cand_office_st_DC  \\\n",
       "37896                  0                  0                  0   \n",
       "16316                  0                  0                  0   \n",
       "93919                  0                  0                  0   \n",
       "28998                  0                  0                  0   \n",
       "14276                  0                  0                  0   \n",
       "\n",
       "                 ...             state_VI  state_VT  state_WA  state_WI  \\\n",
       "37896            ...                    0         0         0         0   \n",
       "16316            ...                    0         0         0         0   \n",
       "93919            ...                    0         0         0         0   \n",
       "28998            ...                    0         0         0         0   \n",
       "14276            ...                    0         0         0         0   \n",
       "\n",
       "       state_WV  state_WY  state_ZZ  classification_Engineer  \\\n",
       "37896         0         0         0                        1   \n",
       "16316         0         0         0                        1   \n",
       "93919         0         0         0                        0   \n",
       "28998         0         0         0                        1   \n",
       "14276         0         0         0                        1   \n",
       "\n",
       "       classification_Math-Stat  classification_Scientist  \n",
       "37896                         0                         0  \n",
       "16316                         0                         0  \n",
       "93919                         0                         1  \n",
       "28998                         0                         0  \n",
       "14276                         0                         0  \n",
       "\n",
       "[5 rows x 158 columns]"
      ]
     },
     "execution_count": 32,
     "metadata": {},
     "output_type": "execute_result"
    }
   ],
   "source": [
    "xtest.head()"
   ]
  },
  {
   "cell_type": "markdown",
   "metadata": {},
   "source": [
    "## fit a decision tree with a single node (decision rule) \n",
    "on our training data and see how it perform on the test set:"
   ]
  },
  {
   "cell_type": "code",
   "execution_count": 33,
   "metadata": {
    "collapsed": true
   },
   "outputs": [],
   "source": [
    "t1 = DecisionTreeClassifier(max_depth=1, random_state=SEED)\n",
    "t1.fit(xtrain, ytrain)\n",
    "p = t1.predict_proba(xtest)[:, 1]\n"
   ]
  },
  {
   "cell_type": "code",
   "execution_count": 34,
   "metadata": {},
   "outputs": [
    {
     "name": "stdout",
     "output_type": "stream",
     "text": [
      "Decision tree ROC-AUC score: 0.672\n"
     ]
    }
   ],
   "source": [
    "print(\"Decision tree ROC-AUC score: %.3f\" % roc_auc_score(ytest, p))"
   ]
  },
  {
   "cell_type": "code",
   "execution_count": 38,
   "metadata": {},
   "outputs": [
    {
     "ename": "InvocationException",
     "evalue": "GraphViz's executables not found",
     "output_type": "error",
     "traceback": [
      "\u001b[0;31m---------------------------------------------------------------------------\u001b[0m",
      "\u001b[0;31mInvocationException\u001b[0m                       Traceback (most recent call last)",
      "\u001b[0;32m<ipython-input-38-550fd2978caa>\u001b[0m in \u001b[0;36m<module>\u001b[0;34m()\u001b[0m\n\u001b[0;32m----> 1\u001b[0;31m \u001b[0mprint_graph\u001b[0m\u001b[0;34m(\u001b[0m\u001b[0mt1\u001b[0m\u001b[0;34m,\u001b[0m \u001b[0mxtrain\u001b[0m\u001b[0;34m.\u001b[0m\u001b[0mcolumns\u001b[0m\u001b[0;34m)\u001b[0m\u001b[0;34m\u001b[0m\u001b[0m\n\u001b[0m",
      "\u001b[0;32m<ipython-input-31-d0af0c775ec9>\u001b[0m in \u001b[0;36mprint_graph\u001b[0;34m(clf, feature_names)\u001b[0m\n\u001b[1;32m     13\u001b[0m     )\n\u001b[1;32m     14\u001b[0m     \u001b[0mgraph\u001b[0m \u001b[0;34m=\u001b[0m \u001b[0mpydotplus\u001b[0m\u001b[0;34m.\u001b[0m\u001b[0mgraph_from_dot_data\u001b[0m\u001b[0;34m(\u001b[0m\u001b[0mgraph\u001b[0m\u001b[0;34m)\u001b[0m\u001b[0;34m\u001b[0m\u001b[0m\n\u001b[0;32m---> 15\u001b[0;31m     \u001b[0;32mreturn\u001b[0m \u001b[0mImage\u001b[0m\u001b[0;34m(\u001b[0m\u001b[0mgraph\u001b[0m\u001b[0;34m.\u001b[0m\u001b[0mcreate_png\u001b[0m\u001b[0;34m(\u001b[0m\u001b[0;34m)\u001b[0m\u001b[0;34m)\u001b[0m\u001b[0;34m\u001b[0m\u001b[0m\n\u001b[0m",
      "\u001b[0;32m~/anaconda3/lib/python3.6/site-packages/pydotplus/graphviz.py\u001b[0m in \u001b[0;36m<lambda>\u001b[0;34m(f, prog)\u001b[0m\n\u001b[1;32m   1795\u001b[0m             self.__setattr__(\n\u001b[1;32m   1796\u001b[0m                 \u001b[0;34m'create_'\u001b[0m \u001b[0;34m+\u001b[0m \u001b[0mfrmt\u001b[0m\u001b[0;34m,\u001b[0m\u001b[0;34m\u001b[0m\u001b[0m\n\u001b[0;32m-> 1797\u001b[0;31m                 \u001b[0;32mlambda\u001b[0m \u001b[0mf\u001b[0m\u001b[0;34m=\u001b[0m\u001b[0mfrmt\u001b[0m\u001b[0;34m,\u001b[0m \u001b[0mprog\u001b[0m\u001b[0;34m=\u001b[0m\u001b[0mself\u001b[0m\u001b[0;34m.\u001b[0m\u001b[0mprog\u001b[0m\u001b[0;34m:\u001b[0m \u001b[0mself\u001b[0m\u001b[0;34m.\u001b[0m\u001b[0mcreate\u001b[0m\u001b[0;34m(\u001b[0m\u001b[0mformat\u001b[0m\u001b[0;34m=\u001b[0m\u001b[0mf\u001b[0m\u001b[0;34m,\u001b[0m \u001b[0mprog\u001b[0m\u001b[0;34m=\u001b[0m\u001b[0mprog\u001b[0m\u001b[0;34m)\u001b[0m\u001b[0;34m\u001b[0m\u001b[0m\n\u001b[0m\u001b[1;32m   1798\u001b[0m             )\n\u001b[1;32m   1799\u001b[0m             \u001b[0mf\u001b[0m \u001b[0;34m=\u001b[0m \u001b[0mself\u001b[0m\u001b[0;34m.\u001b[0m\u001b[0m__dict__\u001b[0m\u001b[0;34m[\u001b[0m\u001b[0;34m'create_'\u001b[0m \u001b[0;34m+\u001b[0m \u001b[0mfrmt\u001b[0m\u001b[0;34m]\u001b[0m\u001b[0;34m\u001b[0m\u001b[0m\n",
      "\u001b[0;32m~/anaconda3/lib/python3.6/site-packages/pydotplus/graphviz.py\u001b[0m in \u001b[0;36mcreate\u001b[0;34m(self, prog, format)\u001b[0m\n\u001b[1;32m   1958\u001b[0m             \u001b[0;32mif\u001b[0m \u001b[0mself\u001b[0m\u001b[0;34m.\u001b[0m\u001b[0mprogs\u001b[0m \u001b[0;32mis\u001b[0m \u001b[0;32mNone\u001b[0m\u001b[0;34m:\u001b[0m\u001b[0;34m\u001b[0m\u001b[0m\n\u001b[1;32m   1959\u001b[0m                 raise InvocationException(\n\u001b[0;32m-> 1960\u001b[0;31m                     'GraphViz\\'s executables not found')\n\u001b[0m\u001b[1;32m   1961\u001b[0m \u001b[0;34m\u001b[0m\u001b[0m\n\u001b[1;32m   1962\u001b[0m         \u001b[0;32mif\u001b[0m \u001b[0mprog\u001b[0m \u001b[0;32mnot\u001b[0m \u001b[0;32min\u001b[0m \u001b[0mself\u001b[0m\u001b[0;34m.\u001b[0m\u001b[0mprogs\u001b[0m\u001b[0;34m:\u001b[0m\u001b[0;34m\u001b[0m\u001b[0m\n",
      "\u001b[0;31mInvocationException\u001b[0m: GraphViz's executables not found"
     ]
    }
   ],
   "source": [
    "print_graph(t1, xtrain.columns)"
   ]
  },
  {
   "cell_type": "code",
   "execution_count": 39,
   "metadata": {
    "collapsed": true
   },
   "outputs": [],
   "source": [
    "from IPython.display import Image\n",
    "from IPython.core.display import HTML \n"
   ]
  },
  {
   "cell_type": "code",
   "execution_count": 40,
   "metadata": {},
   "outputs": [
    {
     "data": {
      "text/html": [
       "<img src=\"https://www.dataquest.io/blog/content/images/2018/01/output_6_1.png\"/>"
      ],
      "text/plain": [
       "<IPython.core.display.Image object>"
      ]
     },
     "execution_count": 40,
     "metadata": {},
     "output_type": "execute_result"
    }
   ],
   "source": [
    "Image(url= \"https://www.dataquest.io/blog/content/images/2018/01/output_6_1.png\")"
   ]
  },
  {
   "cell_type": "markdown",
   "metadata": {},
   "source": [
    "## Decision tree --- 不同的深度 \n",
    "### Decision tree diffferent nodes\n",
    "- ROC-AUC score: 0.672\n",
    "- Each of the two leaves register their share of training samples, the class distribution within their share, and the class label prediction. \n",
    "   - ** bases its prediction on** \n",
    "   - whether the the size of the contribution is above 101.5: \n",
    "   - but it makes the same prediction regardless! \n",
    "**This is not too surprising given that 75% of all donations are to Democrats. **\n",
    "But it's not making use of the data we have. Let's use three levels of decision rules and see what we can get:"
   ]
  },
  {
   "cell_type": "code",
   "execution_count": 42,
   "metadata": {},
   "outputs": [
    {
     "name": "stdout",
     "output_type": "stream",
     "text": [
      "Decision tree ROC-AUC score: 0.751\n"
     ]
    }
   ],
   "source": [
    "t2 = DecisionTreeClassifier(max_depth=3, random_state=SEED)\n",
    "t2.fit(xtrain, ytrain)\n",
    "p = t2.predict_proba(xtest)[:, 1]\n",
    "\n",
    "print(\"Decision tree ROC-AUC score: %.3f\" % roc_auc_score(ytest, p))"
   ]
  },
  {
   "cell_type": "code",
   "execution_count": 43,
   "metadata": {},
   "outputs": [
    {
     "data": {
      "text/html": [
       "<img src=\"https://www.dataquest.io/blog/content/images/2018/01/output_8_1.png\"/>"
      ],
      "text/plain": [
       "<IPython.core.display.Image object>"
      ]
     },
     "execution_count": 43,
     "metadata": {},
     "output_type": "execute_result"
    }
   ],
   "source": [
    "Image(url= \"https://www.dataquest.io/blog/content/images/2018/01/output_8_1.png\")"
   ]
  },
  {
   "cell_type": "markdown",
   "metadata": {},
   "source": [
    "This model is not much better than the simple decision tree: a measly 5% of all donations are predicted to go to Republicans–far short of the 25% we would expect. \n",
    "\n",
    "**A closer look tells us that the decision tree uses some dubious splitting rules. A whopping 47.3% of all observations end up in the left-most leaf, while another 35.9% end up in the leaf second to the right. The vast majority of leaves are therefore irrelevant. Making the model deeper just causes it to overfit.**\n",
    "\n",
    "## Ensemble\n",
    "### Decision tree --- different width\n",
    "Fixing depth, a decision tree can be made more complex by **increasing \"width\", that is, creating several decision trees and combining them. **\n",
    "In other words,** an ensemble of decision trees**.\n",
    "\n",
    "To see why such a model would help, \n",
    "- consider how we may force a decision tree to investigate other patterns than those in the above tree.\n",
    "**The simplest solution **is to remove features that appear early in the tree. \n",
    "\n",
    "Suppose for instance that we remove the transaction amount feature (transaction_amt), the root of the tree. New decision tree would look like this:"
   ]
  },
  {
   "cell_type": "code",
   "execution_count": 44,
   "metadata": {},
   "outputs": [
    {
     "name": "stdout",
     "output_type": "stream",
     "text": [
      "Decision tree ROC-AUC score: 0.740\n"
     ]
    }
   ],
   "source": [
    "#The simplest solution is to remove features that appear early in the tree.\n",
    "drop = [\"transaction_amt\"]\n",
    "\n",
    "xtrain_slim = xtrain.drop(drop, 1)\n",
    "xtest_slim = xtest.drop(drop, 1)\n",
    "\n",
    "t3 = DecisionTreeClassifier(max_depth=3, random_state=SEED)\n",
    "t3.fit(xtrain_slim, ytrain)\n",
    "p = t3.predict_proba(xtest_slim)[:, 1]\n",
    "print(\"Decision tree ROC-AUC score: %.3f\" % roc_auc_score(ytest, p))"
   ]
  },
  {
   "cell_type": "code",
   "execution_count": 45,
   "metadata": {},
   "outputs": [
    {
     "data": {
      "text/html": [
       "<img src=\"https://www.dataquest.io/blog/content/images/2018/01/output_10_1.png\"/>"
      ],
      "text/plain": [
       "<IPython.core.display.Image object>"
      ]
     },
     "execution_count": 45,
     "metadata": {},
     "output_type": "execute_result"
    }
   ],
   "source": [
    "Image(url= \"https://www.dataquest.io/blog/content/images/2018/01/output_10_1.png\")"
   ]
  },
  {
   "cell_type": "markdown",
   "metadata": {},
   "source": [
    "- The ROC-AUC score is similar, but the share of Republican donation increased to 7.3%. Still too low, but higher than before. \n",
    "- Importantly, in contrast to the first tree, where most of the rules related to the transaction itself, this tree is more focused on the residency of the candidate.\n",
    "\n",
    "**We now have two models that by themselves have similar predictive power, but operate on different rules. Because of this, they are likely to make different prediction errors, which we can average out with an ensemble.**\n",
    "\n",
    "## why averaging predictions work\n",
    "Consider a toy example with two observations that we want to generate predictions for. \n",
    "- The true label for the first observation is Republican, \n",
    "- and the true label for the second observation is Democrat.\n",
    "- In this toy example, suppose model 1 is prone to predicting Democrat \n",
    "- while model 2 is prone to predicting Republican, as in the below table:\n",
    "\n",
    "\n",
    " Model\t\n",
    " Observation 1\t Truelabel\tR\t\n",
    " Observation 2   Truelabel  D\n",
    "  \n",
    " Model         prediction: P(R)\t\t\n",
    " \n",
    " Model 1:\tob1:0.4\t           ob2:0.2\n",
    " \n",
    " Model 2:\tob1:0.8\t           ob2:0.6\n",
    " \n",
    "**If we use the standard 50% cutoff rule for making a class prediction,** each decision tree gets one observation right and one wrong. \n",
    "\n",
    "We create an ensemble by averaging the model's class probabilities, which is **a majority vote weighted by the strength (probability) of model's prediction.**\n",
    "\n",
    "In our toy example, model 2 is certain of its prediction for observation 1, while model 1 is relatively uncertain. Weighting their predictions, the ensemble favors model 2 and correctly predicts Republican. For the second observation, tables are turned and the ensemble correctly predicts Democrat:\n",
    "\n",
    "- Ensemble\tob1: 0.6(is R)\tob2:0.4(is R)\n",
    "\n",
    "With more than two decision trees, the ensemble predicts in accordance with the majority. For that reason, an ensemble that averages classifier predictions is known **as a majority voting classifier.**\n",
    "\n",
    "**When an ensembles averages based on probabilities (as above), we refer to it as soft voting, averaging final class label predictions is known as hard voting.**\n",
    "\n",
    "Of course, ensembles are no silver bullet. You might have noticed in our toy example that for averaging to work,** prediction errors must be uncorrelated. If both models made incorrect predictions, the ensemble would not be able to make any corrections. ** \n",
    "\n",
    "**Moreover, in the soft voting scheme, if one model makes an incorrect prediction with a high probability value, the ensemble would be overwhelmed. **\n",
    "\n",
    "**Generally, ensembles don't get every observation right, but in expectation it will do better than the underlying models.**\n",
    "\n",
    "## A forest is an ensemble of trees\n",
    "\n",
    "- build an ensemble out of our two decision trees. \n",
    "- We first check error correlation: highly correlated errors makes for poor ensembles."
   ]
  },
  {
   "cell_type": "code",
   "execution_count": 54,
   "metadata": {},
   "outputs": [
    {
     "name": "stdout",
     "output_type": "stream",
     "text": [
      "[ 0.39074693  0.07363521  0.39074693 ...,  0.39074693  0.39074693\n",
      "  0.07363521] [ 0.42324371  0.          0.22095672 ...,  0.22095672  0.22095672  0.        ]\n"
     ]
    }
   ],
   "source": [
    "print(t2.predict_proba(xtest)[:, 1],\n",
    "t3.predict_proba(xtest_slim)[:, 1])"
   ]
  },
  {
   "cell_type": "code",
   "execution_count": 55,
   "metadata": {},
   "outputs": [
    {
     "data": {
      "text/html": [
       "<div>\n",
       "<style>\n",
       "    .dataframe thead tr:only-child th {\n",
       "        text-align: right;\n",
       "    }\n",
       "\n",
       "    .dataframe thead th {\n",
       "        text-align: left;\n",
       "    }\n",
       "\n",
       "    .dataframe tbody tr th {\n",
       "        vertical-align: top;\n",
       "    }\n",
       "</style>\n",
       "<table border=\"1\" class=\"dataframe\">\n",
       "  <thead>\n",
       "    <tr style=\"text-align: right;\">\n",
       "      <th></th>\n",
       "      <th>full_data</th>\n",
       "      <th>red_data</th>\n",
       "    </tr>\n",
       "  </thead>\n",
       "  <tbody>\n",
       "    <tr>\n",
       "      <th>full_data</th>\n",
       "      <td>1.000000</td>\n",
       "      <td>0.669128</td>\n",
       "    </tr>\n",
       "    <tr>\n",
       "      <th>red_data</th>\n",
       "      <td>0.669128</td>\n",
       "      <td>1.000000</td>\n",
       "    </tr>\n",
       "  </tbody>\n",
       "</table>\n",
       "</div>"
      ],
      "text/plain": [
       "           full_data  red_data\n",
       "full_data   1.000000  0.669128\n",
       "red_data    0.669128  1.000000"
      ]
     },
     "execution_count": 55,
     "metadata": {},
     "output_type": "execute_result"
    }
   ],
   "source": [
    "p1 = t2.predict_proba(xtest)[:, 1]\n",
    "p2 = t3.predict_proba(xtest_slim)[:, 1]\n",
    "\n",
    "pd.DataFrame({\"full_data\": p1,\n",
    "              \"red_data\": p2}).corr()"
   ]
  },
  {
   "cell_type": "markdown",
   "metadata": {},
   "source": [
    "**There is some correlation, but not overly so: there's still a good deal of prediction variance to exploit. **\n",
    "- To build our first ensemble, we simply average the two model's predictions."
   ]
  },
  {
   "cell_type": "code",
   "execution_count": 56,
   "metadata": {},
   "outputs": [
    {
     "name": "stdout",
     "output_type": "stream",
     "text": [
      "Average of decision tree ROC-AUC score: 0.783\n"
     ]
    }
   ],
   "source": [
    "p1 = t2.predict_proba(xtest)[:, 1]\n",
    "p2 = t3.predict_proba(xtest_slim)[:, 1]\n",
    "p = np.mean([p1, p2], axis=0)#简单的取了两个模型的绝对值\n",
    "print(\"Average of decision tree ROC-AUC score: %.3f\" % roc_auc_score(ytest, p))"
   ]
  },
  {
   "cell_type": "markdown",
   "metadata": {},
   "source": [
    "Indeed, the ensemble procedure leads to an increased score.\n",
    "But maybe if we had \n",
    "## more diverse trees, \n",
    "we could get an even greater gain. **How should we choose which features to exclude when designing the decision trees?**\n",
    "\n",
    "- A fast approach： to randomly select a subset of features, fit one decision tree on each draw and average their predictions. \n",
    "This process is known as **bootstrapped averaging** (often abbreviated bagging), \n",
    "- and when applied to decision trees, the resultant model is **a Random Forest**. \n",
    "### a random forest \n",
    "   - use the Scikit-learn implementation \n",
    "   - and build an ensemble of 10 decision trees, \n",
    "   - each fitted on a subset of 3 features.\n",
    "\n"
   ]
  },
  {
   "cell_type": "code",
   "execution_count": 57,
   "metadata": {},
   "outputs": [
    {
     "name": "stdout",
     "output_type": "stream",
     "text": [
      "Average of decision tree ROC-AUC score: 0.844\n"
     ]
    }
   ],
   "source": [
    "from sklearn.ensemble import RandomForestClassifier\n",
    "#10--trees,3 features for one tree\n",
    "rf = RandomForestClassifier(\n",
    "    n_estimators=10, \n",
    "    max_features=3,\n",
    "    random_state=SEED\n",
    ")\n",
    "\n",
    "rf.fit(xtrain, ytrain)\n",
    "p = rf.predict_proba(xtest)[:, 1]\n",
    "print(\"Average of decision tree ROC-AUC score: %.3f\" % roc_auc_score(ytest, p))"
   ]
  },
  {
   "cell_type": "markdown",
   "metadata": {},
   "source": [
    "## Ensembles : averaged predictions\n",
    " \n",
    "Our foray into ensembles so far has shown us two important aspects of ensembles:\n",
    "\n",
    "- The less correlation in prediction errors, the better\n",
    "- The more models, the better\n",
    "**It's a good idea to use as different models as possible (as long as they perform decently).**\n",
    "\n",
    "So far, we have relied on **simple averaging**, but later we will see to how use** more complex combinations**. To keep track of our progress, it is helpful to formalize our ensemble as n models fi averaged into an ensemble e\n",
    "![title](https://www.kdnuggets.com/wp-content/uploads/ensemble-eq-1.jpg)\n",
    "\n",
    "          - There's no limitation on what models to include: decision trees, linear models, kernel-based models, non-parametric models, neural networks or even other ensembles!\n",
    "          - Keep in mind though that the more models we include, the slower the ensemble becomes.\n",
    "\n",
    "1. To build an ensemble of various models, we\n",
    "   - begin by benchmarking a set of Scikit-learn classifiers on the dataset. \n",
    "   - To avoid repeating code, we use the below helper functions:\n",
    "\n",
    "\n"
   ]
  },
  {
   "cell_type": "code",
   "execution_count": 58,
   "metadata": {
    "collapsed": true
   },
   "outputs": [],
   "source": [
    "# A host of Scikit-learn models\n",
    "from sklearn.svm import SVC, LinearSVC\n",
    "from sklearn.naive_bayes import GaussianNB\n",
    "from sklearn.ensemble import RandomForestClassifier, GradientBoostingClassifier\n",
    "from sklearn.linear_model import LogisticRegression\n",
    "from sklearn.neighbors import KNeighborsClassifier\n",
    "from sklearn.neural_network import MLPClassifier\n",
    "from sklearn.kernel_approximation import Nystroem\n",
    "from sklearn.kernel_approximation import RBFSampler\n",
    "from sklearn.pipeline import make_pipeline"
   ]
  },
  {
   "cell_type": "code",
   "execution_count": 59,
   "metadata": {
    "collapsed": true
   },
   "outputs": [],
   "source": [
    "def get_models():\n",
    "    \"\"\"Generate a library of base learners.\"\"\"\n",
    "    nb = GaussianNB()\n",
    "    svc = SVC(C=100, probability=True)\n",
    "    knn = KNeighborsClassifier(n_neighbors=3)\n",
    "    lr = LogisticRegression(C=100, random_state=SEED)\n",
    "    nn = MLPClassifier((80, 10), early_stopping=False, random_state=SEED)\n",
    "    gb = GradientBoostingClassifier(n_estimators=100, random_state=SEED)\n",
    "    rf = RandomForestClassifier(n_estimators=10, max_features=3, random_state=SEED)\n",
    "\n",
    "    models = {'svm': svc,\n",
    "              'knn': knn,\n",
    "              'naive bayes': nb,\n",
    "              'mlp-nn': nn,\n",
    "              'random forest': rf,\n",
    "              'gbm': gb,\n",
    "              'logistic': lr,\n",
    "              }\n",
    "\n",
    "    return models   #他是一个字典，里面包括了不同的模型和设定"
   ]
  },
  {
   "cell_type": "code",
   "execution_count": 60,
   "metadata": {},
   "outputs": [
    {
     "data": {
      "text/plain": [
       "{'gbm': GradientBoostingClassifier(criterion='friedman_mse', init=None,\n",
       "               learning_rate=0.1, loss='deviance', max_depth=3,\n",
       "               max_features=None, max_leaf_nodes=None,\n",
       "               min_impurity_decrease=0.0, min_impurity_split=None,\n",
       "               min_samples_leaf=1, min_samples_split=2,\n",
       "               min_weight_fraction_leaf=0.0, n_estimators=100,\n",
       "               presort='auto', random_state=222, subsample=1.0, verbose=0,\n",
       "               warm_start=False),\n",
       " 'knn': KNeighborsClassifier(algorithm='auto', leaf_size=30, metric='minkowski',\n",
       "            metric_params=None, n_jobs=1, n_neighbors=3, p=2,\n",
       "            weights='uniform'),\n",
       " 'logistic': LogisticRegression(C=100, class_weight=None, dual=False, fit_intercept=True,\n",
       "           intercept_scaling=1, max_iter=100, multi_class='ovr', n_jobs=1,\n",
       "           penalty='l2', random_state=222, solver='liblinear', tol=0.0001,\n",
       "           verbose=0, warm_start=False),\n",
       " 'mlp-nn': MLPClassifier(activation='relu', alpha=0.0001, batch_size='auto', beta_1=0.9,\n",
       "        beta_2=0.999, early_stopping=False, epsilon=1e-08,\n",
       "        hidden_layer_sizes=(80, 10), learning_rate='constant',\n",
       "        learning_rate_init=0.001, max_iter=200, momentum=0.9,\n",
       "        nesterovs_momentum=True, power_t=0.5, random_state=222,\n",
       "        shuffle=True, solver='adam', tol=0.0001, validation_fraction=0.1,\n",
       "        verbose=False, warm_start=False),\n",
       " 'naive bayes': GaussianNB(priors=None),\n",
       " 'random forest': RandomForestClassifier(bootstrap=True, class_weight=None, criterion='gini',\n",
       "             max_depth=None, max_features=3, max_leaf_nodes=None,\n",
       "             min_impurity_decrease=0.0, min_impurity_split=None,\n",
       "             min_samples_leaf=1, min_samples_split=2,\n",
       "             min_weight_fraction_leaf=0.0, n_estimators=10, n_jobs=1,\n",
       "             oob_score=False, random_state=222, verbose=0, warm_start=False),\n",
       " 'svm': SVC(C=100, cache_size=200, class_weight=None, coef0=0.0,\n",
       "   decision_function_shape='ovr', degree=3, gamma='auto', kernel='rbf',\n",
       "   max_iter=-1, probability=True, random_state=None, shrinking=True,\n",
       "   tol=0.001, verbose=False)}"
      ]
     },
     "execution_count": 60,
     "metadata": {},
     "output_type": "execute_result"
    }
   ],
   "source": [
    "get_models()"
   ]
  },
  {
   "cell_type": "code",
   "execution_count": 61,
   "metadata": {
    "collapsed": true
   },
   "outputs": [],
   "source": [
    "def train_predict(model_list):\n",
    "    \"\"\"Fit models in list on training set and return preds\"\"\"\n",
    "    P = np.zeros((ytest.shape[0], len(model_list)))   #产生test集的array，rows=test的rows， 列=模型个数\n",
    "    P = pd.DataFrame(P)   #转化array成为DF\n",
    "\n",
    "    print(\"Fitting models.\")\n",
    "    cols = list()\n",
    "    for i, (name, m) in enumerate(models.items()):   \n",
    "        print(\"%s...\" % name, end=\" \", flush=False)\n",
    "        m.fit(xtrain, ytrain)\n",
    "        P.iloc[:, i] = m.predict_proba(xtest)[:, 1]\n",
    "        cols.append(name)\n",
    "        print(\"done\")\n",
    "\n",
    "    P.columns = cols\n",
    "    print(\"Done.\\n\")\n",
    "    return P"
   ]
  },
  {
   "cell_type": "code",
   "execution_count": 63,
   "metadata": {
    "collapsed": true
   },
   "outputs": [],
   "source": [
    "def score_models(P, y):\n",
    "    \"\"\"Score model in prediction DF\"\"\"\n",
    "    print(\"Scoring models.\")\n",
    "    for m in P.columns:\n",
    "        score = roc_auc_score(y, P.loc[:, m])\n",
    "        print(\"%-26s: %.3f\" % (m, score))\n",
    "    print(\"Done.\\n\")\n",
    "    "
   ]
  },
  {
   "cell_type": "markdown",
   "metadata": {},
   "source": [
    "**create a prediction matrix P, where each feature corresponds to the predictions made by a given model, and score each model against the test set:**\n"
   ]
  },
  {
   "cell_type": "code",
   "execution_count": 71,
   "metadata": {},
   "outputs": [
    {
     "name": "stdout",
     "output_type": "stream",
     "text": [
      "     0    1    2    3    4    5    6\n",
      "0  0.0  0.0  0.0  0.0  0.0  0.0  0.0\n",
      "1  0.0  0.0  0.0  0.0  0.0  0.0  0.0\n",
      "2  0.0  0.0  0.0  0.0  0.0  0.0  0.0\n",
      "3  0.0  0.0  0.0  0.0  0.0  0.0  0.0\n",
      "4  0.0  0.0  0.0  0.0  0.0  0.0  0.0 (95000, 7) (95000,)\n"
     ]
    }
   ],
   "source": [
    "models = get_models()\n",
    "P = np.zeros((ytest.shape[0], len(models)))   #产生test集的array，rows=test的rows， 列=模型个数\n",
    "P = pd.DataFrame(P) \n",
    "print(P.head(),P.shape,ytest.shape)#7列的0 95000的预测\n"
   ]
  },
  {
   "cell_type": "code",
   "execution_count": 82,
   "metadata": {},
   "outputs": [
    {
     "data": {
      "text/plain": [
       "dict_items([('svm', SVC(C=100, cache_size=200, class_weight=None, coef0=0.0,\n",
       "  decision_function_shape='ovr', degree=3, gamma='auto', kernel='rbf',\n",
       "  max_iter=-1, probability=True, random_state=None, shrinking=True,\n",
       "  tol=0.001, verbose=False)), ('knn', KNeighborsClassifier(algorithm='auto', leaf_size=30, metric='minkowski',\n",
       "           metric_params=None, n_jobs=1, n_neighbors=3, p=2,\n",
       "           weights='uniform')), ('naive bayes', GaussianNB(priors=None)), ('mlp-nn', MLPClassifier(activation='relu', alpha=0.0001, batch_size='auto', beta_1=0.9,\n",
       "       beta_2=0.999, early_stopping=False, epsilon=1e-08,\n",
       "       hidden_layer_sizes=(80, 10), learning_rate='constant',\n",
       "       learning_rate_init=0.001, max_iter=200, momentum=0.9,\n",
       "       nesterovs_momentum=True, power_t=0.5, random_state=222,\n",
       "       shuffle=True, solver='adam', tol=0.0001, validation_fraction=0.1,\n",
       "       verbose=False, warm_start=False)), ('random forest', RandomForestClassifier(bootstrap=True, class_weight=None, criterion='gini',\n",
       "            max_depth=None, max_features=3, max_leaf_nodes=None,\n",
       "            min_impurity_decrease=0.0, min_impurity_split=None,\n",
       "            min_samples_leaf=1, min_samples_split=2,\n",
       "            min_weight_fraction_leaf=0.0, n_estimators=10, n_jobs=1,\n",
       "            oob_score=False, random_state=222, verbose=0, warm_start=False)), ('gbm', GradientBoostingClassifier(criterion='friedman_mse', init=None,\n",
       "              learning_rate=0.1, loss='deviance', max_depth=3,\n",
       "              max_features=None, max_leaf_nodes=None,\n",
       "              min_impurity_decrease=0.0, min_impurity_split=None,\n",
       "              min_samples_leaf=1, min_samples_split=2,\n",
       "              min_weight_fraction_leaf=0.0, n_estimators=100,\n",
       "              presort='auto', random_state=222, subsample=1.0, verbose=0,\n",
       "              warm_start=False)), ('logistic', LogisticRegression(C=100, class_weight=None, dual=False, fit_intercept=True,\n",
       "          intercept_scaling=1, max_iter=100, multi_class='ovr', n_jobs=1,\n",
       "          penalty='l2', random_state=222, solver='liblinear', tol=0.0001,\n",
       "          verbose=0, warm_start=False))])"
      ]
     },
     "execution_count": 82,
     "metadata": {},
     "output_type": "execute_result"
    }
   ],
   "source": [
    "models.items()"
   ]
  },
  {
   "cell_type": "code",
   "execution_count": 83,
   "metadata": {},
   "outputs": [
    {
     "name": "stdout",
     "output_type": "stream",
     "text": [
      "Fitting models.\n",
      "svm... done\n",
      "knn... done\n",
      "naive bayes... done\n",
      "mlp-nn... done\n",
      "random forest... done\n",
      "gbm... done\n",
      "logistic... done\n",
      "Done.\n",
      "\n",
      "Scoring models.\n",
      "svm                       : 0.850\n",
      "knn                       : 0.779\n",
      "naive bayes               : 0.803\n",
      "mlp-nn                    : 0.851\n",
      "random forest             : 0.844\n",
      "gbm                       : 0.878\n",
      "logistic                  : 0.857\n",
      "Done.\n",
      "\n"
     ]
    }
   ],
   "source": [
    "#所有的模型\n",
    "models = get_models()\n",
    "\n",
    "#所有模型加入\n",
    "P = train_predict(models)\n",
    "\n",
    "score_models(P, ytest)"
   ]
  },
  {
   "cell_type": "markdown",
   "metadata": {},
   "source": [
    "That's our** baseline**. \n",
    "The Gradient Boosting Machine (GBM) does best, followed by a simple logistic regression. \n",
    "2. For our ensemble strategy to work, prediction errors must be relatively uncorrelated. Checking that this holds is our first order of business:"
   ]
  },
  {
   "cell_type": "code",
   "execution_count": 86,
   "metadata": {
    "scrolled": true
   },
   "outputs": [
    {
     "data": {
      "text/html": [
       "<div>\n",
       "<style>\n",
       "    .dataframe thead tr:only-child th {\n",
       "        text-align: right;\n",
       "    }\n",
       "\n",
       "    .dataframe thead th {\n",
       "        text-align: left;\n",
       "    }\n",
       "\n",
       "    .dataframe tbody tr th {\n",
       "        vertical-align: top;\n",
       "    }\n",
       "</style>\n",
       "<table border=\"1\" class=\"dataframe\">\n",
       "  <thead>\n",
       "    <tr style=\"text-align: right;\">\n",
       "      <th></th>\n",
       "      <th>svm</th>\n",
       "      <th>knn</th>\n",
       "      <th>naive bayes</th>\n",
       "      <th>mlp-nn</th>\n",
       "      <th>random forest</th>\n",
       "      <th>gbm</th>\n",
       "      <th>logistic</th>\n",
       "    </tr>\n",
       "  </thead>\n",
       "  <tbody>\n",
       "    <tr>\n",
       "      <th>0</th>\n",
       "      <td>0.347648</td>\n",
       "      <td>0.333333</td>\n",
       "      <td>5.020798e-10</td>\n",
       "      <td>0.156115</td>\n",
       "      <td>0.3</td>\n",
       "      <td>0.265998</td>\n",
       "      <td>0.149801</td>\n",
       "    </tr>\n",
       "    <tr>\n",
       "      <th>1</th>\n",
       "      <td>0.007823</td>\n",
       "      <td>0.000000</td>\n",
       "      <td>1.085367e-68</td>\n",
       "      <td>0.010601</td>\n",
       "      <td>0.0</td>\n",
       "      <td>0.017165</td>\n",
       "      <td>0.002533</td>\n",
       "    </tr>\n",
       "    <tr>\n",
       "      <th>2</th>\n",
       "      <td>0.555600</td>\n",
       "      <td>0.333333</td>\n",
       "      <td>6.701134e-14</td>\n",
       "      <td>0.226278</td>\n",
       "      <td>0.2</td>\n",
       "      <td>0.328002</td>\n",
       "      <td>0.284235</td>\n",
       "    </tr>\n",
       "    <tr>\n",
       "      <th>3</th>\n",
       "      <td>0.046424</td>\n",
       "      <td>0.000000</td>\n",
       "      <td>2.862588e-62</td>\n",
       "      <td>0.049854</td>\n",
       "      <td>0.0</td>\n",
       "      <td>0.024914</td>\n",
       "      <td>0.024563</td>\n",
       "    </tr>\n",
       "    <tr>\n",
       "      <th>4</th>\n",
       "      <td>0.004719</td>\n",
       "      <td>0.000000</td>\n",
       "      <td>1.020511e-61</td>\n",
       "      <td>0.027849</td>\n",
       "      <td>0.0</td>\n",
       "      <td>0.017396</td>\n",
       "      <td>0.004619</td>\n",
       "    </tr>\n",
       "  </tbody>\n",
       "</table>\n",
       "</div>"
      ],
      "text/plain": [
       "        svm       knn   naive bayes    mlp-nn  random forest       gbm  \\\n",
       "0  0.347648  0.333333  5.020798e-10  0.156115            0.3  0.265998   \n",
       "1  0.007823  0.000000  1.085367e-68  0.010601            0.0  0.017165   \n",
       "2  0.555600  0.333333  6.701134e-14  0.226278            0.2  0.328002   \n",
       "3  0.046424  0.000000  2.862588e-62  0.049854            0.0  0.024914   \n",
       "4  0.004719  0.000000  1.020511e-61  0.027849            0.0  0.017396   \n",
       "\n",
       "   logistic  \n",
       "0  0.149801  \n",
       "1  0.002533  \n",
       "2  0.284235  \n",
       "3  0.024563  \n",
       "4  0.004619  "
      ]
     },
     "execution_count": 86,
     "metadata": {},
     "output_type": "execute_result"
    }
   ],
   "source": [
    "P.head()#P是每个模型预测的概率"
   ]
  },
  {
   "cell_type": "code",
   "execution_count": 85,
   "metadata": {},
   "outputs": [
    {
     "name": "stderr",
     "output_type": "stream",
     "text": [
      "[MLENS] backend: threading\n"
     ]
    },
    {
     "data": {
      "image/png": "[encoded data removed]",
      "text/plain": [
       "<matplotlib.figure.Figure at 0x1a1832b630>"
      ]
     },
     "metadata": {},
     "output_type": "display_data"
    }
   ],
   "source": [
    "# You need ML-Ensemble for this figure: you can install it with: pip install mlens\n",
    "from mlens.visualization import corrmat\n",
    "\n",
    "corrmat(P.corr(), inflate=False)\n",
    "plt.show()"
   ]
  },
  {
   "cell_type": "markdown",
   "metadata": {},
   "source": [
    "Errors are significantly correlated, which is to be expected for models that perform well, since it's typically the outliers that are hard to get right. \n",
    "Yet most correlations are in the 50-80% span, so there is decent room for improvement. \n",
    "\n",
    "In fact, if we look at **error correlations on a class prediction basis things **look a bit more promising:"
   ]
  },
  {
   "cell_type": "code",
   "execution_count": 87,
   "metadata": {},
   "outputs": [
    {
     "data": {
      "image/png": "[encoded data removed]",
      "text/plain": [
       "<matplotlib.figure.Figure at 0x109d7e278>"
      ]
     },
     "metadata": {},
     "output_type": "display_data"
    }
   ],
   "source": [
    "corrmat(P.apply(lambda pred: 1*(pred >= 0.5) - ytest.values).corr(), inflate=False)\n",
    "plt.show()"
   ]
  },
  {
   "cell_type": "markdown",
   "metadata": {},
   "source": [
    "# churn data. \n",
    "- This dataset contains imaginary data from a ride-sharing app with user behaviors over their first month of app usage in a set of imaginary cities as well as whether they used the service 5 months after sign-up. \n",
    "- use the first month's worth of data to predict whether the app's users will remain users of the service at the 5 month mark.\n",
    "\n",
    "This is a typical setup for a churn prediction problem. To do this, you'll split the data into training and test sets, fit a small xgboost model on the training set, and evaluate its performance on the test set by computing its accuracy."
   ]
  },
  {
   "cell_type": "code",
   "execution_count": 2,
   "metadata": {
    "collapsed": true
   },
   "outputs": [],
   "source": [
    "import pandas as pd \n",
    "import numpy as np \n",
    "from sklearn.model_selection import train_test_split\n",
    "import xgboost as xgb"
   ]
  },
  {
   "cell_type": "code",
   "execution_count": 4,
   "metadata": {
    "collapsed": true
   },
   "outputs": [],
   "source": [
    "Xc = pd.read_csv(\"/Users/libolin/Downloads/chronic_kidney_disease.csv\")"
   ]
  },
  {
   "cell_type": "code",
   "execution_count": 5,
   "metadata": {},
   "outputs": [
    {
     "data": {
      "text/html": [
       "<div>\n",
       "<style>\n",
       "    .dataframe thead tr:only-child th {\n",
       "        text-align: right;\n",
       "    }\n",
       "\n",
       "    .dataframe thead th {\n",
       "        text-align: left;\n",
       "    }\n",
       "\n",
       "    .dataframe tbody tr th {\n",
       "        vertical-align: top;\n",
       "    }\n",
       "</style>\n",
       "<table border=\"1\" class=\"dataframe\">\n",
       "  <thead>\n",
       "    <tr style=\"text-align: right;\">\n",
       "      <th></th>\n",
       "      <th>48</th>\n",
       "      <th>80</th>\n",
       "      <th>1.020</th>\n",
       "      <th>1</th>\n",
       "      <th>0</th>\n",
       "      <th>?</th>\n",
       "      <th>normal</th>\n",
       "      <th>notpresent</th>\n",
       "      <th>notpresent.1</th>\n",
       "      <th>121</th>\n",
       "      <th>...</th>\n",
       "      <th>44</th>\n",
       "      <th>7800</th>\n",
       "      <th>5.2</th>\n",
       "      <th>yes</th>\n",
       "      <th>yes.1</th>\n",
       "      <th>no</th>\n",
       "      <th>good</th>\n",
       "      <th>no.1</th>\n",
       "      <th>no.2</th>\n",
       "      <th>ckd</th>\n",
       "    </tr>\n",
       "  </thead>\n",
       "  <tbody>\n",
       "    <tr>\n",
       "      <th>0</th>\n",
       "      <td>7</td>\n",
       "      <td>50</td>\n",
       "      <td>1.020</td>\n",
       "      <td>4</td>\n",
       "      <td>0</td>\n",
       "      <td>?</td>\n",
       "      <td>normal</td>\n",
       "      <td>notpresent</td>\n",
       "      <td>notpresent</td>\n",
       "      <td>?</td>\n",
       "      <td>...</td>\n",
       "      <td>38</td>\n",
       "      <td>6000</td>\n",
       "      <td>?</td>\n",
       "      <td>no</td>\n",
       "      <td>no</td>\n",
       "      <td>no</td>\n",
       "      <td>good</td>\n",
       "      <td>no</td>\n",
       "      <td>no</td>\n",
       "      <td>ckd</td>\n",
       "    </tr>\n",
       "    <tr>\n",
       "      <th>1</th>\n",
       "      <td>62</td>\n",
       "      <td>80</td>\n",
       "      <td>1.010</td>\n",
       "      <td>2</td>\n",
       "      <td>3</td>\n",
       "      <td>normal</td>\n",
       "      <td>normal</td>\n",
       "      <td>notpresent</td>\n",
       "      <td>notpresent</td>\n",
       "      <td>423</td>\n",
       "      <td>...</td>\n",
       "      <td>31</td>\n",
       "      <td>7500</td>\n",
       "      <td>?</td>\n",
       "      <td>no</td>\n",
       "      <td>yes</td>\n",
       "      <td>no</td>\n",
       "      <td>poor</td>\n",
       "      <td>no</td>\n",
       "      <td>yes</td>\n",
       "      <td>ckd</td>\n",
       "    </tr>\n",
       "    <tr>\n",
       "      <th>2</th>\n",
       "      <td>48</td>\n",
       "      <td>70</td>\n",
       "      <td>1.005</td>\n",
       "      <td>4</td>\n",
       "      <td>0</td>\n",
       "      <td>normal</td>\n",
       "      <td>abnormal</td>\n",
       "      <td>present</td>\n",
       "      <td>notpresent</td>\n",
       "      <td>117</td>\n",
       "      <td>...</td>\n",
       "      <td>32</td>\n",
       "      <td>6700</td>\n",
       "      <td>3.9</td>\n",
       "      <td>yes</td>\n",
       "      <td>no</td>\n",
       "      <td>no</td>\n",
       "      <td>poor</td>\n",
       "      <td>yes</td>\n",
       "      <td>yes</td>\n",
       "      <td>ckd</td>\n",
       "    </tr>\n",
       "    <tr>\n",
       "      <th>3</th>\n",
       "      <td>51</td>\n",
       "      <td>80</td>\n",
       "      <td>1.010</td>\n",
       "      <td>2</td>\n",
       "      <td>0</td>\n",
       "      <td>normal</td>\n",
       "      <td>normal</td>\n",
       "      <td>notpresent</td>\n",
       "      <td>notpresent</td>\n",
       "      <td>106</td>\n",
       "      <td>...</td>\n",
       "      <td>35</td>\n",
       "      <td>7300</td>\n",
       "      <td>4.6</td>\n",
       "      <td>no</td>\n",
       "      <td>no</td>\n",
       "      <td>no</td>\n",
       "      <td>good</td>\n",
       "      <td>no</td>\n",
       "      <td>no</td>\n",
       "      <td>ckd</td>\n",
       "    </tr>\n",
       "    <tr>\n",
       "      <th>4</th>\n",
       "      <td>60</td>\n",
       "      <td>90</td>\n",
       "      <td>1.015</td>\n",
       "      <td>3</td>\n",
       "      <td>0</td>\n",
       "      <td>?</td>\n",
       "      <td>?</td>\n",
       "      <td>notpresent</td>\n",
       "      <td>notpresent</td>\n",
       "      <td>74</td>\n",
       "      <td>...</td>\n",
       "      <td>39</td>\n",
       "      <td>7800</td>\n",
       "      <td>4.4</td>\n",
       "      <td>yes</td>\n",
       "      <td>yes</td>\n",
       "      <td>no</td>\n",
       "      <td>good</td>\n",
       "      <td>yes</td>\n",
       "      <td>no</td>\n",
       "      <td>ckd</td>\n",
       "    </tr>\n",
       "  </tbody>\n",
       "</table>\n",
       "<p>5 rows × 25 columns</p>\n",
       "</div>"
      ],
      "text/plain": [
       "   48  80  1.020  1  0       ?    normal  notpresent notpresent.1  121 ...   \\\n",
       "0   7  50  1.020  4  0       ?    normal  notpresent   notpresent    ? ...    \n",
       "1  62  80  1.010  2  3  normal    normal  notpresent   notpresent  423 ...    \n",
       "2  48  70  1.005  4  0  normal  abnormal     present   notpresent  117 ...    \n",
       "3  51  80  1.010  2  0  normal    normal  notpresent   notpresent  106 ...    \n",
       "4  60  90  1.015  3  0       ?         ?  notpresent   notpresent   74 ...    \n",
       "\n",
       "   44  7800  5.2  yes yes.1  no  good no.1 no.2  ckd  \n",
       "0  38  6000    ?   no    no  no  good   no   no  ckd  \n",
       "1  31  7500    ?   no   yes  no  poor   no  yes  ckd  \n",
       "2  32  6700  3.9  yes    no  no  poor  yes  yes  ckd  \n",
       "3  35  7300  4.6   no    no  no  good   no   no  ckd  \n",
       "4  39  7800  4.4  yes   yes  no  good  yes   no  ckd  \n",
       "\n",
       "[5 rows x 25 columns]"
      ]
     },
     "execution_count": 5,
     "metadata": {},
     "output_type": "execute_result"
    }
   ],
   "source": [
    "Xc.head()"
   ]
  },
  {
   "cell_type": "code",
   "execution_count": null,
   "metadata": {
    "collapsed": true
   },
   "outputs": [],
   "source": [
    "# 1.产生新的arrays：Create arrays for the features and the target: X, y\n",
    "X, y = churn_data.iloc[:,:-1], churn_data.iloc[:,-1]  \n",
    "#X是所有变量除了倒数第一个，y是倒数第一个变量\n",
    "\n",
    "#2.分开数据集 Create the training and test sets\n",
    "X_train,X_test,y_train,y_test= train_test_split(X, y, test_size=0.2, random_state=123)\n",
    "\n",
    "# 3.产生分类器xg_cl: Instantiate the XGBClassifier: xg_cl\n",
    "xg_cl = xgb.XGBClassifier(objective='binary:logistic', n_estimators=10, seed=123)\n",
    "\n",
    "# 4.分类器家.fit引入train数据: Fit the classifier to the training set\n",
    "xg_cl.fit(X_train,y_train)\n",
    "\n",
    "# 5.将fit后的分类器加入到test数据预测：Predict the labels of the test set: preds\n",
    "preds = xg_cl.predict(X_test)\n",
    "\n",
    "# 6.查看最后的准确率 Compute the accuracy: accuracy\n",
    "accuracy = float(np.sum(preds==y_test))/y_test.shape[0]\n",
    "print(\"accuracy: %f\" % (accuracy))\n",
    "\n",
    "#<script.py> output:\n",
    "#    accuracy: 0.743300"
   ]
  },
  {
   "cell_type": "markdown",
   "metadata": {},
   "source": [
    "# Decision trees\n",
    "- make a simple decision tree using scikit-learn's DecisionTreeClassifier on the** breast cancer dataset**.\n",
    "  - This dataset contains numeric measurements of various dimensions of individual tumors (such as perimeter and texture) from breast biopsies \n",
    "  - and a single outcome value (the tumor is either malignant, or benign)."
   ]
  },
  {
   "cell_type": "code",
   "execution_count": 3,
   "metadata": {
    "collapsed": true
   },
   "outputs": [],
   "source": [
    "# Import the necessary modules\n",
    "from sklearn.model_selection import train_test_split\n",
    "from sklearn.tree import DecisionTreeClassifier"
   ]
  },
  {
   "cell_type": "code",
   "execution_count": null,
   "metadata": {
    "collapsed": true
   },
   "outputs": [],
   "source": [
    "# 1.分割数据 Create the training and test sets\n",
    "X_train, X_test, y_train, y_test = train_test_split(X, y, test_size=0.2, random_state=123)\n",
    "\n",
    "# 2. 设定模型：产生决策树分类器：Instantiate the classifier: dt_clf_4  在最后的结尾Leaf之前最多可以有4个连续的分开点\n",
    "dt_clf_4 = DecisionTreeClassifier(max_depth=4)\n",
    "#This parameter specifies the maximum number of successive split points you can have before reaching a leaf node.\n",
    "\n",
    "# 3对模型fit数据：Fit the classifier to the training set\n",
    "dt_clf_4.fit(X_train, y_train)\n",
    "\n",
    "# 4.使用模型预测数据：Predict the labels of the test set: y_pred_4\n",
    "y_pred_4 = dt_clf_4.predict(X_test)\n"
   ]
  },
  {
   "cell_type": "code",
   "execution_count": null,
   "metadata": {
    "collapsed": true
   },
   "outputs": [],
   "source": [
    "# 5.衡量模型预测的准确率Compute the accuracy of the predictions: accuracy\n",
    "accuracy = float(np.sum(y_pred_4==y_test))/y_test.shape[0]\n",
    "print(\"accuracy:\", accuracy)\n",
    "#np.sum(y_pred_4==y_test 预测相符的数量的和\n",
    "#float（）转化成消暑\n",
    "#y_test.shape[0] 总个数的量"
   ]
  },
  {
   "cell_type": "code",
   "execution_count": null,
   "metadata": {
    "collapsed": true
   },
   "outputs": [],
   "source": []
  },
  {
   "cell_type": "code",
   "execution_count": null,
   "metadata": {
    "collapsed": true
   },
   "outputs": [],
   "source": []
  },
  {
   "cell_type": "code",
   "execution_count": null,
   "metadata": {
    "collapsed": true
   },
   "outputs": [],
   "source": []
  }
 ],
 "metadata": {
  "kernelspec": {
   "display_name": "Python 3",
   "language": "python",
   "name": "python3"
  },
  "language_info": {
   "codemirror_mode": {
    "name": "ipython",
    "version": 3
   },
   "file_extension": ".py",
   "mimetype": "text/x-python",
   "name": "python",
   "nbconvert_exporter": "python",
   "pygments_lexer": "ipython3",
   "version": "3.6.3"
  },
  "toc": {
   "nav_menu": {},
   "number_sections": true,
   "sideBar": true,
   "skip_h1_title": false,
   "toc_cell": true,
   "toc_position": {},
   "toc_section_display": "block",
   "toc_window_display": true
  }
 },
 "nbformat": 4,
 "nbformat_minor": 2
}
