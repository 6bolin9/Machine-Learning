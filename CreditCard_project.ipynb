{
 "cells": [
  {
   "cell_type": "markdown",
   "metadata": {
    "toc": true
   },
   "source": [
    "<h1>Table of Contents<span class=\"tocSkip\"></span></h1>\n",
    "<div class=\"toc\" style=\"margin-top: 1em;\"><ul class=\"toc-item\"><li><ul class=\"toc-item\"><li><span><a href=\"#准备workdirectory--OS\" data-toc-modified-id=\"准备workdirectory--OS-0.1\"><span class=\"toc-item-num\">0.1&nbsp;&nbsp;</span>准备workdirectory--OS</a></span></li></ul></li><li><span><a href=\"#data-frame的处理：load-+-pivot-+-结合\" data-toc-modified-id=\"data-frame的处理：load-+-pivot-+-结合-1\"><span class=\"toc-item-num\">1&nbsp;&nbsp;</span>data frame的处理：load + pivot + 结合</a></span><ul class=\"toc-item\"><li><span><a href=\"#pd-import-+pd.ExcelFile('excel-path').parse('sheet1')\" data-toc-modified-id=\"pd-import-+pd.ExcelFile('excel-path').parse('sheet1')-1.1\"><span class=\"toc-item-num\">1.1&nbsp;&nbsp;</span>pd-import +pd.ExcelFile('excel-path').parse('sheet1')</a></span></li><li><span><a href=\"#dataframe写出Excel\" data-toc-modified-id=\"dataframe写出Excel-1.2\"><span class=\"toc-item-num\">1.2&nbsp;&nbsp;</span>dataframe写出Excel</a></span></li><li><span><a href=\"#Tidy-Date---改善table形式\" data-toc-modified-id=\"Tidy-Date---改善table形式-1.3\"><span class=\"toc-item-num\">1.3&nbsp;&nbsp;</span>Tidy Date---改善table形式</a></span><ul class=\"toc-item\"><li><span><a href=\"#pd.melt-将columns转化为rows\" data-toc-modified-id=\"pd.melt-将columns转化为rows-1.3.1\"><span class=\"toc-item-num\">1.3.1&nbsp;&nbsp;</span><strong>pd.melt</strong> 将columns转化为rows</a></span></li></ul></li><li><span><a href=\"#Pivoting-将unique值转化为columns\" data-toc-modified-id=\"Pivoting-将unique值转化为columns-1.4\"><span class=\"toc-item-num\">1.4&nbsp;&nbsp;</span><strong>Pivoting </strong>将unique值转化为columns</a></span><ul class=\"toc-item\"><li><span><a href=\"#MultiIndex帮助pivot\" data-toc-modified-id=\"MultiIndex帮助pivot-1.4.1\"><span class=\"toc-item-num\">1.4.1&nbsp;&nbsp;</span>MultiIndex帮助pivot</a></span><ul class=\"toc-item\"><li><span><a href=\"#get-back-the-original-DataFrame-from-the-pivoted-DataFrame:-.reset_index()\" data-toc-modified-id=\"get-back-the-original-DataFrame-from-the-pivoted-DataFrame:-.reset_index()-1.4.1.1\"><span class=\"toc-item-num\">1.4.1.1&nbsp;&nbsp;</span>get back the original DataFrame from the pivoted DataFrame: .reset_index()</a></span></li></ul></li><li><span><a href=\"#deal-with-duplicate-values---providing-an-aggregation-function\" data-toc-modified-id=\"deal-with-duplicate-values---providing-an-aggregation-function-1.4.2\"><span class=\"toc-item-num\">1.4.2&nbsp;&nbsp;</span>deal with duplicate values---providing an aggregation function</a></span><ul class=\"toc-item\"><li><span><a href=\"#.pivot_table(index=[‘固定列’]，columns='要拓展成多个列的那一列',values='消失的列--有数字分布多个列'，aggfunc=np.mean）\" data-toc-modified-id=\".pivot_table(index=[‘固定列’]，columns='要拓展成多个列的那一列',values='消失的列--有数字分布多个列'，aggfunc=np.mean）-1.4.2.1\"><span class=\"toc-item-num\">1.4.2.1&nbsp;&nbsp;</span>.pivot_table(index=[‘固定列’]，columns='要拓展成多个列的那一列',values='消失的列--有数字分布多个列'，aggfunc=np.mean）</a></span></li></ul></li></ul></li><li><span><a href=\"#问题的列：国家-年-男性-女性-？\" data-toc-modified-id=\"问题的列：国家-年-男性-女性-？-1.5\"><span class=\"toc-item-num\">1.5&nbsp;&nbsp;</span>问题的列：国家 年 男性 女性 ？</a></span><ul class=\"toc-item\"><li><span><a href=\"#melt：确定列：-国家-年；男女变成一个variable-但含有两个信息：f/m-+-age\" data-toc-modified-id=\"melt：确定列：-国家-年；男女变成一个variable-但含有两个信息：f/m-+-age-1.5.1\"><span class=\"toc-item-num\">1.5.1&nbsp;&nbsp;</span>melt：确定列： 国家 年；男女变成一个variable 但含有两个信息：f/m + age</a></span></li><li><span><a href=\"#新建变量：.str[-]-提取变量的文字或数字-分开作为新的变量\" data-toc-modified-id=\"新建变量：.str[-]-提取变量的文字或数字-分开作为新的变量-1.5.2\"><span class=\"toc-item-num\">1.5.2&nbsp;&nbsp;</span>新建变量：.str[ ] 提取变量的文字或数字 分开作为新的变量</a></span></li><li><span><a href=\"#Splitting-a-column-with-.split()-and-.get()\" data-toc-modified-id=\"Splitting-a-column-with-.split()-and-.get()-1.5.3\"><span class=\"toc-item-num\">1.5.3&nbsp;&nbsp;</span>Splitting a column with .split() and .get()</a></span></li></ul></li><li><span><a href=\"#pd.concat结合多个rows\" data-toc-modified-id=\"pd.concat结合多个rows-1.6\"><span class=\"toc-item-num\">1.6&nbsp;&nbsp;</span>pd.concat结合多个rows</a></span></li><li><span><a href=\"#成百上千datasets合并\" data-toc-modified-id=\"成百上千datasets合并-1.7\"><span class=\"toc-item-num\">1.7&nbsp;&nbsp;</span>成百上千datasets合并</a></span></li><li><span><a href=\"#Merge类似SQL_join\" data-toc-modified-id=\"Merge类似SQL_join-1.8\"><span class=\"toc-item-num\">1.8&nbsp;&nbsp;</span>Merge类似SQL_join</a></span><ul class=\"toc-item\"><li><span><a href=\"#pd.merge(left=df1,-right=df2,-on=None(两个df-join的列名字不同)，lefton='列‘，righton='列‘)\" data-toc-modified-id=\"pd.merge(left=df1,-right=df2,-on=None(两个df-join的列名字不同)，lefton='列‘，righton='列‘)-1.8.1\"><span class=\"toc-item-num\">1.8.1&nbsp;&nbsp;</span>pd.merge(left=df1, right=df2, on=None(两个df join的列名字不同)，lefton='列‘，righton='列‘)</a></span></li></ul></li></ul></li><li><span><a href=\"#看Data-Structure\" data-toc-modified-id=\"看Data-Structure-2\"><span class=\"toc-item-num\">2&nbsp;&nbsp;</span>看Data Structure</a></span><ul class=\"toc-item\"><li><span><a href=\"#categorical-column-性别-----.astype('category')\" data-toc-modified-id=\"categorical-column-性别-----.astype('category')-2.1\"><span class=\"toc-item-num\">2.1&nbsp;&nbsp;</span>categorical column 性别 --- .astype('category')</a></span></li><li><span><a href=\"#float.54--numeric-data----pd.to_numeric(df[X],errors='coerce')\" data-toc-modified-id=\"float.54--numeric-data----pd.to_numeric(df[X],errors='coerce')-2.2\"><span class=\"toc-item-num\">2.2&nbsp;&nbsp;</span>float.54--numeric data ---pd.to_numeric(df[X],errors='coerce')</a></span><ul class=\"toc-item\"><li><span><a href=\"#df.info()------df.head()/tail()---df.columns\" data-toc-modified-id=\"df.info()------df.head()/tail()---df.columns-2.2.1\"><span class=\"toc-item-num\">2.2.1&nbsp;&nbsp;</span>df.info()      df.head()/tail()   df.columns</a></span></li></ul></li><li><span><a href=\"#有缺失值的\" data-toc-modified-id=\"有缺失值的-2.3\"><span class=\"toc-item-num\">2.3&nbsp;&nbsp;</span>有缺失值的</a></span></li><li><span><a href=\"#是object形态的变量--text-data显示\" data-toc-modified-id=\"是object形态的变量--text-data显示-2.4\"><span class=\"toc-item-num\">2.4&nbsp;&nbsp;</span>是object形态的变量--text data显示</a></span></li><li><span><a href=\"#锁定categorical变量--value的重复\" data-toc-modified-id=\"锁定categorical变量--value的重复-2.5\"><span class=\"toc-item-num\">2.5&nbsp;&nbsp;</span>锁定categorical变量--value的重复</a></span><ul class=\"toc-item\"><li><span><a href=\"#df['col_name'].value_counts(dropna=False)\" data-toc-modified-id=\"df['col_name'].value_counts(dropna=False)-2.5.1\"><span class=\"toc-item-num\">2.5.1&nbsp;&nbsp;</span>df['col_name'].value_counts(dropna=False)</a></span></li></ul></li></ul></li><li><span><a href=\"#Data-Cleaning\" data-toc-modified-id=\"Data-Cleaning-3\"><span class=\"toc-item-num\">3&nbsp;&nbsp;</span>Data Cleaning</a></span><ul class=\"toc-item\"><li><span><a href=\"#string-manipulation--'re'找pattern\" data-toc-modified-id=\"string-manipulation--'re'找pattern-3.1\"><span class=\"toc-item-num\">3.1&nbsp;&nbsp;</span>string manipulation--'re'找pattern</a></span></li><li><span><a href=\"#duplicate-data,-Missing-data\" data-toc-modified-id=\"duplicate-data,-Missing-data-3.2\"><span class=\"toc-item-num\">3.2&nbsp;&nbsp;</span>duplicate data, Missing data</a></span><ul class=\"toc-item\"><li><span><a href=\"#完全相同的数据去掉:-df.drop_duplicates()\" data-toc-modified-id=\"完全相同的数据去掉:-df.drop_duplicates()-3.2.1\"><span class=\"toc-item-num\">3.2.1&nbsp;&nbsp;</span>完全相同的数据去掉: df.drop_duplicates()</a></span></li><li><span><a href=\"#missing-data-drop-or-fill-:df_droped=df.dropna()\" data-toc-modified-id=\"missing-data-drop-or-fill-:df_droped=df.dropna()-3.2.2\"><span class=\"toc-item-num\">3.2.2&nbsp;&nbsp;</span>missing data drop or fill :df_droped=df.dropna()</a></span></li></ul></li></ul></li><li><span><a href=\"#Data的总视\" data-toc-modified-id=\"Data的总视-4\"><span class=\"toc-item-num\">4&nbsp;&nbsp;</span>Data的总视</a></span><ul class=\"toc-item\"><li><ul class=\"toc-item\"><li><span><a href=\"#df.describe()\" data-toc-modified-id=\"df.describe()-4.0.1\"><span class=\"toc-item-num\">4.0.1&nbsp;&nbsp;</span>df.describe()</a></span></li><li><span><a href=\"#df.hist(bins=50,-figsize=(20,15))\" data-toc-modified-id=\"df.hist(bins=50,-figsize=(20,15))-4.0.2\"><span class=\"toc-item-num\">4.0.2&nbsp;&nbsp;</span>df.hist(bins=50, figsize=(20,15))</a></span></li></ul></li><li><span><a href=\"#总row数无null,平均值,方差,range\" data-toc-modified-id=\"总row数无null,平均值,方差,range-4.1\"><span class=\"toc-item-num\">4.1&nbsp;&nbsp;</span>总row数无null,平均值,方差,range</a></span></li><li><span><a href=\"#看Age大于110的数字：potential-outliers\" data-toc-modified-id=\"看Age大于110的数字：potential-outliers-4.2\"><span class=\"toc-item-num\">4.2&nbsp;&nbsp;</span>看Age大于110的数字：potential outliers</a></span></li></ul></li><li><span><a href=\"#作图Boxplot\" data-toc-modified-id=\"作图Boxplot-5\"><span class=\"toc-item-num\">5&nbsp;&nbsp;</span>作图Boxplot</a></span></li><li><span><a href=\"#作图histogram：分布\" data-toc-modified-id=\"作图histogram：分布-6\"><span class=\"toc-item-num\">6&nbsp;&nbsp;</span>作图histogram：分布</a></span><ul class=\"toc-item\"><li><ul class=\"toc-item\"><li><span><a href=\"#是否存在capped\" data-toc-modified-id=\"是否存在capped-6.0.1\"><span class=\"toc-item-num\">6.0.1&nbsp;&nbsp;</span>是否存在capped</a></span></li><li><span><a href=\"#是否histograms--tail-heavy:\" data-toc-modified-id=\"是否histograms--tail-heavy:-6.0.2\"><span class=\"toc-item-num\">6.0.2&nbsp;&nbsp;</span>是否histograms--tail heavy:</a></span></li></ul></li><li><span><a href=\"#全部histograms：df1.hist(bins=50,-figsize=(20,15))\" data-toc-modified-id=\"全部histograms：df1.hist(bins=50,-figsize=(20,15))-6.1\"><span class=\"toc-item-num\">6.1&nbsp;&nbsp;</span>全部histograms：df1.hist(bins=50, figsize=(20,15))</a></span></li><li><span><a href=\"#单个histogram--更改X：ange\" data-toc-modified-id=\"单个histogram--更改X：ange-6.2\"><span class=\"toc-item-num\">6.2&nbsp;&nbsp;</span>单个histogram--更改X：ange</a></span></li><li><span><a href=\"#df.iloc[:,-1:10]-取第2列到第9列，不要10，0打头\" data-toc-modified-id=\"df.iloc[:,-1:10]-取第2列到第9列，不要10，0打头-6.3\"><span class=\"toc-item-num\">6.3&nbsp;&nbsp;</span>df.iloc[:, 1:10] 取第2列到第9列，不要10，0打头</a></span></li><li><span><a href=\"#df2-=-df1.iloc[:,1:14]-去除了第一列accountID\" data-toc-modified-id=\"df2-=-df1.iloc[:,1:14]-去除了第一列accountID-6.4\"><span class=\"toc-item-num\">6.4&nbsp;&nbsp;</span>df2 = df1.iloc[:,1:14] 去除了第一列accountID</a></span></li><li><span><a href=\"#选取部分df作为df\" data-toc-modified-id=\"选取部分df作为df-6.5\"><span class=\"toc-item-num\">6.5&nbsp;&nbsp;</span>选取部分df作为df</a></span></li><li><span><a href=\"#有条件的去掉column根据缺失值\" data-toc-modified-id=\"有条件的去掉column根据缺失值-6.6\"><span class=\"toc-item-num\">6.6&nbsp;&nbsp;</span>有条件的去掉column根据缺失值</a></span></li><li><span><a href=\"#apply()--transform-a-column-DF\" data-toc-modified-id=\"apply()--transform-a-column-DF-6.7\"><span class=\"toc-item-num\">6.7&nbsp;&nbsp;</span>apply()  transform a column DF</a></span></li><li><span><a href=\"#Map()---将dictionary作为新列引入Df，根据DF的一列\" data-toc-modified-id=\"Map()---将dictionary作为新列引入Df，根据DF的一列-6.8\"><span class=\"toc-item-num\">6.8&nbsp;&nbsp;</span>Map()---将dictionary作为新列引入Df，根据DF的一列</a></span></li></ul></li><li><span><a href=\"#对DF运用自定义function去处理\" data-toc-modified-id=\"对DF运用自定义function去处理-7\"><span class=\"toc-item-num\">7&nbsp;&nbsp;</span>对DF运用自定义function去处理</a></span></li><li><span><a href=\"#引入median-针对credit_score的缺失值\" data-toc-modified-id=\"引入median-针对credit_score的缺失值-8\"><span class=\"toc-item-num\">8&nbsp;&nbsp;</span>引入median 针对credit_score的缺失值</a></span><ul class=\"toc-item\"><li><span><a href=\"#标准化zscore\" data-toc-modified-id=\"标准化zscore-8.1\"><span class=\"toc-item-num\">8.1&nbsp;&nbsp;</span>标准化zscore</a></span></li></ul></li><li><span><a href=\"#分割数据train和test数据集\" data-toc-modified-id=\"分割数据train和test数据集-9\"><span class=\"toc-item-num\">9&nbsp;&nbsp;</span>分割数据train和test数据集</a></span><ul class=\"toc-item\"><li><span><a href=\"#stratified-sample很重要的新建变量可以考虑\" data-toc-modified-id=\"stratified-sample很重要的新建变量可以考虑-9.1\"><span class=\"toc-item-num\">9.1&nbsp;&nbsp;</span>stratified sample很重要的新建变量可以考虑</a></span></li></ul></li><li><span><a href=\"#Correlation\" data-toc-modified-id=\"Correlation-10\"><span class=\"toc-item-num\">10&nbsp;&nbsp;</span>Correlation</a></span><ul class=\"toc-item\"><li><span><a href=\"#画图scatter-plot\" data-toc-modified-id=\"画图scatter-plot-10.1\"><span class=\"toc-item-num\">10.1&nbsp;&nbsp;</span>画图scatter plot</a></span></li><li><span><a href=\"#整体计算两个之间的相关系数\" data-toc-modified-id=\"整体计算两个之间的相关系数-10.2\"><span class=\"toc-item-num\">10.2&nbsp;&nbsp;</span>整体计算两个之间的相关系数</a></span><ul class=\"toc-item\"><li><span><a href=\"#corr_matrix-=-df.corr()\" data-toc-modified-id=\"corr_matrix-=-df.corr()-10.2.1\"><span class=\"toc-item-num\">10.2.1&nbsp;&nbsp;</span>corr_matrix = df.corr()</a></span></li><li><span><a href=\"#corr_matrix-[‘目标列'].sort_values(ascending=False)\" data-toc-modified-id=\"corr_matrix-[‘目标列'].sort_values(ascending=False)-10.2.2\"><span class=\"toc-item-num\">10.2.2&nbsp;&nbsp;</span>corr_matrix [‘目标列'].sort_values(ascending=False)</a></span></li></ul></li></ul></li><li><span><a href=\"#如何转化target列\" data-toc-modified-id=\"如何转化target列-11\"><span class=\"toc-item-num\">11&nbsp;&nbsp;</span>如何转化target列</a></span><ul class=\"toc-item\"><li><span><a href=\"#转化categorical为numeric变量\" data-toc-modified-id=\"转化categorical为numeric变量-11.1\"><span class=\"toc-item-num\">11.1&nbsp;&nbsp;</span>转化categorical为numeric变量</a></span></li><li><span><a href=\"#转化为只要买了的都是1，没有2\" data-toc-modified-id=\"转化为只要买了的都是1，没有2-11.2\"><span class=\"toc-item-num\">11.2&nbsp;&nbsp;</span>转化为只要买了的都是1，没有2</a></span></li></ul></li><li><span><a href=\"#AttributeCombinations需再考虑\" data-toc-modified-id=\"AttributeCombinations需再考虑-12\"><span class=\"toc-item-num\">12&nbsp;&nbsp;</span>AttributeCombinations需再考虑</a></span></li><li><span><a href=\"#准备数据为机器学习Algorithms\" data-toc-modified-id=\"准备数据为机器学习Algorithms-13\"><span class=\"toc-item-num\">13&nbsp;&nbsp;</span>准备数据为机器学习Algorithms</a></span><ul class=\"toc-item\"><li><span><a href=\"#去掉train数据的target变量\" data-toc-modified-id=\"去掉train数据的target变量-13.1\"><span class=\"toc-item-num\">13.1&nbsp;&nbsp;</span>去掉train数据的target变量</a></span></li><li><span><a href=\"#Data-Cleaning\" data-toc-modified-id=\"Data-Cleaning-13.2\"><span class=\"toc-item-num\">13.2&nbsp;&nbsp;</span>Data Cleaning</a></span><ul class=\"toc-item\"><li><span><a href=\"#方法1\" data-toc-modified-id=\"方法1-13.2.1\"><span class=\"toc-item-num\">13.2.1&nbsp;&nbsp;</span>方法1</a></span></li><li><span><a href=\"#方法2\" data-toc-modified-id=\"方法2-13.2.2\"><span class=\"toc-item-num\">13.2.2&nbsp;&nbsp;</span>方法2</a></span></li></ul></li><li><span><a href=\"#处理Text,Categorical-Attributes\" data-toc-modified-id=\"处理Text,Categorical-Attributes-13.3\"><span class=\"toc-item-num\">13.3&nbsp;&nbsp;</span>处理Text,Categorical Attributes</a></span><ul class=\"toc-item\"><li><span><a href=\"#Scikit-Learn-OneHotEncoder\" data-toc-modified-id=\"Scikit-Learn-OneHotEncoder-13.3.1\"><span class=\"toc-item-num\">13.3.1&nbsp;&nbsp;</span>Scikit-Learn OneHotEncoder</a></span></li></ul></li><li><span><a href=\"#custom-transformer----extra-attributes\" data-toc-modified-id=\"custom-transformer----extra-attributes-13.4\"><span class=\"toc-item-num\">13.4&nbsp;&nbsp;</span>custom transformer----extra attributes</a></span></li></ul></li><li><span><a href=\"#自己的处理numeric变量标准化\" data-toc-modified-id=\"自己的处理numeric变量标准化-14\"><span class=\"toc-item-num\">14&nbsp;&nbsp;</span>自己的处理numeric变量标准化</a></span></li></ul></div>"
   ]
  },
  {
   "cell_type": "markdown",
   "metadata": {},
   "source": [
    "## 准备workdirectory--OS"
   ]
  },
  {
   "cell_type": "code",
   "execution_count": 203,
   "metadata": {},
   "outputs": [
    {
     "data": {
      "text/plain": [
       "'/Users/libolin/Downloads'"
      ]
     },
     "execution_count": 203,
     "metadata": {},
     "output_type": "execute_result"
    }
   ],
   "source": [
    "import os\n",
    "\n",
    "# 看现有的工作地址Retrieve current working directory (`cwd`)\n",
    "cwd = os.getcwd()\n",
    "cwd"
   ]
  },
  {
   "cell_type": "code",
   "execution_count": 206,
   "metadata": {
    "collapsed": true
   },
   "outputs": [],
   "source": [
    "#看工作地址所有的文件List all files and directories in current directory\n",
    "os.listdir('.')"
   ]
  },
  {
   "cell_type": "code",
   "execution_count": 207,
   "metadata": {
    "collapsed": true
   },
   "outputs": [],
   "source": [
    "#设置新的文件地址：\n",
    "path=\"/Users/libolin/Downloads\"\n",
    "os.chdir(path)"
   ]
  },
  {
   "cell_type": "markdown",
   "metadata": {},
   "source": [
    "# data frame的处理：load + pivot + 结合 \n",
    "## pd-import +pd.ExcelFile('excel-path').parse('sheet1')"
   ]
  },
  {
   "cell_type": "code",
   "execution_count": 5,
   "metadata": {
    "collapsed": true
   },
   "outputs": [],
   "source": [
    "#引入Pandas\n",
    "import pandas as pd\n",
    "\n",
    "#简化这个Excel文件的链接\n",
    "file = '/Users/libolin/Downloads/NationalBankCanada/DataComp- Credit Card Insurance Data Set.xlsx'\n",
    "\n",
    "#引入这个Excel：Load spreadsheet 命名X1\n",
    "xl = pd.ExcelFile(file)"
   ]
  },
  {
   "cell_type": "code",
   "execution_count": 7,
   "metadata": {},
   "outputs": [
    {
     "name": "stdout",
     "output_type": "stream",
     "text": [
      "['Sheet1']\n"
     ]
    }
   ],
   "source": [
    "# 写出X1(excel)的sheet的名字：Print the sheet names\n",
    "print(xl.sheet_names)"
   ]
  },
  {
   "cell_type": "code",
   "execution_count": 8,
   "metadata": {
    "collapsed": true
   },
   "outputs": [],
   "source": [
    "# 将这个sheet的名字倒入成为pd dataframe\n",
    "df1 = xl.parse('Sheet1')"
   ]
  },
  {
   "cell_type": "code",
   "execution_count": 15,
   "metadata": {},
   "outputs": [
    {
     "name": "stdout",
     "output_type": "stream",
     "text": [
      "['Functions on Arrays - template ', 'Functions on Arrays - Solution']\n"
     ]
    }
   ],
   "source": [
    "\n",
    "#重复实验\n",
    "\n",
    "x2 = pd.ExcelFile('/Users/libolin/Downloads/EXCEL/Functions-on-Arrays.xlsx')\n",
    "print(x2.sheet_names)"
   ]
  },
  {
   "cell_type": "code",
   "execution_count": 20,
   "metadata": {
    "collapsed": true
   },
   "outputs": [],
   "source": [
    "df = x2.parse('Functions on Arrays - template ')"
   ]
  },
  {
   "cell_type": "markdown",
   "metadata": {},
   "source": [
    "## dataframe写出Excel"
   ]
  },
  {
   "cell_type": "code",
   "execution_count": 21,
   "metadata": {
    "collapsed": true
   },
   "outputs": [],
   "source": [
    "# 建立写出引擎Specify a writer\n",
    "writer = pd.ExcelWriter('example.xlsx', engine='xlsxwriter')\n",
    "\n",
    "# dataframe写出（引擎，sheet名字）：Write your DataFrame to a file     \n",
    "df2.to_excel(writer, 'Sheet1')\n",
    "\n",
    "# 保存：Save the result 写出到/Users/libolin/Downloads/example.xlsx\n",
    "writer.save()"
   ]
  },
  {
   "cell_type": "code",
   "execution_count": null,
   "metadata": {
    "collapsed": true
   },
   "outputs": [],
   "source": [
    "# Write the DataFrame to csv\n",
    "df.to_csv(\"example.csv\")"
   ]
  },
  {
   "cell_type": "markdown",
   "metadata": {},
   "source": [
    "## Tidy Date---改善table形式\n",
    "### **pd.melt** 将columns转化为rows\n",
    "- 当columns有多个具有相同的性质时 就可以合并了\n"
   ]
  },
  {
   "cell_type": "code",
   "execution_count": null,
   "metadata": {
    "collapsed": true
   },
   "outputs": [],
   "source": [
    "# Print the head of airquality\n",
    "print(airquality.head())\n",
    "\n",
    "# Melt airquality: airquality_melt\n",
    "airquality_melt = pd.melt(airquality, id_vars=['Month', 'Day'], \n",
    "                          var_name='measurement', value_name='reading')\n",
    "\n",
    "# Print the head of airquality_melt\n",
    "print(airquality_melt.head())"
   ]
  },
  {
   "cell_type": "markdown",
   "metadata": {},
   "source": [
    "        Ozone  Solar.R  Wind  Temp  Month  Day\n",
    "    0   41.0    190.0   7.4    67      5    1\n",
    "    1   36.0    118.0   8.0    72      5    2\n",
    "    2   12.0    149.0  12.6    74      5    3\n",
    "    3   18.0    313.0  11.5    62      5    4\n",
    "    4    NaN      NaN  14.3    56      5    5\n",
    "    \n",
    "         Month  Day measurement  reading\n",
    "    0      5    1       Ozone     41.0\n",
    "    1      5    2       Ozone     36.0\n",
    "    2      5    3       Ozone     12.0\n",
    "    3      5    4       Ozone     18.0\n",
    "    4      5    5       Ozone      NaN\n",
    "\n",
    "## **Pivoting **将unique值转化为columns\n",
    "- 一个column中出现了不同的variables\n"
   ]
  },
  {
   "cell_type": "code",
   "execution_count": null,
   "metadata": {
    "collapsed": true
   },
   "outputs": [],
   "source": [
    "# 看图标1:Print the head of airquality_melt\n",
    "print(airquality_melt.head())\n",
    "\n",
    "#1.把一些列固定：‘Month', 'Day'\n",
    "#2.把measurement里面的多个值变成columns\n",
    "#3.把reading这个column消失---其值就分别在了多个列的rows里面\n",
    "# Pivot airquality_melt: airquality_pivot\n",
    "airquality_pivot = airquality_melt.pivot_table(index=['Month', 'Day'],\n",
    "                                               columns='measurement', values='reading')\n",
    "\n",
    "# 4.出现问题month是多个rows的---变成month只有一个row\n",
    "#Print the head of airquality_pivot\n",
    "print(airquality_pivot.head())"
   ]
  },
  {
   "cell_type": "markdown",
   "metadata": {},
   "source": [
    "     Month  Day measurement  reading\n",
    "     5    1       Ozone     41.0\n",
    "     5    2       Ozone     36.0\n",
    "     5    3       Ozone     12.0\n",
    "     5    4       Ozone     18.0\n",
    "     5    5       Ozone      NaN\n",
    "\n",
    "\n",
    "    measurement  Ozone  Solar.R  Temp  Wind\n",
    "    Month Day                              \n",
    "    5     1       41.0    190.0  67.0   7.4\n",
    "          2       36.0    118.0  72.0   8.0\n",
    "          3       12.0    149.0  74.0  12.6\n",
    "          4       18.0    313.0  62.0  11.5\n",
    "          5        NaN      NaN  56.0  14.3\n",
    "          \n",
    "### MultiIndex帮助pivot\n",
    "#### get back the original DataFrame from the pivoted DataFrame: .reset_index()\n",
    "**After pivoting airquality_melt in the previous exercise, you didn't quite get back the original DataFrame.What you got back instead was a pandas DataFrame with a hierarchical index (also known as a MultiIndex).**\n"
   ]
  },
  {
   "cell_type": "code",
   "execution_count": null,
   "metadata": {
    "collapsed": true
   },
   "outputs": [],
   "source": [
    "#5.将新建的table的index打出来看\n",
    "#Print the index of airquality_pivot\n",
    "print(airquality_pivot.index)\n",
    "\n",
    "#6.更新新建的table的index\n",
    "#Reset the index of airquality_pivot: airquality_pivot\n",
    "airquality_pivot = airquality_pivot.reset_index()\n",
    "\n",
    "# Print the new index of airquality_pivot\n",
    "print(airquality_pivot.index)\n",
    "\n",
    "# Print the head of airquality_pivot\n",
    "print(airquality_pivot.head())\n"
   ]
  },
  {
   "cell_type": "markdown",
   "metadata": {},
   "source": [
    "    measurement  Month  Day  Ozone  Solar.R  Temp  Wind\n",
    "    0                5    1   41.0    190.0  67.0   7.4\n",
    "    1                5    2   36.0    118.0  72.0   8.0\n",
    "    2                5    3   12.0    149.0  74.0  12.6\n",
    "    3                5    4   18.0    313.0  62.0  11.5\n",
    "    4                5    5    NaN      NaN  56.0  14.3\n",
    "    \n",
    "### deal with duplicate values---providing an aggregation function\n",
    "#### .pivot_table(index=[‘固定列’]，columns='要拓展成多个列的那一列',values='消失的列--有数字分布多个列'，aggfunc=np.mean）\n",
    "\n",
    "- **airquality_dup.shape**  经过变化后重复的数据集。\n",
    "Out[4]: (1224, 4)\n",
    "\n",
    "- **airquality_melt.shape**   原有的数据集。\n",
    "Out[5]: (612, 4)\n"
   ]
  },
  {
   "cell_type": "code",
   "execution_count": null,
   "metadata": {
    "collapsed": true
   },
   "outputs": [],
   "source": [
    "#1.高级版本的转化重复的数据集--平均column： Pivot airquality_dup: airquality_pivot\n",
    "airquality_pivot = airquality_dup.pivot_table(index=['Month', 'Day'], \n",
    "                                              columns='measurement', \n",
    "                                              values='reading', \n",
    "                                              aggfunc=np.mean)\n",
    "\n",
    "# 2.重新设定产生table的index： Reset the index of airquality_pivot\n",
    "airquality_pivot = airquality_pivot.reset_index()\n",
    "\n",
    "# Print the head of airquality_pivot\n",
    "print(airquality_pivot.head())\n",
    "\n",
    "# Print the head of airquality\n",
    "print(airquality.head())"
   ]
  },
  {
   "cell_type": "markdown",
   "metadata": {},
   "source": [
    "\n",
    "    measurement  Month  Day  Ozone  Solar.R  Temp  Wind\n",
    "    0                5    1   41.0    190.0  67.0   7.4\n",
    "    1                5    2   36.0    118.0  72.0   8.0\n",
    "    2                5    3   12.0    149.0  74.0  12.6\n",
    "    3                5    4   18.0    313.0  62.0  11.5\n",
    "    4                5    5    NaN      NaN  56.0  14.3\n",
    "    \n",
    "    \n",
    "## 问题的列：国家 年 男性 女性 ？ \n",
    "### melt：确定列： 国家 年；男女变成一个variable 但含有两个信息：f/m + age\n",
    "- 列：国家  年  variable(都是男和女）   value(之前男女列里的值)\n",
    "### 新建变量：.str[ ] 提取变量的文字或数字 分开作为新的变量\n",
    "### Splitting a column with .split() and .get()"
   ]
  },
  {
   "cell_type": "code",
   "execution_count": 147,
   "metadata": {},
   "outputs": [
    {
     "data": {
      "text/html": [
       "<div>\n",
       "<style>\n",
       "    .dataframe thead tr:only-child th {\n",
       "        text-align: right;\n",
       "    }\n",
       "\n",
       "    .dataframe thead th {\n",
       "        text-align: left;\n",
       "    }\n",
       "\n",
       "    .dataframe tbody tr th {\n",
       "        vertical-align: top;\n",
       "    }\n",
       "</style>\n",
       "<table border=\"1\" class=\"dataframe\">\n",
       "  <thead>\n",
       "    <tr style=\"text-align: right;\">\n",
       "      <th></th>\n",
       "      <th>country</th>\n",
       "      <th>year</th>\n",
       "      <th>m014</th>\n",
       "      <th>m1524</th>\n",
       "      <th>m2534</th>\n",
       "      <th>m3544</th>\n",
       "      <th>m4554</th>\n",
       "      <th>m5564</th>\n",
       "      <th>m65</th>\n",
       "      <th>mu</th>\n",
       "      <th>f014</th>\n",
       "      <th>f1524</th>\n",
       "      <th>f2534</th>\n",
       "      <th>f3544</th>\n",
       "      <th>f4554</th>\n",
       "      <th>f5564</th>\n",
       "      <th>f65</th>\n",
       "      <th>fu</th>\n",
       "    </tr>\n",
       "  </thead>\n",
       "  <tbody>\n",
       "    <tr>\n",
       "      <th>0</th>\n",
       "      <td>AD</td>\n",
       "      <td>2000</td>\n",
       "      <td>0.0</td>\n",
       "      <td>0.0</td>\n",
       "      <td>1.0</td>\n",
       "      <td>0.0</td>\n",
       "      <td>0.0</td>\n",
       "      <td>0.0</td>\n",
       "      <td>0.0</td>\n",
       "      <td>NaN</td>\n",
       "      <td>NaN</td>\n",
       "      <td>NaN</td>\n",
       "      <td>NaN</td>\n",
       "      <td>NaN</td>\n",
       "      <td>NaN</td>\n",
       "      <td>NaN</td>\n",
       "      <td>NaN</td>\n",
       "      <td>NaN</td>\n",
       "    </tr>\n",
       "    <tr>\n",
       "      <th>1</th>\n",
       "      <td>AE</td>\n",
       "      <td>2000</td>\n",
       "      <td>2.0</td>\n",
       "      <td>4.0</td>\n",
       "      <td>4.0</td>\n",
       "      <td>6.0</td>\n",
       "      <td>5.0</td>\n",
       "      <td>12.0</td>\n",
       "      <td>10.0</td>\n",
       "      <td>NaN</td>\n",
       "      <td>3.0</td>\n",
       "      <td>16.0</td>\n",
       "      <td>1.0</td>\n",
       "      <td>3.0</td>\n",
       "      <td>0.0</td>\n",
       "      <td>0.0</td>\n",
       "      <td>4.0</td>\n",
       "      <td>NaN</td>\n",
       "    </tr>\n",
       "    <tr>\n",
       "      <th>2</th>\n",
       "      <td>AF</td>\n",
       "      <td>2000</td>\n",
       "      <td>52.0</td>\n",
       "      <td>228.0</td>\n",
       "      <td>183.0</td>\n",
       "      <td>149.0</td>\n",
       "      <td>129.0</td>\n",
       "      <td>94.0</td>\n",
       "      <td>80.0</td>\n",
       "      <td>NaN</td>\n",
       "      <td>93.0</td>\n",
       "      <td>414.0</td>\n",
       "      <td>565.0</td>\n",
       "      <td>339.0</td>\n",
       "      <td>205.0</td>\n",
       "      <td>99.0</td>\n",
       "      <td>36.0</td>\n",
       "      <td>NaN</td>\n",
       "    </tr>\n",
       "    <tr>\n",
       "      <th>3</th>\n",
       "      <td>AG</td>\n",
       "      <td>2000</td>\n",
       "      <td>0.0</td>\n",
       "      <td>0.0</td>\n",
       "      <td>0.0</td>\n",
       "      <td>0.0</td>\n",
       "      <td>0.0</td>\n",
       "      <td>0.0</td>\n",
       "      <td>1.0</td>\n",
       "      <td>NaN</td>\n",
       "      <td>1.0</td>\n",
       "      <td>1.0</td>\n",
       "      <td>1.0</td>\n",
       "      <td>0.0</td>\n",
       "      <td>0.0</td>\n",
       "      <td>0.0</td>\n",
       "      <td>0.0</td>\n",
       "      <td>NaN</td>\n",
       "    </tr>\n",
       "    <tr>\n",
       "      <th>4</th>\n",
       "      <td>AL</td>\n",
       "      <td>2000</td>\n",
       "      <td>2.0</td>\n",
       "      <td>19.0</td>\n",
       "      <td>21.0</td>\n",
       "      <td>14.0</td>\n",
       "      <td>24.0</td>\n",
       "      <td>19.0</td>\n",
       "      <td>16.0</td>\n",
       "      <td>NaN</td>\n",
       "      <td>3.0</td>\n",
       "      <td>11.0</td>\n",
       "      <td>10.0</td>\n",
       "      <td>8.0</td>\n",
       "      <td>8.0</td>\n",
       "      <td>5.0</td>\n",
       "      <td>11.0</td>\n",
       "      <td>NaN</td>\n",
       "    </tr>\n",
       "  </tbody>\n",
       "</table>\n",
       "</div>"
      ],
      "text/plain": [
       "  country  year  m014  m1524  m2534  m3544  m4554  m5564   m65  mu  f014  \\\n",
       "0      AD  2000   0.0    0.0    1.0    0.0    0.0    0.0   0.0 NaN   NaN   \n",
       "1      AE  2000   2.0    4.0    4.0    6.0    5.0   12.0  10.0 NaN   3.0   \n",
       "2      AF  2000  52.0  228.0  183.0  149.0  129.0   94.0  80.0 NaN  93.0   \n",
       "3      AG  2000   0.0    0.0    0.0    0.0    0.0    0.0   1.0 NaN   1.0   \n",
       "4      AL  2000   2.0   19.0   21.0   14.0   24.0   19.0  16.0 NaN   3.0   \n",
       "\n",
       "   f1524  f2534  f3544  f4554  f5564   f65  fu  \n",
       "0    NaN    NaN    NaN    NaN    NaN   NaN NaN  \n",
       "1   16.0    1.0    3.0    0.0    0.0   4.0 NaN  \n",
       "2  414.0  565.0  339.0  205.0   99.0  36.0 NaN  \n",
       "3    1.0    1.0    0.0    0.0    0.0   0.0 NaN  \n",
       "4   11.0   10.0    8.0    8.0    5.0  11.0 NaN  "
      ]
     },
     "execution_count": 147,
     "metadata": {},
     "output_type": "execute_result"
    }
   ],
   "source": [
    "#案例\n",
    "#1.引入CSV文件 发现有很多列是重复的信息\n",
    "import pandas as pd \n",
    "tb = pd.read_csv('/Users/libolin/Downloads/tb.csv')\n",
    "tb.head()"
   ]
  },
  {
   "cell_type": "code",
   "execution_count": 148,
   "metadata": {},
   "outputs": [
    {
     "data": {
      "text/html": [
       "<div>\n",
       "<style>\n",
       "    .dataframe thead tr:only-child th {\n",
       "        text-align: right;\n",
       "    }\n",
       "\n",
       "    .dataframe thead th {\n",
       "        text-align: left;\n",
       "    }\n",
       "\n",
       "    .dataframe tbody tr th {\n",
       "        vertical-align: top;\n",
       "    }\n",
       "</style>\n",
       "<table border=\"1\" class=\"dataframe\">\n",
       "  <thead>\n",
       "    <tr style=\"text-align: right;\">\n",
       "      <th></th>\n",
       "      <th>country</th>\n",
       "      <th>year</th>\n",
       "      <th>variable</th>\n",
       "      <th>value</th>\n",
       "    </tr>\n",
       "  </thead>\n",
       "  <tbody>\n",
       "    <tr>\n",
       "      <th>0</th>\n",
       "      <td>AD</td>\n",
       "      <td>2000</td>\n",
       "      <td>m014</td>\n",
       "      <td>0.0</td>\n",
       "    </tr>\n",
       "    <tr>\n",
       "      <th>1</th>\n",
       "      <td>AE</td>\n",
       "      <td>2000</td>\n",
       "      <td>m014</td>\n",
       "      <td>2.0</td>\n",
       "    </tr>\n",
       "    <tr>\n",
       "      <th>2</th>\n",
       "      <td>AF</td>\n",
       "      <td>2000</td>\n",
       "      <td>m014</td>\n",
       "      <td>52.0</td>\n",
       "    </tr>\n",
       "    <tr>\n",
       "      <th>3</th>\n",
       "      <td>AG</td>\n",
       "      <td>2000</td>\n",
       "      <td>m014</td>\n",
       "      <td>0.0</td>\n",
       "    </tr>\n",
       "    <tr>\n",
       "      <th>4</th>\n",
       "      <td>AL</td>\n",
       "      <td>2000</td>\n",
       "      <td>m014</td>\n",
       "      <td>2.0</td>\n",
       "    </tr>\n",
       "  </tbody>\n",
       "</table>\n",
       "</div>"
      ],
      "text/plain": [
       "  country  year variable  value\n",
       "0      AD  2000     m014    0.0\n",
       "1      AE  2000     m014    2.0\n",
       "2      AF  2000     m014   52.0\n",
       "3      AG  2000     m014    0.0\n",
       "4      AL  2000     m014    2.0"
      ]
     },
     "execution_count": 148,
     "metadata": {},
     "output_type": "execute_result"
    }
   ],
   "source": [
    "# 2.只保留country和year两个列，其他都变成了variable和value两个列\n",
    "# Melt tb: tb_melt\n",
    "tb_melt = pd.melt(tb, id_vars=['country', 'year'])\n",
    "tb_melt.head()"
   ]
  },
  {
   "cell_type": "code",
   "execution_count": 150,
   "metadata": {},
   "outputs": [
    {
     "data": {
      "text/html": [
       "<div>\n",
       "<style>\n",
       "    .dataframe thead tr:only-child th {\n",
       "        text-align: right;\n",
       "    }\n",
       "\n",
       "    .dataframe thead th {\n",
       "        text-align: left;\n",
       "    }\n",
       "\n",
       "    .dataframe tbody tr th {\n",
       "        vertical-align: top;\n",
       "    }\n",
       "</style>\n",
       "<table border=\"1\" class=\"dataframe\">\n",
       "  <thead>\n",
       "    <tr style=\"text-align: right;\">\n",
       "      <th></th>\n",
       "      <th>country</th>\n",
       "      <th>year</th>\n",
       "      <th>variable</th>\n",
       "      <th>value</th>\n",
       "      <th>gender</th>\n",
       "      <th>age_group</th>\n",
       "    </tr>\n",
       "  </thead>\n",
       "  <tbody>\n",
       "    <tr>\n",
       "      <th>0</th>\n",
       "      <td>AD</td>\n",
       "      <td>2000</td>\n",
       "      <td>m014</td>\n",
       "      <td>0.0</td>\n",
       "      <td>m</td>\n",
       "      <td>014</td>\n",
       "    </tr>\n",
       "    <tr>\n",
       "      <th>1</th>\n",
       "      <td>AE</td>\n",
       "      <td>2000</td>\n",
       "      <td>m014</td>\n",
       "      <td>2.0</td>\n",
       "      <td>m</td>\n",
       "      <td>014</td>\n",
       "    </tr>\n",
       "    <tr>\n",
       "      <th>2</th>\n",
       "      <td>AF</td>\n",
       "      <td>2000</td>\n",
       "      <td>m014</td>\n",
       "      <td>52.0</td>\n",
       "      <td>m</td>\n",
       "      <td>014</td>\n",
       "    </tr>\n",
       "    <tr>\n",
       "      <th>3</th>\n",
       "      <td>AG</td>\n",
       "      <td>2000</td>\n",
       "      <td>m014</td>\n",
       "      <td>0.0</td>\n",
       "      <td>m</td>\n",
       "      <td>014</td>\n",
       "    </tr>\n",
       "    <tr>\n",
       "      <th>4</th>\n",
       "      <td>AL</td>\n",
       "      <td>2000</td>\n",
       "      <td>m014</td>\n",
       "      <td>2.0</td>\n",
       "      <td>m</td>\n",
       "      <td>014</td>\n",
       "    </tr>\n",
       "  </tbody>\n",
       "</table>\n",
       "</div>"
      ],
      "text/plain": [
       "  country  year variable  value gender age_group\n",
       "0      AD  2000     m014    0.0      m       014\n",
       "1      AE  2000     m014    2.0      m       014\n",
       "2      AF  2000     m014   52.0      m       014\n",
       "3      AG  2000     m014    0.0      m       014\n",
       "4      AL  2000     m014    2.0      m       014"
      ]
     },
     "execution_count": 150,
     "metadata": {},
     "output_type": "execute_result"
    }
   ],
   "source": [
    "# 3.新建gender变量：通过variable都第一个文字确定：Create the 'gender' column\n",
    "tb_melt['gender'] = tb_melt.variable.str[0]\n",
    "# 4.新建age_group通过通过variable都第二个数字字都最后确定： Create the 'age_group' column\n",
    "tb_melt['age_group'] = tb_melt.variable.str[1:]\n",
    "\n",
    "tb_melt.head()"
   ]
  },
  {
   "cell_type": "code",
   "execution_count": 153,
   "metadata": {},
   "outputs": [
    {
     "data": {
      "text/html": [
       "<div>\n",
       "<style>\n",
       "    .dataframe thead tr:only-child th {\n",
       "        text-align: right;\n",
       "    }\n",
       "\n",
       "    .dataframe thead th {\n",
       "        text-align: left;\n",
       "    }\n",
       "\n",
       "    .dataframe tbody tr th {\n",
       "        vertical-align: top;\n",
       "    }\n",
       "</style>\n",
       "<table border=\"1\" class=\"dataframe\">\n",
       "  <thead>\n",
       "    <tr style=\"text-align: right;\">\n",
       "      <th></th>\n",
       "      <th>Date</th>\n",
       "      <th>Day</th>\n",
       "      <th>Cases_Guinea</th>\n",
       "      <th>Cases_Liberia</th>\n",
       "      <th>Cases_SierraLeone</th>\n",
       "      <th>Cases_Nigeria</th>\n",
       "      <th>Cases_Senegal</th>\n",
       "      <th>Cases_UnitedStates</th>\n",
       "      <th>Cases_Spain</th>\n",
       "      <th>Cases_Mali</th>\n",
       "      <th>Deaths_Guinea</th>\n",
       "      <th>Deaths_Liberia</th>\n",
       "      <th>Deaths_SierraLeone</th>\n",
       "      <th>Deaths_Nigeria</th>\n",
       "      <th>Deaths_Senegal</th>\n",
       "      <th>Deaths_UnitedStates</th>\n",
       "      <th>Deaths_Spain</th>\n",
       "      <th>Deaths_Mali</th>\n",
       "    </tr>\n",
       "  </thead>\n",
       "  <tbody>\n",
       "    <tr>\n",
       "      <th>0</th>\n",
       "      <td>1/5/2015</td>\n",
       "      <td>289</td>\n",
       "      <td>2776.0</td>\n",
       "      <td>NaN</td>\n",
       "      <td>10030.0</td>\n",
       "      <td>NaN</td>\n",
       "      <td>NaN</td>\n",
       "      <td>NaN</td>\n",
       "      <td>NaN</td>\n",
       "      <td>NaN</td>\n",
       "      <td>1786.0</td>\n",
       "      <td>NaN</td>\n",
       "      <td>2977.0</td>\n",
       "      <td>NaN</td>\n",
       "      <td>NaN</td>\n",
       "      <td>NaN</td>\n",
       "      <td>NaN</td>\n",
       "      <td>NaN</td>\n",
       "    </tr>\n",
       "    <tr>\n",
       "      <th>1</th>\n",
       "      <td>1/4/2015</td>\n",
       "      <td>288</td>\n",
       "      <td>2775.0</td>\n",
       "      <td>NaN</td>\n",
       "      <td>9780.0</td>\n",
       "      <td>NaN</td>\n",
       "      <td>NaN</td>\n",
       "      <td>NaN</td>\n",
       "      <td>NaN</td>\n",
       "      <td>NaN</td>\n",
       "      <td>1781.0</td>\n",
       "      <td>NaN</td>\n",
       "      <td>2943.0</td>\n",
       "      <td>NaN</td>\n",
       "      <td>NaN</td>\n",
       "      <td>NaN</td>\n",
       "      <td>NaN</td>\n",
       "      <td>NaN</td>\n",
       "    </tr>\n",
       "    <tr>\n",
       "      <th>2</th>\n",
       "      <td>1/3/2015</td>\n",
       "      <td>287</td>\n",
       "      <td>2769.0</td>\n",
       "      <td>8166.0</td>\n",
       "      <td>9722.0</td>\n",
       "      <td>NaN</td>\n",
       "      <td>NaN</td>\n",
       "      <td>NaN</td>\n",
       "      <td>NaN</td>\n",
       "      <td>NaN</td>\n",
       "      <td>1767.0</td>\n",
       "      <td>3496.0</td>\n",
       "      <td>2915.0</td>\n",
       "      <td>NaN</td>\n",
       "      <td>NaN</td>\n",
       "      <td>NaN</td>\n",
       "      <td>NaN</td>\n",
       "      <td>NaN</td>\n",
       "    </tr>\n",
       "    <tr>\n",
       "      <th>3</th>\n",
       "      <td>1/2/2015</td>\n",
       "      <td>286</td>\n",
       "      <td>NaN</td>\n",
       "      <td>8157.0</td>\n",
       "      <td>NaN</td>\n",
       "      <td>NaN</td>\n",
       "      <td>NaN</td>\n",
       "      <td>NaN</td>\n",
       "      <td>NaN</td>\n",
       "      <td>NaN</td>\n",
       "      <td>NaN</td>\n",
       "      <td>3496.0</td>\n",
       "      <td>NaN</td>\n",
       "      <td>NaN</td>\n",
       "      <td>NaN</td>\n",
       "      <td>NaN</td>\n",
       "      <td>NaN</td>\n",
       "      <td>NaN</td>\n",
       "    </tr>\n",
       "    <tr>\n",
       "      <th>4</th>\n",
       "      <td>12/31/2014</td>\n",
       "      <td>284</td>\n",
       "      <td>2730.0</td>\n",
       "      <td>8115.0</td>\n",
       "      <td>9633.0</td>\n",
       "      <td>NaN</td>\n",
       "      <td>NaN</td>\n",
       "      <td>NaN</td>\n",
       "      <td>NaN</td>\n",
       "      <td>NaN</td>\n",
       "      <td>1739.0</td>\n",
       "      <td>3471.0</td>\n",
       "      <td>2827.0</td>\n",
       "      <td>NaN</td>\n",
       "      <td>NaN</td>\n",
       "      <td>NaN</td>\n",
       "      <td>NaN</td>\n",
       "      <td>NaN</td>\n",
       "    </tr>\n",
       "  </tbody>\n",
       "</table>\n",
       "</div>"
      ],
      "text/plain": [
       "         Date  Day  Cases_Guinea  Cases_Liberia  Cases_SierraLeone  \\\n",
       "0    1/5/2015  289        2776.0            NaN            10030.0   \n",
       "1    1/4/2015  288        2775.0            NaN             9780.0   \n",
       "2    1/3/2015  287        2769.0         8166.0             9722.0   \n",
       "3    1/2/2015  286           NaN         8157.0                NaN   \n",
       "4  12/31/2014  284        2730.0         8115.0             9633.0   \n",
       "\n",
       "   Cases_Nigeria  Cases_Senegal  Cases_UnitedStates  Cases_Spain  Cases_Mali  \\\n",
       "0            NaN            NaN                 NaN          NaN         NaN   \n",
       "1            NaN            NaN                 NaN          NaN         NaN   \n",
       "2            NaN            NaN                 NaN          NaN         NaN   \n",
       "3            NaN            NaN                 NaN          NaN         NaN   \n",
       "4            NaN            NaN                 NaN          NaN         NaN   \n",
       "\n",
       "   Deaths_Guinea  Deaths_Liberia  Deaths_SierraLeone  Deaths_Nigeria  \\\n",
       "0         1786.0             NaN              2977.0             NaN   \n",
       "1         1781.0             NaN              2943.0             NaN   \n",
       "2         1767.0          3496.0              2915.0             NaN   \n",
       "3            NaN          3496.0                 NaN             NaN   \n",
       "4         1739.0          3471.0              2827.0             NaN   \n",
       "\n",
       "   Deaths_Senegal  Deaths_UnitedStates  Deaths_Spain  Deaths_Mali  \n",
       "0             NaN                  NaN           NaN          NaN  \n",
       "1             NaN                  NaN           NaN          NaN  \n",
       "2             NaN                  NaN           NaN          NaN  \n",
       "3             NaN                  NaN           NaN          NaN  \n",
       "4             NaN                  NaN           NaN          NaN  "
      ]
     },
     "execution_count": 153,
     "metadata": {},
     "output_type": "execute_result"
    }
   ],
   "source": [
    "#案例\n",
    "#1. 引入数据 观察多余的列 需要固定的列data day\n",
    "ebola= pd.read_csv('/Users/libolin/Downloads/ebola.csv')\n",
    "ebola.head()"
   ]
  },
  {
   "cell_type": "code",
   "execution_count": 155,
   "metadata": {},
   "outputs": [
    {
     "data": {
      "text/html": [
       "<div>\n",
       "<style>\n",
       "    .dataframe thead tr:only-child th {\n",
       "        text-align: right;\n",
       "    }\n",
       "\n",
       "    .dataframe thead th {\n",
       "        text-align: left;\n",
       "    }\n",
       "\n",
       "    .dataframe tbody tr th {\n",
       "        vertical-align: top;\n",
       "    }\n",
       "</style>\n",
       "<table border=\"1\" class=\"dataframe\">\n",
       "  <thead>\n",
       "    <tr style=\"text-align: right;\">\n",
       "      <th></th>\n",
       "      <th>Date</th>\n",
       "      <th>Day</th>\n",
       "      <th>type_country</th>\n",
       "      <th>counts</th>\n",
       "    </tr>\n",
       "  </thead>\n",
       "  <tbody>\n",
       "    <tr>\n",
       "      <th>0</th>\n",
       "      <td>1/5/2015</td>\n",
       "      <td>289</td>\n",
       "      <td>Cases_Guinea</td>\n",
       "      <td>2776.0</td>\n",
       "    </tr>\n",
       "    <tr>\n",
       "      <th>1</th>\n",
       "      <td>1/4/2015</td>\n",
       "      <td>288</td>\n",
       "      <td>Cases_Guinea</td>\n",
       "      <td>2775.0</td>\n",
       "    </tr>\n",
       "    <tr>\n",
       "      <th>2</th>\n",
       "      <td>1/3/2015</td>\n",
       "      <td>287</td>\n",
       "      <td>Cases_Guinea</td>\n",
       "      <td>2769.0</td>\n",
       "    </tr>\n",
       "    <tr>\n",
       "      <th>3</th>\n",
       "      <td>1/2/2015</td>\n",
       "      <td>286</td>\n",
       "      <td>Cases_Guinea</td>\n",
       "      <td>NaN</td>\n",
       "    </tr>\n",
       "    <tr>\n",
       "      <th>4</th>\n",
       "      <td>12/31/2014</td>\n",
       "      <td>284</td>\n",
       "      <td>Cases_Guinea</td>\n",
       "      <td>2730.0</td>\n",
       "    </tr>\n",
       "  </tbody>\n",
       "</table>\n",
       "</div>"
      ],
      "text/plain": [
       "         Date  Day  type_country  counts\n",
       "0    1/5/2015  289  Cases_Guinea  2776.0\n",
       "1    1/4/2015  288  Cases_Guinea  2775.0\n",
       "2    1/3/2015  287  Cases_Guinea  2769.0\n",
       "3    1/2/2015  286  Cases_Guinea     NaN\n",
       "4  12/31/2014  284  Cases_Guinea  2730.0"
      ]
     },
     "execution_count": 155,
     "metadata": {},
     "output_type": "execute_result"
    }
   ],
   "source": [
    "#2. 固定两个变量 消除多余的列 产生新的列并命名（一个表variable一个表示数量） \n",
    "#Melt ebola: ebola_melt\n",
    "ebola_melt = pd.melt(ebola, id_vars=['Date', 'Day'], var_name='type_country', value_name='counts')\n",
    "ebola_melt.head()"
   ]
  },
  {
   "cell_type": "code",
   "execution_count": 156,
   "metadata": {},
   "outputs": [
    {
     "name": "stdout",
     "output_type": "stream",
     "text": [
      "         Date  Day  type_country  counts        str_split   type country\n",
      "0    1/5/2015  289  Cases_Guinea  2776.0  [Cases, Guinea]  Cases  Guinea\n",
      "1    1/4/2015  288  Cases_Guinea  2775.0  [Cases, Guinea]  Cases  Guinea\n",
      "2    1/3/2015  287  Cases_Guinea  2769.0  [Cases, Guinea]  Cases  Guinea\n",
      "3    1/2/2015  286  Cases_Guinea     NaN  [Cases, Guinea]  Cases  Guinea\n",
      "4  12/31/2014  284  Cases_Guinea  2730.0  [Cases, Guinea]  Cases  Guinea\n"
     ]
    }
   ],
   "source": [
    "#3.文字'str.split(\")'分隔变量.type_country通过.str.split('_') 产生新的列'str_split'\n",
    "# Create the 'str_split' column\n",
    "ebola_melt['str_split'] = ebola_melt.type_country.str.split('_')\n",
    "# 4.文字得到.str_split.str.get(0)--分割变量‘_’前面的\n",
    "#Create the 'type' column\n",
    "ebola_melt['type'] = ebola_melt.str_split.str.get(0)\n",
    "# 5.文字得到.str_split.str.get(0)--分割变量‘_’后面的\n",
    "ebola_melt['country'] = ebola_melt.str_split.str.get(1)\n",
    "print(ebola_melt.head())"
   ]
  },
  {
   "cell_type": "markdown",
   "metadata": {},
   "source": [
    "## pd.concat结合多个rows\n",
    "（1）\n",
    "- Three DataFrames have been pre-loaded: uber1, uber2, uber3\n",
    "- concatenate these DataFrames together such that the resulting DataFrame has the data for all three months.\n",
    "\n",
    "（2）\n",
    "- Concatenate ebola_melt and status_country column-wise into a single DataFrame called ebola_tidy. \n",
    "\n",
    "- Be sure to specify axis=1 and to pass the two DataFrames in as a list."
   ]
  },
  {
   "cell_type": "code",
   "execution_count": 157,
   "metadata": {
    "collapsed": true
   },
   "outputs": [],
   "source": [
    "# 1.因为格式本来就都相同，运用pd.concat结合：Concatenate uber1, uber2, and uber3: row_concat\n",
    "row_concat = pd.concat([uber1, uber2, uber3])\n",
    "\n",
    "# Print the shape of row_concat\n",
    "print(row_concat.shape)\n",
    "\n",
    "# Print the head of row_concat\n",
    "print(row_concat.head())"
   ]
  },
  {
   "cell_type": "code",
   "execution_count": null,
   "metadata": {
    "collapsed": true
   },
   "outputs": [],
   "source": [
    "# Concatenate ebola_melt and status_country column-wise: ebola_tidy\n",
    "ebola_tidy = pd.concat([ebola_melt, status_country], axis=1)\n",
    "\n",
    "# Print the shape of ebola_tidy\n",
    "print(ebola_tidy.shape)\n",
    "# Print the head of ebola_tidy\n",
    "print(ebola_tidy.head())"
   ]
  },
  {
   "cell_type": "markdown",
   "metadata": {},
   "source": [
    "## 成百上千datasets合并\n",
    "- 要满足是list of file name ----systematical load\n",
    "- 有for loop\n",
    "  - 建立一个empty list 以后要加入的数据dataframe\n",
    "  -  for 每一个找到的filenames ---导入数据 ---list.apend(数据) 加入到了list中\n",
    "- glob function: \n",
    "   - *寻找pattern ---- ex: *.csv: 表示match任何的以csv结尾的文件\n",
    "   - filename_?.csv : 表示match任何filename_开头的csv文件\n",
    "- pd.concat(list_data):合并成了一个"
   ]
  },
  {
   "cell_type": "code",
   "execution_count": null,
   "metadata": {
    "collapsed": true
   },
   "outputs": [],
   "source": [
    "# Import necessary modules\n",
    "import glob\n",
    "import pandas as pd\n",
    "\n",
    "# 1.Write the pattern: pattern\n",
    "pattern = '*.csv'\n",
    "\n",
    "# 2.Save all file matches: csv_files\n",
    "csv_files = glob.glob(pattern)\n",
    "\n",
    "# 3.Create an empty list: frames\n",
    "frames = []\n",
    "\n",
    "# 4. Iterate over csv_files\n",
    "for csv in csv_files:\n",
    "\n",
    "    #  Read csv into a DataFrame: df\n",
    "    df = pd.read_csv(csv)\n",
    "    \n",
    "    # Append df to frames\n",
    "    frames.append(df)\n",
    "\n",
    "# 5.Concatenate frames into a single DataFrame: uber\n",
    "uber = pd.concat(frames)\n",
    "\n",
    "\n",
    "# Print the shape of uber\n",
    "print(uber.shape)\n",
    "# Print the head of uber\n",
    "print(uber.head())"
   ]
  },
  {
   "cell_type": "markdown",
   "metadata": {},
   "source": [
    "## Merge类似SQL_join\n",
    "### pd.merge(left=df1, right=df2, on=None(两个df join的列名字不同)，lefton='列‘，righton='列‘)\n",
    "(以上1-1merge)取决于两个列中是否有重复的数据\n",
    "- 1 to 1 merge\n",
    "- 1 to many / many to 1 merge   1的列会重复去fit in有many的列\n",
    "- many to many merge\n"
   ]
  },
  {
   "cell_type": "code",
   "execution_count": null,
   "metadata": {
    "collapsed": true
   },
   "outputs": [],
   "source": [
    "#1. 1 to 1 merge\n",
    "# Merge the DataFrames: o2o\n",
    "o2o = pd.merge(left=site, right=visited, left_on='name', right_on='site')\n",
    "# Print o2o\n",
    "print(o2o)\n",
    "\n",
    "#2. 1 to many \n",
    "# Merge the DataFrames: m2o\n",
    "m2o = pd.merge(left=site, right=visited, left_on='name', right_on='site')\n",
    "# Print m2o\n",
    "print(m2o)\n",
    "\n",
    "#3. many to many\n",
    "# Merge site and visited: m2m\n",
    "m2m = pd.merge(left=site, right=visited, left_on='name', right_on='site')\n",
    "# Merge m2m and survey: m2m\n",
    "m2m = pd.merge(left=m2m, right=survey, left_on='ident', right_on='taken')\n",
    "# Print the first 20 lines of m2m\n",
    "print(m2m.head(20))"
   ]
  },
  {
   "cell_type": "markdown",
   "metadata": {},
   "source": [
    "# 看Data Structure\n",
    "- object 表示是strings 变量day,time可以使用，categorical变量应变为category type\n",
    "-  type category reduces memory usage.\n",
    "## categorical column 性别 --- .astype('category')\n",
    "tips.sex = tips.sex.astype('category')\n",
    "## float.54--numeric data ---pd.to_numeric(df[X],errors='coerce')\n",
    "df['coulumn_name'] = pd.to_numeric(df['coulumn_name']], errors='coerce')\n",
    "\n"
   ]
  },
  {
   "cell_type": "code",
   "execution_count": 6,
   "metadata": {},
   "outputs": [
    {
     "ename": "NameError",
     "evalue": "name 'df2' is not defined",
     "output_type": "error",
     "traceback": [
      "\u001b[0;31m---------------------------------------------------------------------------\u001b[0m",
      "\u001b[0;31mNameError\u001b[0m                                 Traceback (most recent call last)",
      "\u001b[0;32m<ipython-input-6-419c79c3c721>\u001b[0m in \u001b[0;36m<module>\u001b[0;34m()\u001b[0m\n\u001b[0;32m----> 1\u001b[0;31m \u001b[0mdf2\u001b[0m\u001b[0;34m.\u001b[0m\u001b[0mhead\u001b[0m\u001b[0;34m(\u001b[0m\u001b[0;34m)\u001b[0m\u001b[0;34m\u001b[0m\u001b[0m\n\u001b[0m",
      "\u001b[0;31mNameError\u001b[0m: name 'df2' is not defined"
     ]
    }
   ],
   "source": [
    "df2.head()"
   ]
  },
  {
   "cell_type": "code",
   "execution_count": 212,
   "metadata": {},
   "outputs": [
    {
     "data": {
      "text/plain": [
       "Index(['account_sid', 'used_credit', 'credit_limit', 'credit_score',\n",
       "       'nb_days_account_open', 'interests_last_month', 'loyalty_points',\n",
       "       'reward_type', 'card_change', 'avg_age', 'distinct_names',\n",
       "       'card_type_name', 'insurance_plan'],\n",
       "      dtype='object')"
      ]
     },
     "execution_count": 212,
     "metadata": {},
     "output_type": "execute_result"
    }
   ],
   "source": [
    "df1.columns"
   ]
  },
  {
   "cell_type": "code",
   "execution_count": 161,
   "metadata": {},
   "outputs": [
    {
     "name": "stdout",
     "output_type": "stream",
     "text": [
      "<class 'pandas.core.frame.DataFrame'>\n",
      "RangeIndex: 500000 entries, 0 to 499999\n",
      "Data columns (total 12 columns):\n",
      "used_credit             500000 non-null int64\n",
      "credit_limit            500000 non-null int64\n",
      "credit_score            491910 non-null float64\n",
      "nb_days_account_open    499962 non-null float64\n",
      "interests_last_month    499135 non-null float64\n",
      "loyalty_points          499135 non-null float64\n",
      "reward_type             499971 non-null category\n",
      "card_change             500000 non-null int64\n",
      "avg_age                 493504 non-null float64\n",
      "distinct_names          500000 non-null int64\n",
      "card_type_name          500000 non-null object\n",
      "insurance_plan          97707 non-null object\n",
      "dtypes: category(1), float64(5), int64(4), object(2)\n",
      "memory usage: 42.4+ MB\n"
     ]
    }
   ],
   "source": [
    "df2.reward_type = df2.reward_type.astype('category')\n",
    "df2.info()"
   ]
  },
  {
   "cell_type": "code",
   "execution_count": 213,
   "metadata": {},
   "outputs": [
    {
     "name": "stdout",
     "output_type": "stream",
     "text": [
      "<class 'pandas.core.frame.DataFrame'>\n",
      "RangeIndex: 500000 entries, 0 to 499999\n",
      "Data columns (total 13 columns):\n",
      "account_sid             500000 non-null int64\n",
      "used_credit             500000 non-null int64\n",
      "credit_limit            500000 non-null int64\n",
      "credit_score            491910 non-null float64\n",
      "nb_days_account_open    499962 non-null float64\n",
      "interests_last_month    499135 non-null float64\n",
      "loyalty_points          499135 non-null float64\n",
      "reward_type             499971 non-null object\n",
      "card_change             500000 non-null int64\n",
      "avg_age                 493504 non-null float64\n",
      "distinct_names          500000 non-null int64\n",
      "card_type_name          500000 non-null object\n",
      "insurance_plan          97707 non-null object\n",
      "dtypes: float64(5), int64(5), object(3)\n",
      "memory usage: 49.6+ MB\n"
     ]
    },
    {
     "data": {
      "text/plain": [
       "(500000, 13)"
      ]
     },
     "execution_count": 213,
     "metadata": {},
     "output_type": "execute_result"
    }
   ],
   "source": [
    "df1.info()\n",
    "df1.shape"
   ]
  },
  {
   "cell_type": "code",
   "execution_count": 26,
   "metadata": {},
   "outputs": [
    {
     "data": {
      "text/html": [
       "<div>\n",
       "<style>\n",
       "    .dataframe thead tr:only-child th {\n",
       "        text-align: right;\n",
       "    }\n",
       "\n",
       "    .dataframe thead th {\n",
       "        text-align: left;\n",
       "    }\n",
       "\n",
       "    .dataframe tbody tr th {\n",
       "        vertical-align: top;\n",
       "    }\n",
       "</style>\n",
       "<table border=\"1\" class=\"dataframe\">\n",
       "  <thead>\n",
       "    <tr style=\"text-align: right;\">\n",
       "      <th></th>\n",
       "      <th>account_sid</th>\n",
       "      <th>used_credit</th>\n",
       "      <th>credit_limit</th>\n",
       "      <th>credit_score</th>\n",
       "      <th>nb_days_account_open</th>\n",
       "      <th>interests_last_month</th>\n",
       "      <th>loyalty_points</th>\n",
       "      <th>reward_type</th>\n",
       "      <th>card_change</th>\n",
       "      <th>avg_age</th>\n",
       "      <th>distinct_names</th>\n",
       "      <th>card_type_name</th>\n",
       "      <th>insurance_plan</th>\n",
       "    </tr>\n",
       "  </thead>\n",
       "  <tbody>\n",
       "    <tr>\n",
       "      <th>0</th>\n",
       "      <td>1</td>\n",
       "      <td>1431</td>\n",
       "      <td>5500</td>\n",
       "      <td>772.0</td>\n",
       "      <td>9034.0</td>\n",
       "      <td>0.00</td>\n",
       "      <td>6243.0</td>\n",
       "      <td>R</td>\n",
       "      <td>1</td>\n",
       "      <td>62.00</td>\n",
       "      <td>1</td>\n",
       "      <td>O CARTE OR EDITION QUEBEC</td>\n",
       "      <td>NaN</td>\n",
       "    </tr>\n",
       "    <tr>\n",
       "      <th>1</th>\n",
       "      <td>2</td>\n",
       "      <td>0</td>\n",
       "      <td>6500</td>\n",
       "      <td>800.0</td>\n",
       "      <td>579.0</td>\n",
       "      <td>0.00</td>\n",
       "      <td>0.0</td>\n",
       "      <td>A</td>\n",
       "      <td>0</td>\n",
       "      <td>70.00</td>\n",
       "      <td>1</td>\n",
       "      <td>CAA</td>\n",
       "      <td>NaN</td>\n",
       "    </tr>\n",
       "    <tr>\n",
       "      <th>2</th>\n",
       "      <td>3</td>\n",
       "      <td>2174</td>\n",
       "      <td>10250</td>\n",
       "      <td>822.0</td>\n",
       "      <td>14752.0</td>\n",
       "      <td>38.44</td>\n",
       "      <td>1184.0</td>\n",
       "      <td>R</td>\n",
       "      <td>1</td>\n",
       "      <td>67.00</td>\n",
       "      <td>1</td>\n",
       "      <td>O CARTE OR EDITION QUEBEC</td>\n",
       "      <td>NaN</td>\n",
       "    </tr>\n",
       "    <tr>\n",
       "      <th>3</th>\n",
       "      <td>4</td>\n",
       "      <td>3451</td>\n",
       "      <td>15000</td>\n",
       "      <td>822.0</td>\n",
       "      <td>5235.0</td>\n",
       "      <td>0.00</td>\n",
       "      <td>102255.0</td>\n",
       "      <td>P</td>\n",
       "      <td>1</td>\n",
       "      <td>47.00</td>\n",
       "      <td>1</td>\n",
       "      <td>World</td>\n",
       "      <td>NaN</td>\n",
       "    </tr>\n",
       "    <tr>\n",
       "      <th>4</th>\n",
       "      <td>5</td>\n",
       "      <td>4780</td>\n",
       "      <td>8000</td>\n",
       "      <td>776.0</td>\n",
       "      <td>3112.0</td>\n",
       "      <td>52.37</td>\n",
       "      <td>985.0</td>\n",
       "      <td>R</td>\n",
       "      <td>0</td>\n",
       "      <td>48.00</td>\n",
       "      <td>1</td>\n",
       "      <td>O CARTE OR EDITION QUEBEC</td>\n",
       "      <td>NaN</td>\n",
       "    </tr>\n",
       "    <tr>\n",
       "      <th>5</th>\n",
       "      <td>6</td>\n",
       "      <td>3477</td>\n",
       "      <td>4000</td>\n",
       "      <td>674.0</td>\n",
       "      <td>576.0</td>\n",
       "      <td>51.05</td>\n",
       "      <td>0.0</td>\n",
       "      <td>A</td>\n",
       "      <td>0</td>\n",
       "      <td>31.00</td>\n",
       "      <td>1</td>\n",
       "      <td>CAA</td>\n",
       "      <td>NaN</td>\n",
       "    </tr>\n",
       "    <tr>\n",
       "      <th>6</th>\n",
       "      <td>7</td>\n",
       "      <td>137</td>\n",
       "      <td>7500</td>\n",
       "      <td>725.0</td>\n",
       "      <td>2378.0</td>\n",
       "      <td>1.02</td>\n",
       "      <td>7953.0</td>\n",
       "      <td>P</td>\n",
       "      <td>0</td>\n",
       "      <td>62.00</td>\n",
       "      <td>1</td>\n",
       "      <td>PLATINE BNC</td>\n",
       "      <td>Regular</td>\n",
       "    </tr>\n",
       "    <tr>\n",
       "      <th>7</th>\n",
       "      <td>8</td>\n",
       "      <td>-7</td>\n",
       "      <td>2500</td>\n",
       "      <td>809.0</td>\n",
       "      <td>601.0</td>\n",
       "      <td>0.00</td>\n",
       "      <td>114.0</td>\n",
       "      <td>R</td>\n",
       "      <td>0</td>\n",
       "      <td>21.00</td>\n",
       "      <td>1</td>\n",
       "      <td>O CARTE OR EDITION QUEBEC</td>\n",
       "      <td>NaN</td>\n",
       "    </tr>\n",
       "    <tr>\n",
       "      <th>8</th>\n",
       "      <td>9</td>\n",
       "      <td>-11</td>\n",
       "      <td>2500</td>\n",
       "      <td>776.0</td>\n",
       "      <td>3171.0</td>\n",
       "      <td>0.00</td>\n",
       "      <td>0.0</td>\n",
       "      <td>N</td>\n",
       "      <td>0</td>\n",
       "      <td>71.00</td>\n",
       "      <td>1</td>\n",
       "      <td>O CARTE OR EDITION QUEBEC</td>\n",
       "      <td>NaN</td>\n",
       "    </tr>\n",
       "    <tr>\n",
       "      <th>9</th>\n",
       "      <td>10</td>\n",
       "      <td>0</td>\n",
       "      <td>2850</td>\n",
       "      <td>NaN</td>\n",
       "      <td>12654.0</td>\n",
       "      <td>0.00</td>\n",
       "      <td>373.0</td>\n",
       "      <td>R</td>\n",
       "      <td>1</td>\n",
       "      <td>69.00</td>\n",
       "      <td>1</td>\n",
       "      <td>O CARTE OR EDITION QUEBEC</td>\n",
       "      <td>Regular</td>\n",
       "    </tr>\n",
       "    <tr>\n",
       "      <th>10</th>\n",
       "      <td>11</td>\n",
       "      <td>46</td>\n",
       "      <td>7000</td>\n",
       "      <td>854.0</td>\n",
       "      <td>8700.0</td>\n",
       "      <td>0.00</td>\n",
       "      <td>929.0</td>\n",
       "      <td>R</td>\n",
       "      <td>1</td>\n",
       "      <td>59.00</td>\n",
       "      <td>1</td>\n",
       "      <td>O CARTE OR EDITION QUEBEC</td>\n",
       "      <td>Regular</td>\n",
       "    </tr>\n",
       "    <tr>\n",
       "      <th>11</th>\n",
       "      <td>12</td>\n",
       "      <td>3830</td>\n",
       "      <td>13250</td>\n",
       "      <td>798.0</td>\n",
       "      <td>9564.0</td>\n",
       "      <td>53.95</td>\n",
       "      <td>163687.0</td>\n",
       "      <td>P</td>\n",
       "      <td>1</td>\n",
       "      <td>22.75</td>\n",
       "      <td>4</td>\n",
       "      <td>World</td>\n",
       "      <td>NaN</td>\n",
       "    </tr>\n",
       "    <tr>\n",
       "      <th>12</th>\n",
       "      <td>13</td>\n",
       "      <td>43</td>\n",
       "      <td>10500</td>\n",
       "      <td>818.0</td>\n",
       "      <td>2228.0</td>\n",
       "      <td>0.00</td>\n",
       "      <td>0.0</td>\n",
       "      <td>N</td>\n",
       "      <td>0</td>\n",
       "      <td>52.00</td>\n",
       "      <td>1</td>\n",
       "      <td>MC1 (JEUNES)</td>\n",
       "      <td>Regular</td>\n",
       "    </tr>\n",
       "    <tr>\n",
       "      <th>13</th>\n",
       "      <td>14</td>\n",
       "      <td>229</td>\n",
       "      <td>1500</td>\n",
       "      <td>811.0</td>\n",
       "      <td>840.0</td>\n",
       "      <td>3.14</td>\n",
       "      <td>1501.0</td>\n",
       "      <td>R</td>\n",
       "      <td>0</td>\n",
       "      <td>20.00</td>\n",
       "      <td>1</td>\n",
       "      <td>O CARTE OR EDITION QUEBEC</td>\n",
       "      <td>NaN</td>\n",
       "    </tr>\n",
       "    <tr>\n",
       "      <th>14</th>\n",
       "      <td>15</td>\n",
       "      <td>88</td>\n",
       "      <td>500</td>\n",
       "      <td>729.0</td>\n",
       "      <td>2175.0</td>\n",
       "      <td>0.00</td>\n",
       "      <td>646.0</td>\n",
       "      <td>R</td>\n",
       "      <td>0</td>\n",
       "      <td>65.00</td>\n",
       "      <td>1</td>\n",
       "      <td>O CARTE OR EDITION QUEBEC</td>\n",
       "      <td>Regular</td>\n",
       "    </tr>\n",
       "  </tbody>\n",
       "</table>\n",
       "</div>"
      ],
      "text/plain": [
       "    account_sid  used_credit  credit_limit  credit_score  \\\n",
       "0             1         1431          5500         772.0   \n",
       "1             2            0          6500         800.0   \n",
       "2             3         2174         10250         822.0   \n",
       "3             4         3451         15000         822.0   \n",
       "4             5         4780          8000         776.0   \n",
       "5             6         3477          4000         674.0   \n",
       "6             7          137          7500         725.0   \n",
       "7             8           -7          2500         809.0   \n",
       "8             9          -11          2500         776.0   \n",
       "9            10            0          2850           NaN   \n",
       "10           11           46          7000         854.0   \n",
       "11           12         3830         13250         798.0   \n",
       "12           13           43         10500         818.0   \n",
       "13           14          229          1500         811.0   \n",
       "14           15           88           500         729.0   \n",
       "\n",
       "    nb_days_account_open  interests_last_month  loyalty_points reward_type  \\\n",
       "0                 9034.0                  0.00          6243.0           R   \n",
       "1                  579.0                  0.00             0.0           A   \n",
       "2                14752.0                 38.44          1184.0           R   \n",
       "3                 5235.0                  0.00        102255.0           P   \n",
       "4                 3112.0                 52.37           985.0           R   \n",
       "5                  576.0                 51.05             0.0           A   \n",
       "6                 2378.0                  1.02          7953.0           P   \n",
       "7                  601.0                  0.00           114.0           R   \n",
       "8                 3171.0                  0.00             0.0           N   \n",
       "9                12654.0                  0.00           373.0           R   \n",
       "10                8700.0                  0.00           929.0           R   \n",
       "11                9564.0                 53.95        163687.0           P   \n",
       "12                2228.0                  0.00             0.0           N   \n",
       "13                 840.0                  3.14          1501.0           R   \n",
       "14                2175.0                  0.00           646.0           R   \n",
       "\n",
       "    card_change  avg_age  distinct_names             card_type_name  \\\n",
       "0             1    62.00               1  O CARTE OR EDITION QUEBEC   \n",
       "1             0    70.00               1                        CAA   \n",
       "2             1    67.00               1  O CARTE OR EDITION QUEBEC   \n",
       "3             1    47.00               1                      World   \n",
       "4             0    48.00               1  O CARTE OR EDITION QUEBEC   \n",
       "5             0    31.00               1                        CAA   \n",
       "6             0    62.00               1                PLATINE BNC   \n",
       "7             0    21.00               1  O CARTE OR EDITION QUEBEC   \n",
       "8             0    71.00               1  O CARTE OR EDITION QUEBEC   \n",
       "9             1    69.00               1  O CARTE OR EDITION QUEBEC   \n",
       "10            1    59.00               1  O CARTE OR EDITION QUEBEC   \n",
       "11            1    22.75               4                      World   \n",
       "12            0    52.00               1               MC1 (JEUNES)   \n",
       "13            0    20.00               1  O CARTE OR EDITION QUEBEC   \n",
       "14            0    65.00               1  O CARTE OR EDITION QUEBEC   \n",
       "\n",
       "   insurance_plan  \n",
       "0             NaN  \n",
       "1             NaN  \n",
       "2             NaN  \n",
       "3             NaN  \n",
       "4             NaN  \n",
       "5             NaN  \n",
       "6         Regular  \n",
       "7             NaN  \n",
       "8             NaN  \n",
       "9         Regular  \n",
       "10        Regular  \n",
       "11            NaN  \n",
       "12        Regular  \n",
       "13            NaN  \n",
       "14        Regular  "
      ]
     },
     "execution_count": 26,
     "metadata": {},
     "output_type": "execute_result"
    }
   ],
   "source": [
    "df1.head(15)"
   ]
  },
  {
   "cell_type": "markdown",
   "metadata": {},
   "source": [
    "### df.info()      df.head()/tail()   df.columns       \n",
    "## 有缺失值的\n",
    "** credit_score,  nb_days_account_open,  interests_last_month,  loyalty_points, reward_type, avg_age , insurance_plan**\n",
    "\n",
    "## 是object形态的变量--text data显示\n",
    "** reward_type ， card_type_name， insurance_plan**\n",
    "\n",
    "## 锁定categorical变量--value的重复\n",
    "### df['col_name'].value_counts(dropna=False)\n",
    "根据前15行的数据，判断哪些变量有可能成为categorical变量。\n",
    "- insurance_plan\n",
    "- card_type_name\n",
    "- reward_type"
   ]
  },
  {
   "cell_type": "code",
   "execution_count": 214,
   "metadata": {},
   "outputs": [
    {
     "data": {
      "text/plain": [
       "NaN        402293\n",
       "Regular     75866\n",
       "65+         21841\n",
       "Name: insurance_plan, dtype: int64"
      ]
     },
     "execution_count": 214,
     "metadata": {},
     "output_type": "execute_result"
    }
   ],
   "source": [
    "df1['insurance_plan'].value_counts(dropna=False)"
   ]
  },
  {
   "cell_type": "code",
   "execution_count": 215,
   "metadata": {},
   "outputs": [
    {
     "data": {
      "text/plain": [
       "56.0    10570\n",
       "57.0    10531\n",
       "58.0    10504\n",
       "59.0    10420\n",
       "55.0    10398\n",
       "61.0    10275\n",
       "54.0    10162\n",
       "62.0    10026\n",
       "60.0    10021\n",
       "53.0     9691\n",
       "Name: avg_age, dtype: int64"
      ]
     },
     "execution_count": 215,
     "metadata": {},
     "output_type": "execute_result"
    }
   ],
   "source": [
    "df1.avg_age.value_counts(dropna=False).head(10)"
   ]
  },
  {
   "cell_type": "code",
   "execution_count": 106,
   "metadata": {},
   "outputs": [
    {
     "data": {
      "text/plain": [
       "NaN       8090\n",
       " 809.0    4575\n",
       " 806.0    4538\n",
       " 811.0    4490\n",
       " 802.0    4427\n",
       " 808.0    4427\n",
       " 801.0    4423\n",
       " 799.0    4419\n",
       " 812.0    4396\n",
       " 804.0    4377\n",
       "Name: credit_score, dtype: int64"
      ]
     },
     "execution_count": 106,
     "metadata": {},
     "output_type": "execute_result"
    }
   ],
   "source": [
    "df1.credit_score.value_counts(dropna=False).head(10)"
   ]
  },
  {
   "cell_type": "code",
   "execution_count": 101,
   "metadata": {},
   "outputs": [
    {
     "data": {
      "text/plain": [
       "O CARTE OR EDITION QUEBEC         209742\n",
       "BNC ALLURE                         42334\n",
       "ECHO                               39189\n",
       "MC1 (JEUNES)                       31696\n",
       "World elite                        29185\n",
       "World                              27882\n",
       "CAA                                22018\n",
       "O ULTRAMAR FAMILIALE               21007\n",
       "O SYNCRO FAMILIALE                 20933\n",
       "PLATINE BNC                        17635\n",
       "OR BNQ  NATIONALE DU CANADA         8252\n",
       "O PROG FIN PROFESSIONNEL SANTE      8006\n",
       "O CARTE ESCAPADE                    5728\n",
       "O PROG FINANCIER INGENIEURS         3935\n",
       "O OR ING                            3783\n",
       "Other                               3197\n",
       "O PROGRAMMES FINANCIERS OR          1655\n",
       "O CARTE EDITION HORS-QUEBEC         1481\n",
       "R ORDRE DES INGENIEURS DU QUE       1263\n",
       "O OR COMPTABLES AGREES DU QUE       1079\n",
       "Name: card_type_name, dtype: int64"
      ]
     },
     "execution_count": 101,
     "metadata": {},
     "output_type": "execute_result"
    }
   ],
   "source": [
    "df1['card_type_name'].value_counts(dropna=False)"
   ]
  },
  {
   "cell_type": "code",
   "execution_count": 102,
   "metadata": {},
   "outputs": [
    {
     "data": {
      "text/plain": [
       "R      212083\n",
       "P      124014\n",
       "N      102668\n",
       "C       39188\n",
       "A       22018\n",
       "NaN        29\n",
       "Name: reward_type, dtype: int64"
      ]
     },
     "execution_count": 102,
     "metadata": {},
     "output_type": "execute_result"
    }
   ],
   "source": [
    "df1['reward_type'].value_counts(dropna=False)"
   ]
  },
  {
   "cell_type": "markdown",
   "metadata": {},
   "source": [
    "# Data Cleaning\n",
    "## string manipulation--'re'找pattern\n",
    "- 找到pattern\n",
    "- pattern和data对应上，over and over Again\n",
    "- 直到一整列都匹配了\n",
    "\n",
    "**xxx-xxx-xxxx.**\n",
    "- Use \\d{x} to match x digits. Huse it three times: twice to match 3 digits, and once to match 4 digits.\n",
    "- inside re.compile()\n",
    "\n",
    "**\\d is the pattern required to find digits. This should be followed with a + so that the previous element is matched one or more times. This ensures that 10 is viewed as one number and not as 1 and 0.**"
   ]
  },
  {
   "cell_type": "code",
   "execution_count": null,
   "metadata": {
    "collapsed": true
   },
   "outputs": [],
   "source": [
    "# Import the regular expression module\n",
    "import re\n",
    "\n",
    "# Compile the pattern: prog\n",
    "prog = re.compile('\\d{3}-\\d{3}-\\d{4}')\n",
    "\n",
    "# See if the pattern matches\n",
    "result = prog.match('123-456-7890')\n",
    "print(bool(result))\n",
    " # True\n",
    "\n",
    "# See if the pattern matches\n",
    "result = prog.match('1123-456-7890')\n",
    "print(bool(result))\n",
    " # False"
   ]
  },
  {
   "cell_type": "code",
   "execution_count": 162,
   "metadata": {},
   "outputs": [
    {
     "name": "stdout",
     "output_type": "stream",
     "text": [
      "['10', '1']\n"
     ]
    }
   ],
   "source": [
    "# 找寻其中的数字：Import the regular expression module\n",
    "import re\n",
    "\n",
    "# Find the numeric values: matches\n",
    "matches = re.findall('\\d+', 'the recipe calls for 10 strawberries and 1 banana')\n",
    "\n",
    "# Print the matches\n",
    "print(matches)"
   ]
  },
  {
   "cell_type": "markdown",
   "metadata": {},
   "source": [
    "## duplicate data, Missing data\n",
    "### 完全相同的数据去掉: df.drop_duplicates()\n",
    "\n",
    "### missing data drop or fill :df_droped=df.dropna()\n",
    " -可以dropcolumn 如果太缺失\n",
    " - fill value / summary statistics\n",
    " - df['column'].fillna('missing') 填入missing\n",
    " - df[['column1',column2']].fillna(0)  填入0\n",
    " - 如果有outlier fill median更好：.fillna(df['column'].mean())"
   ]
  },
  {
   "cell_type": "code",
   "execution_count": null,
   "metadata": {
    "collapsed": true
   },
   "outputs": [],
   "source": [
    "# 根据已经有的dataframe建立一个新的dataframe[['columnname']]\n",
    "#1.新建dataframe：Create the new DataFrame: tracks\n",
    "df = df[['year', 'artist', 'track', 'time']]\n",
    "\n",
    "# 2.去除重复的值Drop the duplicates: tracks_no_duplicates\n",
    "df3_no_duplicates = df3.drop_duplicates()"
   ]
  },
  {
   "cell_type": "code",
   "execution_count": null,
   "metadata": {
    "collapsed": true
   },
   "outputs": [],
   "source": [
    "# 1.计算统计值Calculate the mean of the Ozone column: oz_mean\n",
    "mean = df.columname.mean()\n",
    "\n",
    "#2.填充平均值 Replace all the missing values in the Ozone column with the mean\n",
    "df['columname'] =df.columname.fillna(mean)"
   ]
  },
  {
   "cell_type": "code",
   "execution_count": null,
   "metadata": {
    "collapsed": true
   },
   "outputs": [],
   "source": [
    "# assert function 去检验是否没有缺失值了\n",
    "# Assert that there are no missing values\n",
    "assert pd.notnull(df).all().all()\n",
    "\n",
    "# Assert that all values are >= 0\n",
    "assert (df >= 0).all().all()"
   ]
  },
  {
   "cell_type": "code",
   "execution_count": 220,
   "metadata": {
    "collapsed": true
   },
   "outputs": [],
   "source": [
    "\n",
    "df2['insurance_plan'] =df2.insurance_plan.fillna(0)\n"
   ]
  },
  {
   "cell_type": "markdown",
   "metadata": {},
   "source": [
    "# Data的总视\n",
    "### df.describe()\n",
    "### df.hist(bins=50, figsize=(20,15))\n",
    "plt.show()\n",
    "\n",
    "## 总row数无null,平均值,方差,range"
   ]
  },
  {
   "cell_type": "code",
   "execution_count": 31,
   "metadata": {},
   "outputs": [
    {
     "data": {
      "text/html": [
       "<div>\n",
       "<style>\n",
       "    .dataframe thead tr:only-child th {\n",
       "        text-align: right;\n",
       "    }\n",
       "\n",
       "    .dataframe thead th {\n",
       "        text-align: left;\n",
       "    }\n",
       "\n",
       "    .dataframe tbody tr th {\n",
       "        vertical-align: top;\n",
       "    }\n",
       "</style>\n",
       "<table border=\"1\" class=\"dataframe\">\n",
       "  <thead>\n",
       "    <tr style=\"text-align: right;\">\n",
       "      <th></th>\n",
       "      <th>account_sid</th>\n",
       "      <th>used_credit</th>\n",
       "      <th>credit_limit</th>\n",
       "      <th>credit_score</th>\n",
       "      <th>nb_days_account_open</th>\n",
       "      <th>interests_last_month</th>\n",
       "      <th>loyalty_points</th>\n",
       "      <th>card_change</th>\n",
       "      <th>avg_age</th>\n",
       "      <th>distinct_names</th>\n",
       "    </tr>\n",
       "  </thead>\n",
       "  <tbody>\n",
       "    <tr>\n",
       "      <th>count</th>\n",
       "      <td>500000.000000</td>\n",
       "      <td>500000.000000</td>\n",
       "      <td>500000.000000</td>\n",
       "      <td>491910.000000</td>\n",
       "      <td>499962.000000</td>\n",
       "      <td>499135.000000</td>\n",
       "      <td>4.991350e+05</td>\n",
       "      <td>500000.000000</td>\n",
       "      <td>493504.000000</td>\n",
       "      <td>500000.000000</td>\n",
       "    </tr>\n",
       "    <tr>\n",
       "      <th>mean</th>\n",
       "      <td>250000.500000</td>\n",
       "      <td>1870.360810</td>\n",
       "      <td>7532.450354</td>\n",
       "      <td>761.980114</td>\n",
       "      <td>3972.884655</td>\n",
       "      <td>19.936386</td>\n",
       "      <td>1.566156e+04</td>\n",
       "      <td>0.435724</td>\n",
       "      <td>51.741431</td>\n",
       "      <td>1.111524</td>\n",
       "    </tr>\n",
       "    <tr>\n",
       "      <th>std</th>\n",
       "      <td>144337.711634</td>\n",
       "      <td>3354.169502</td>\n",
       "      <td>6408.509340</td>\n",
       "      <td>60.964375</td>\n",
       "      <td>3635.144968</td>\n",
       "      <td>46.301905</td>\n",
       "      <td>5.863380e+04</td>\n",
       "      <td>0.495852</td>\n",
       "      <td>17.318258</td>\n",
       "      <td>0.348348</td>\n",
       "    </tr>\n",
       "    <tr>\n",
       "      <th>min</th>\n",
       "      <td>1.000000</td>\n",
       "      <td>-184880.000000</td>\n",
       "      <td>0.000000</td>\n",
       "      <td>0.000000</td>\n",
       "      <td>25.000000</td>\n",
       "      <td>-0.870000</td>\n",
       "      <td>-1.104930e+05</td>\n",
       "      <td>0.000000</td>\n",
       "      <td>4.000000</td>\n",
       "      <td>0.000000</td>\n",
       "    </tr>\n",
       "    <tr>\n",
       "      <th>25%</th>\n",
       "      <td>125000.750000</td>\n",
       "      <td>10.000000</td>\n",
       "      <td>2750.000000</td>\n",
       "      <td>729.000000</td>\n",
       "      <td>980.000000</td>\n",
       "      <td>0.000000</td>\n",
       "      <td>0.000000e+00</td>\n",
       "      <td>0.000000</td>\n",
       "      <td>38.000000</td>\n",
       "      <td>1.000000</td>\n",
       "    </tr>\n",
       "    <tr>\n",
       "      <th>50%</th>\n",
       "      <td>250000.500000</td>\n",
       "      <td>491.000000</td>\n",
       "      <td>6000.000000</td>\n",
       "      <td>774.000000</td>\n",
       "      <td>2760.000000</td>\n",
       "      <td>0.000000</td>\n",
       "      <td>1.001000e+03</td>\n",
       "      <td>0.000000</td>\n",
       "      <td>53.000000</td>\n",
       "      <td>1.000000</td>\n",
       "    </tr>\n",
       "    <tr>\n",
       "      <th>75%</th>\n",
       "      <td>375000.250000</td>\n",
       "      <td>2185.000000</td>\n",
       "      <td>10750.000000</td>\n",
       "      <td>805.000000</td>\n",
       "      <td>5993.000000</td>\n",
       "      <td>14.970000</td>\n",
       "      <td>6.218000e+03</td>\n",
       "      <td>1.000000</td>\n",
       "      <td>65.000000</td>\n",
       "      <td>1.000000</td>\n",
       "    </tr>\n",
       "    <tr>\n",
       "      <th>max</th>\n",
       "      <td>500000.000000</td>\n",
       "      <td>115166.000000</td>\n",
       "      <td>350000.000000</td>\n",
       "      <td>888.000000</td>\n",
       "      <td>16196.000000</td>\n",
       "      <td>1472.740000</td>\n",
       "      <td>5.501144e+06</td>\n",
       "      <td>1.000000</td>\n",
       "      <td>677.000000</td>\n",
       "      <td>6.000000</td>\n",
       "    </tr>\n",
       "  </tbody>\n",
       "</table>\n",
       "</div>"
      ],
      "text/plain": [
       "         account_sid    used_credit   credit_limit   credit_score  \\\n",
       "count  500000.000000  500000.000000  500000.000000  491910.000000   \n",
       "mean   250000.500000    1870.360810    7532.450354     761.980114   \n",
       "std    144337.711634    3354.169502    6408.509340      60.964375   \n",
       "min         1.000000 -184880.000000       0.000000       0.000000   \n",
       "25%    125000.750000      10.000000    2750.000000     729.000000   \n",
       "50%    250000.500000     491.000000    6000.000000     774.000000   \n",
       "75%    375000.250000    2185.000000   10750.000000     805.000000   \n",
       "max    500000.000000  115166.000000  350000.000000     888.000000   \n",
       "\n",
       "       nb_days_account_open  interests_last_month  loyalty_points  \\\n",
       "count         499962.000000         499135.000000    4.991350e+05   \n",
       "mean            3972.884655             19.936386    1.566156e+04   \n",
       "std             3635.144968             46.301905    5.863380e+04   \n",
       "min               25.000000             -0.870000   -1.104930e+05   \n",
       "25%              980.000000              0.000000    0.000000e+00   \n",
       "50%             2760.000000              0.000000    1.001000e+03   \n",
       "75%             5993.000000             14.970000    6.218000e+03   \n",
       "max            16196.000000           1472.740000    5.501144e+06   \n",
       "\n",
       "         card_change        avg_age  distinct_names  \n",
       "count  500000.000000  493504.000000   500000.000000  \n",
       "mean        0.435724      51.741431        1.111524  \n",
       "std         0.495852      17.318258        0.348348  \n",
       "min         0.000000       4.000000        0.000000  \n",
       "25%         0.000000      38.000000        1.000000  \n",
       "50%         0.000000      53.000000        1.000000  \n",
       "75%         1.000000      65.000000        1.000000  \n",
       "max         1.000000     677.000000        6.000000  "
      ]
     },
     "execution_count": 31,
     "metadata": {},
     "output_type": "execute_result"
    }
   ],
   "source": [
    "df1.describe()"
   ]
  },
  {
   "cell_type": "markdown",
   "metadata": {},
   "source": [
    "## 看Age大于110的数字：potential outliers\n",
    "**outlier有的是对的，有的是不对的**\n"
   ]
  },
  {
   "cell_type": "code",
   "execution_count": 113,
   "metadata": {},
   "outputs": [
    {
     "data": {
      "text/html": [
       "<div>\n",
       "<style>\n",
       "    .dataframe thead tr:only-child th {\n",
       "        text-align: right;\n",
       "    }\n",
       "\n",
       "    .dataframe thead th {\n",
       "        text-align: left;\n",
       "    }\n",
       "\n",
       "    .dataframe tbody tr th {\n",
       "        vertical-align: top;\n",
       "    }\n",
       "</style>\n",
       "<table border=\"1\" class=\"dataframe\">\n",
       "  <thead>\n",
       "    <tr style=\"text-align: right;\">\n",
       "      <th></th>\n",
       "      <th>account_sid</th>\n",
       "      <th>used_credit</th>\n",
       "      <th>credit_limit</th>\n",
       "      <th>credit_score</th>\n",
       "      <th>nb_days_account_open</th>\n",
       "      <th>interests_last_month</th>\n",
       "      <th>loyalty_points</th>\n",
       "      <th>reward_type</th>\n",
       "      <th>card_change</th>\n",
       "      <th>avg_age</th>\n",
       "      <th>distinct_names</th>\n",
       "      <th>card_type_name</th>\n",
       "      <th>insurance_plan</th>\n",
       "    </tr>\n",
       "  </thead>\n",
       "  <tbody>\n",
       "    <tr>\n",
       "      <th>20095</th>\n",
       "      <td>20096</td>\n",
       "      <td>0</td>\n",
       "      <td>8000</td>\n",
       "      <td>765.0</td>\n",
       "      <td>11982.0</td>\n",
       "      <td>0.00</td>\n",
       "      <td>365.0</td>\n",
       "      <td>R</td>\n",
       "      <td>1</td>\n",
       "      <td>352.00</td>\n",
       "      <td>1</td>\n",
       "      <td>O CARTE OR EDITION QUEBEC</td>\n",
       "      <td>NaN</td>\n",
       "    </tr>\n",
       "    <tr>\n",
       "      <th>51987</th>\n",
       "      <td>51988</td>\n",
       "      <td>170</td>\n",
       "      <td>25000</td>\n",
       "      <td>810.0</td>\n",
       "      <td>1600.0</td>\n",
       "      <td>-0.65</td>\n",
       "      <td>67085.0</td>\n",
       "      <td>P</td>\n",
       "      <td>0</td>\n",
       "      <td>225.75</td>\n",
       "      <td>4</td>\n",
       "      <td>World elite</td>\n",
       "      <td>NaN</td>\n",
       "    </tr>\n",
       "    <tr>\n",
       "      <th>145606</th>\n",
       "      <td>145607</td>\n",
       "      <td>0</td>\n",
       "      <td>1900</td>\n",
       "      <td>866.0</td>\n",
       "      <td>13697.0</td>\n",
       "      <td>0.00</td>\n",
       "      <td>0.0</td>\n",
       "      <td>N</td>\n",
       "      <td>1</td>\n",
       "      <td>677.00</td>\n",
       "      <td>1</td>\n",
       "      <td>O CARTE OR EDITION QUEBEC</td>\n",
       "      <td>NaN</td>\n",
       "    </tr>\n",
       "    <tr>\n",
       "      <th>194002</th>\n",
       "      <td>194003</td>\n",
       "      <td>0</td>\n",
       "      <td>100</td>\n",
       "      <td>NaN</td>\n",
       "      <td>394.0</td>\n",
       "      <td>0.00</td>\n",
       "      <td>0.0</td>\n",
       "      <td>N</td>\n",
       "      <td>0</td>\n",
       "      <td>118.00</td>\n",
       "      <td>1</td>\n",
       "      <td>O SYNCRO FAMILIALE</td>\n",
       "      <td>NaN</td>\n",
       "    </tr>\n",
       "    <tr>\n",
       "      <th>235987</th>\n",
       "      <td>235988</td>\n",
       "      <td>7</td>\n",
       "      <td>14750</td>\n",
       "      <td>762.0</td>\n",
       "      <td>5878.0</td>\n",
       "      <td>0.00</td>\n",
       "      <td>0.0</td>\n",
       "      <td>N</td>\n",
       "      <td>1</td>\n",
       "      <td>224.00</td>\n",
       "      <td>2</td>\n",
       "      <td>O ULTRAMAR FAMILIALE</td>\n",
       "      <td>NaN</td>\n",
       "    </tr>\n",
       "    <tr>\n",
       "      <th>296349</th>\n",
       "      <td>296350</td>\n",
       "      <td>5893</td>\n",
       "      <td>9250</td>\n",
       "      <td>661.0</td>\n",
       "      <td>4184.0</td>\n",
       "      <td>74.27</td>\n",
       "      <td>1701.0</td>\n",
       "      <td>R</td>\n",
       "      <td>1</td>\n",
       "      <td>348.00</td>\n",
       "      <td>2</td>\n",
       "      <td>O CARTE OR EDITION QUEBEC</td>\n",
       "      <td>NaN</td>\n",
       "    </tr>\n",
       "    <tr>\n",
       "      <th>312473</th>\n",
       "      <td>312474</td>\n",
       "      <td>427</td>\n",
       "      <td>4000</td>\n",
       "      <td>784.0</td>\n",
       "      <td>3398.0</td>\n",
       "      <td>0.00</td>\n",
       "      <td>0.0</td>\n",
       "      <td>N</td>\n",
       "      <td>1</td>\n",
       "      <td>160.50</td>\n",
       "      <td>2</td>\n",
       "      <td>O ULTRAMAR FAMILIALE</td>\n",
       "      <td>NaN</td>\n",
       "    </tr>\n",
       "    <tr>\n",
       "      <th>495178</th>\n",
       "      <td>495179</td>\n",
       "      <td>28</td>\n",
       "      <td>4500</td>\n",
       "      <td>704.0</td>\n",
       "      <td>6238.0</td>\n",
       "      <td>0.78</td>\n",
       "      <td>1370.0</td>\n",
       "      <td>R</td>\n",
       "      <td>1</td>\n",
       "      <td>357.00</td>\n",
       "      <td>1</td>\n",
       "      <td>O CARTE OR EDITION QUEBEC</td>\n",
       "      <td>NaN</td>\n",
       "    </tr>\n",
       "  </tbody>\n",
       "</table>\n",
       "</div>"
      ],
      "text/plain": [
       "        account_sid  used_credit  credit_limit  credit_score  \\\n",
       "20095         20096            0          8000         765.0   \n",
       "51987         51988          170         25000         810.0   \n",
       "145606       145607            0          1900         866.0   \n",
       "194002       194003            0           100           NaN   \n",
       "235987       235988            7         14750         762.0   \n",
       "296349       296350         5893          9250         661.0   \n",
       "312473       312474          427          4000         784.0   \n",
       "495178       495179           28          4500         704.0   \n",
       "\n",
       "        nb_days_account_open  interests_last_month  loyalty_points  \\\n",
       "20095                11982.0                  0.00           365.0   \n",
       "51987                 1600.0                 -0.65         67085.0   \n",
       "145606               13697.0                  0.00             0.0   \n",
       "194002                 394.0                  0.00             0.0   \n",
       "235987                5878.0                  0.00             0.0   \n",
       "296349                4184.0                 74.27          1701.0   \n",
       "312473                3398.0                  0.00             0.0   \n",
       "495178                6238.0                  0.78          1370.0   \n",
       "\n",
       "       reward_type  card_change  avg_age  distinct_names  \\\n",
       "20095            R            1   352.00               1   \n",
       "51987            P            0   225.75               4   \n",
       "145606           N            1   677.00               1   \n",
       "194002           N            0   118.00               1   \n",
       "235987           N            1   224.00               2   \n",
       "296349           R            1   348.00               2   \n",
       "312473           N            1   160.50               2   \n",
       "495178           R            1   357.00               1   \n",
       "\n",
       "                   card_type_name insurance_plan  \n",
       "20095   O CARTE OR EDITION QUEBEC            NaN  \n",
       "51987                 World elite            NaN  \n",
       "145606  O CARTE OR EDITION QUEBEC            NaN  \n",
       "194002         O SYNCRO FAMILIALE            NaN  \n",
       "235987       O ULTRAMAR FAMILIALE            NaN  \n",
       "296349  O CARTE OR EDITION QUEBEC            NaN  \n",
       "312473       O ULTRAMAR FAMILIALE            NaN  \n",
       "495178  O CARTE OR EDITION QUEBEC            NaN  "
      ]
     },
     "execution_count": 113,
     "metadata": {},
     "output_type": "execute_result"
    }
   ],
   "source": [
    "df1[df1.avg_age>110]"
   ]
  },
  {
   "cell_type": "markdown",
   "metadata": {},
   "source": [
    " # 作图Boxplot\n",
    " - 能够看出基本的分布，outlier。\n",
    " \n",
    " - compare the 变量1 across the different values of the 变量2 column.\n",
    "  "
   ]
  },
  {
   "cell_type": "code",
   "execution_count": 141,
   "metadata": {},
   "outputs": [
    {
     "data": {
      "image/png": "[encoded data removed]",
      "text/plain": [
       "<matplotlib.figure.Figure at 0x10b347860>"
      ]
     },
     "metadata": {},
     "output_type": "display_data"
    }
   ],
   "source": [
    "import matplotlib.pyplot as plt\n",
    "import pandas as pd\n",
    "import numpy as np\n",
    "\n",
    "# 建立图片 主要看outlier Create the boxplot\n",
    "df1.boxplot(column='avg_age', rot=90)\n",
    "\n",
    "# 有outlier---Display the plot\n",
    "plt.show()\n"
   ]
  },
  {
   "cell_type": "code",
   "execution_count": 142,
   "metadata": {},
   "outputs": [
    {
     "data": {
      "image/png": "[encoded data removed]",
      "text/plain": [
       "<matplotlib.figure.Figure at 0x1155f4a58>"
      ]
     },
     "metadata": {},
     "output_type": "display_data"
    }
   ],
   "source": [
    "df1.boxplot(column='distinct_names', rot=90)\n",
    "\n",
    "# 没有outlierDisplay the plot\n",
    "plt.show()"
   ]
  },
  {
   "cell_type": "code",
   "execution_count": 144,
   "metadata": {},
   "outputs": [
    {
     "data": {
      "image/png": "[encoded data removed]",
      "text/plain": [
       "<matplotlib.figure.Figure at 0x117acb160>"
      ]
     },
     "metadata": {},
     "output_type": "display_data"
    }
   ],
   "source": [
    "df1.boxplot(column='loyalty_points', rot=90)\n",
    "\n",
    "# 没有outlierDisplay the plot\n",
    "plt.show()\n"
   ]
  },
  {
   "cell_type": "code",
   "execution_count": 145,
   "metadata": {},
   "outputs": [
    {
     "data": {
      "image/png": "[encoded data removed]",
      "text/plain": [
       "<matplotlib.figure.Figure at 0x1141a8a90>"
      ]
     },
     "metadata": {},
     "output_type": "display_data"
    }
   ],
   "source": [
    "df1.boxplot(column='interests_last_month', rot=90)\n",
    "\n",
    "# 有outlierDisplay the plot\n",
    "plt.show()\n"
   ]
  },
  {
   "cell_type": "code",
   "execution_count": 229,
   "metadata": {},
   "outputs": [
    {
     "data": {
      "image/png": "[encoded data removed]",
      "text/plain": [
       "<matplotlib.figure.Figure at 0x1115ecd68>"
      ]
     },
     "metadata": {},
     "output_type": "display_data"
    }
   ],
   "source": [
    "df1.boxplot(column='credit_score', rot=90)\n",
    "plt.show()\n"
   ]
  },
  {
   "cell_type": "code",
   "execution_count": 253,
   "metadata": {},
   "outputs": [
    {
     "data": {
      "image/png": "[encoded data removed]",
      "text/plain": [
       "<matplotlib.figure.Figure at 0x118a74a20>"
      ]
     },
     "metadata": {},
     "output_type": "display_data"
    }
   ],
   "source": [
    "df4.boxplot(column='credit_limit', rot=90)\n",
    "plt.show()"
   ]
  },
  {
   "cell_type": "markdown",
   "metadata": {},
   "source": [
    "# 作图histogram：分布\n",
    "### 是否存在capped\n",
    "### 是否histograms--tail heavy:\n",
    "\n",
    "- 纵轴样本量\n",
    "- 横轴样本的range/value\n",
    "- 可全部/可单个\n",
    "- 是否bell-shaped分布\n",
    "**they extend much farther to the right of the median than to the left.** This may make it a bit harder for some Machine Learning algorithms to detect patterns. We will try transforming these attributes later on to** have more bell-shaped distributions.**\n",
    "## 全部histograms：df1.hist(bins=50, figsize=(20,15))\n",
    "**有的图分布很偏是因为有很多极端值，极大值** \n",
    "- avg_age \n",
    "- credit_limit \n",
    "- credit_score 极小值太小\n",
    "- loyal_points\n",
    "- interested last month\n",
    "- used credits"
   ]
  },
  {
   "cell_type": "code",
   "execution_count": 75,
   "metadata": {},
   "outputs": [
    {
     "data": {
      "image/png": "[encoded data removed]",
      "text/plain": [
       "<matplotlib.figure.Figure at 0x1105a44a8>"
      ]
     },
     "metadata": {},
     "output_type": "display_data"
    }
   ],
   "source": [
    "import matplotlib.pyplot as plt\n",
    "df1.hist(bins=50, figsize=(20,15))\n",
    "plt.show()"
   ]
  },
  {
   "cell_type": "markdown",
   "metadata": {},
   "source": [
    "## 单个histogram--更改X：ange\n",
    "\n",
    "**If there are extremely large differences between the min and max values, and the plot will need to be adjusted accordingly. In such cases, it's good to look at the plot on a log scale. The keyword arguments logx=True or logy=True can be passed in to .plot() depending on which axis you want to rescale.**\n",
    "\n",
    "- df1['avg_age']  \n",
    "- df1['credit_limit']\n",
    "- df1['credit_score']\n",
    "- df1['interests_last_month']\n",
    "- df1['loyalty_points']\n",
    "- df1['used_credit']"
   ]
  },
  {
   "cell_type": "code",
   "execution_count": 117,
   "metadata": {},
   "outputs": [
    {
     "data": {
      "image/png": "[encoded data removed]",
      "text/plain": [
       "<matplotlib.figure.Figure at 0x124061cf8>"
      ]
     },
     "metadata": {},
     "output_type": "display_data"
    }
   ],
   "source": [
    "# Import matplotlib.pyplot\n",
    "import matplotlib.pyplot as plt\n",
    "\n",
    "# 对histogram数据log化不合适： Plot the histogram  \n",
    "df1['nb_days_account_open'].plot(kind='hist', rot=70, logx=True, logy=True)\n",
    "\n",
    "# Display the histogram\n",
    "plt.show()"
   ]
  },
  {
   "cell_type": "code",
   "execution_count": 119,
   "metadata": {},
   "outputs": [
    {
     "data": {
      "image/png": "[encoded data removed]",
      "text/plain": [
       "<matplotlib.figure.Figure at 0x139a20be0>"
      ]
     },
     "metadata": {},
     "output_type": "display_data"
    }
   ],
   "source": [
    "#取消histogram的log 只有hist\n",
    "df1['nb_days_account_open'].plot(kind='hist')\n",
    "plt.show()"
   ]
  },
  {
   "cell_type": "code",
   "execution_count": 71,
   "metadata": {},
   "outputs": [
    {
     "data": {
      "image/png": "[encoded data removed]",
      "text/plain": [
       "<matplotlib.figure.Figure at 0x110ca6240>"
      ]
     },
     "metadata": {},
     "output_type": "display_data"
    }
   ],
   "source": [
    "# 另一种histogram，变量：平均年龄\n",
    "# 横轴纵轴范围大小.xlim\n",
    "df1['avg_age'].hist(bins=100, figsize=(5,5))\n",
    "plt.xlim((0, 100))\n",
    "plt.ylim((0, 80000))\n",
    "plt.title('TITLE')\n",
    "plt.xlabel('variableX')\n",
    "plt.ylabel('count')\n",
    "plt.show()"
   ]
  },
  {
   "cell_type": "code",
   "execution_count": 72,
   "metadata": {
    "scrolled": true
   },
   "outputs": [
    {
     "data": {
      "image/png": "[encoded data removed]",
      "text/plain": [
       "<matplotlib.figure.Figure at 0x10bb3dc18>"
      ]
     },
     "metadata": {},
     "output_type": "display_data"
    }
   ],
   "source": [
    "import numpy as np\n",
    "from matplotlib import pyplot as plt\n",
    "\n",
    "df1['avg_age'].hist(bins=100, figsize=(5,5)) \n",
    "plt.xlim((0,100)) \n",
    "plt.title('TITLE')\n",
    "plt.xlabel('variable X ')\n",
    "plt.ylabel('count') \n",
    "plt.show()"
   ]
  },
  {
   "cell_type": "code",
   "execution_count": 91,
   "metadata": {},
   "outputs": [
    {
     "data": {
      "image/png": "[encoded data removed]",
      "text/plain": [
       "<matplotlib.figure.Figure at 0x11c6f7128>"
      ]
     },
     "metadata": {},
     "output_type": "display_data"
    }
   ],
   "source": [
    "#变量 credit-limit\n",
    "df1['avg_age'].hist(bins=100, figsize=(5,5)) \n",
    "plt.xlim((0,100)) \n",
    "plt.show()"
   ]
  },
  {
   "cell_type": "code",
   "execution_count": 96,
   "metadata": {},
   "outputs": [
    {
     "data": {
      "text/plain": [
       "4.0"
      ]
     },
     "execution_count": 96,
     "metadata": {},
     "output_type": "execute_result"
    }
   ],
   "source": [
    "df1['avg_age'].()"
   ]
  },
  {
   "cell_type": "code",
   "execution_count": null,
   "metadata": {
    "collapsed": true
   },
   "outputs": [],
   "source": [
    "案例--filter\n",
    "# Import numpy\n",
    "import numpy as np\n",
    "\n",
    "# 确定DF中一个列的范围：Create the boolean array: too_close\n",
    "too_close = election['margin'] < 1\n",
    "\n",
    "# Assign np.nan to the 'winner' column where the results were too close to call\n",
    "election.loc[too_close, 'winner'] = np.nan\n",
    "\n",
    "# Print the output of election.info()\n",
    "print(election.info())"
   ]
  },
  {
   "cell_type": "code",
   "execution_count": null,
   "metadata": {
    "collapsed": true
   },
   "outputs": [],
   "source": []
  },
  {
   "cell_type": "code",
   "execution_count": null,
   "metadata": {
    "collapsed": true
   },
   "outputs": [],
   "source": []
  },
  {
   "cell_type": "markdown",
   "metadata": {},
   "source": [
    "## df.iloc[:, 1:10] 取第2列到第9列，不要10，0打头\n",
    "##  df2 = df1.iloc[:,1:14] 去除了第一列accountID"
   ]
  },
  {
   "cell_type": "code",
   "execution_count": null,
   "metadata": {
    "collapsed": true
   },
   "outputs": [],
   "source": [
    "# 根据名字去除column\n",
    "# 从开始到column‘Obama’\n",
    "left_columns = election.loc[:, :'Obama']\n",
    "\n",
    "# 从column'Obama'到'winner':\n",
    "#Slice the columns from 'Obama' to 'winner': middle_columns\n",
    "middle_columns = election.loc[:, 'Obama':'winner']"
   ]
  },
  {
   "cell_type": "code",
   "execution_count": 216,
   "metadata": {},
   "outputs": [
    {
     "data": {
      "text/html": [
       "<div>\n",
       "<style>\n",
       "    .dataframe thead tr:only-child th {\n",
       "        text-align: right;\n",
       "    }\n",
       "\n",
       "    .dataframe thead th {\n",
       "        text-align: left;\n",
       "    }\n",
       "\n",
       "    .dataframe tbody tr th {\n",
       "        vertical-align: top;\n",
       "    }\n",
       "</style>\n",
       "<table border=\"1\" class=\"dataframe\">\n",
       "  <thead>\n",
       "    <tr style=\"text-align: right;\">\n",
       "      <th></th>\n",
       "      <th>used_credit</th>\n",
       "      <th>credit_limit</th>\n",
       "      <th>credit_score</th>\n",
       "      <th>nb_days_account_open</th>\n",
       "      <th>interests_last_month</th>\n",
       "      <th>loyalty_points</th>\n",
       "      <th>reward_type</th>\n",
       "      <th>card_change</th>\n",
       "      <th>avg_age</th>\n",
       "      <th>distinct_names</th>\n",
       "      <th>card_type_name</th>\n",
       "      <th>insurance_plan</th>\n",
       "    </tr>\n",
       "  </thead>\n",
       "  <tbody>\n",
       "    <tr>\n",
       "      <th>0</th>\n",
       "      <td>1431</td>\n",
       "      <td>5500</td>\n",
       "      <td>772.0</td>\n",
       "      <td>9034.0</td>\n",
       "      <td>0.00</td>\n",
       "      <td>6243.0</td>\n",
       "      <td>R</td>\n",
       "      <td>1</td>\n",
       "      <td>62.00</td>\n",
       "      <td>1</td>\n",
       "      <td>O CARTE OR EDITION QUEBEC</td>\n",
       "      <td>NaN</td>\n",
       "    </tr>\n",
       "    <tr>\n",
       "      <th>1</th>\n",
       "      <td>0</td>\n",
       "      <td>6500</td>\n",
       "      <td>800.0</td>\n",
       "      <td>579.0</td>\n",
       "      <td>0.00</td>\n",
       "      <td>0.0</td>\n",
       "      <td>A</td>\n",
       "      <td>0</td>\n",
       "      <td>70.00</td>\n",
       "      <td>1</td>\n",
       "      <td>CAA</td>\n",
       "      <td>NaN</td>\n",
       "    </tr>\n",
       "    <tr>\n",
       "      <th>2</th>\n",
       "      <td>2174</td>\n",
       "      <td>10250</td>\n",
       "      <td>822.0</td>\n",
       "      <td>14752.0</td>\n",
       "      <td>38.44</td>\n",
       "      <td>1184.0</td>\n",
       "      <td>R</td>\n",
       "      <td>1</td>\n",
       "      <td>67.00</td>\n",
       "      <td>1</td>\n",
       "      <td>O CARTE OR EDITION QUEBEC</td>\n",
       "      <td>NaN</td>\n",
       "    </tr>\n",
       "    <tr>\n",
       "      <th>3</th>\n",
       "      <td>3451</td>\n",
       "      <td>15000</td>\n",
       "      <td>822.0</td>\n",
       "      <td>5235.0</td>\n",
       "      <td>0.00</td>\n",
       "      <td>102255.0</td>\n",
       "      <td>P</td>\n",
       "      <td>1</td>\n",
       "      <td>47.00</td>\n",
       "      <td>1</td>\n",
       "      <td>World</td>\n",
       "      <td>NaN</td>\n",
       "    </tr>\n",
       "    <tr>\n",
       "      <th>4</th>\n",
       "      <td>4780</td>\n",
       "      <td>8000</td>\n",
       "      <td>776.0</td>\n",
       "      <td>3112.0</td>\n",
       "      <td>52.37</td>\n",
       "      <td>985.0</td>\n",
       "      <td>R</td>\n",
       "      <td>0</td>\n",
       "      <td>48.00</td>\n",
       "      <td>1</td>\n",
       "      <td>O CARTE OR EDITION QUEBEC</td>\n",
       "      <td>NaN</td>\n",
       "    </tr>\n",
       "    <tr>\n",
       "      <th>5</th>\n",
       "      <td>3477</td>\n",
       "      <td>4000</td>\n",
       "      <td>674.0</td>\n",
       "      <td>576.0</td>\n",
       "      <td>51.05</td>\n",
       "      <td>0.0</td>\n",
       "      <td>A</td>\n",
       "      <td>0</td>\n",
       "      <td>31.00</td>\n",
       "      <td>1</td>\n",
       "      <td>CAA</td>\n",
       "      <td>NaN</td>\n",
       "    </tr>\n",
       "    <tr>\n",
       "      <th>6</th>\n",
       "      <td>137</td>\n",
       "      <td>7500</td>\n",
       "      <td>725.0</td>\n",
       "      <td>2378.0</td>\n",
       "      <td>1.02</td>\n",
       "      <td>7953.0</td>\n",
       "      <td>P</td>\n",
       "      <td>0</td>\n",
       "      <td>62.00</td>\n",
       "      <td>1</td>\n",
       "      <td>PLATINE BNC</td>\n",
       "      <td>Regular</td>\n",
       "    </tr>\n",
       "    <tr>\n",
       "      <th>7</th>\n",
       "      <td>-7</td>\n",
       "      <td>2500</td>\n",
       "      <td>809.0</td>\n",
       "      <td>601.0</td>\n",
       "      <td>0.00</td>\n",
       "      <td>114.0</td>\n",
       "      <td>R</td>\n",
       "      <td>0</td>\n",
       "      <td>21.00</td>\n",
       "      <td>1</td>\n",
       "      <td>O CARTE OR EDITION QUEBEC</td>\n",
       "      <td>NaN</td>\n",
       "    </tr>\n",
       "    <tr>\n",
       "      <th>8</th>\n",
       "      <td>-11</td>\n",
       "      <td>2500</td>\n",
       "      <td>776.0</td>\n",
       "      <td>3171.0</td>\n",
       "      <td>0.00</td>\n",
       "      <td>0.0</td>\n",
       "      <td>N</td>\n",
       "      <td>0</td>\n",
       "      <td>71.00</td>\n",
       "      <td>1</td>\n",
       "      <td>O CARTE OR EDITION QUEBEC</td>\n",
       "      <td>NaN</td>\n",
       "    </tr>\n",
       "    <tr>\n",
       "      <th>9</th>\n",
       "      <td>0</td>\n",
       "      <td>2850</td>\n",
       "      <td>NaN</td>\n",
       "      <td>12654.0</td>\n",
       "      <td>0.00</td>\n",
       "      <td>373.0</td>\n",
       "      <td>R</td>\n",
       "      <td>1</td>\n",
       "      <td>69.00</td>\n",
       "      <td>1</td>\n",
       "      <td>O CARTE OR EDITION QUEBEC</td>\n",
       "      <td>Regular</td>\n",
       "    </tr>\n",
       "    <tr>\n",
       "      <th>10</th>\n",
       "      <td>46</td>\n",
       "      <td>7000</td>\n",
       "      <td>854.0</td>\n",
       "      <td>8700.0</td>\n",
       "      <td>0.00</td>\n",
       "      <td>929.0</td>\n",
       "      <td>R</td>\n",
       "      <td>1</td>\n",
       "      <td>59.00</td>\n",
       "      <td>1</td>\n",
       "      <td>O CARTE OR EDITION QUEBEC</td>\n",
       "      <td>Regular</td>\n",
       "    </tr>\n",
       "    <tr>\n",
       "      <th>11</th>\n",
       "      <td>3830</td>\n",
       "      <td>13250</td>\n",
       "      <td>798.0</td>\n",
       "      <td>9564.0</td>\n",
       "      <td>53.95</td>\n",
       "      <td>163687.0</td>\n",
       "      <td>P</td>\n",
       "      <td>1</td>\n",
       "      <td>22.75</td>\n",
       "      <td>4</td>\n",
       "      <td>World</td>\n",
       "      <td>NaN</td>\n",
       "    </tr>\n",
       "    <tr>\n",
       "      <th>12</th>\n",
       "      <td>43</td>\n",
       "      <td>10500</td>\n",
       "      <td>818.0</td>\n",
       "      <td>2228.0</td>\n",
       "      <td>0.00</td>\n",
       "      <td>0.0</td>\n",
       "      <td>N</td>\n",
       "      <td>0</td>\n",
       "      <td>52.00</td>\n",
       "      <td>1</td>\n",
       "      <td>MC1 (JEUNES)</td>\n",
       "      <td>Regular</td>\n",
       "    </tr>\n",
       "    <tr>\n",
       "      <th>13</th>\n",
       "      <td>229</td>\n",
       "      <td>1500</td>\n",
       "      <td>811.0</td>\n",
       "      <td>840.0</td>\n",
       "      <td>3.14</td>\n",
       "      <td>1501.0</td>\n",
       "      <td>R</td>\n",
       "      <td>0</td>\n",
       "      <td>20.00</td>\n",
       "      <td>1</td>\n",
       "      <td>O CARTE OR EDITION QUEBEC</td>\n",
       "      <td>NaN</td>\n",
       "    </tr>\n",
       "    <tr>\n",
       "      <th>14</th>\n",
       "      <td>88</td>\n",
       "      <td>500</td>\n",
       "      <td>729.0</td>\n",
       "      <td>2175.0</td>\n",
       "      <td>0.00</td>\n",
       "      <td>646.0</td>\n",
       "      <td>R</td>\n",
       "      <td>0</td>\n",
       "      <td>65.00</td>\n",
       "      <td>1</td>\n",
       "      <td>O CARTE OR EDITION QUEBEC</td>\n",
       "      <td>Regular</td>\n",
       "    </tr>\n",
       "    <tr>\n",
       "      <th>15</th>\n",
       "      <td>268</td>\n",
       "      <td>8000</td>\n",
       "      <td>821.0</td>\n",
       "      <td>14580.0</td>\n",
       "      <td>0.00</td>\n",
       "      <td>7210.0</td>\n",
       "      <td>R</td>\n",
       "      <td>1</td>\n",
       "      <td>63.00</td>\n",
       "      <td>1</td>\n",
       "      <td>O CARTE OR EDITION QUEBEC</td>\n",
       "      <td>Regular</td>\n",
       "    </tr>\n",
       "    <tr>\n",
       "      <th>16</th>\n",
       "      <td>11607</td>\n",
       "      <td>12500</td>\n",
       "      <td>671.0</td>\n",
       "      <td>5260.0</td>\n",
       "      <td>131.64</td>\n",
       "      <td>1808.0</td>\n",
       "      <td>R</td>\n",
       "      <td>1</td>\n",
       "      <td>67.00</td>\n",
       "      <td>1</td>\n",
       "      <td>O CARTE OR EDITION QUEBEC</td>\n",
       "      <td>NaN</td>\n",
       "    </tr>\n",
       "    <tr>\n",
       "      <th>17</th>\n",
       "      <td>2404</td>\n",
       "      <td>12500</td>\n",
       "      <td>803.0</td>\n",
       "      <td>7380.0</td>\n",
       "      <td>0.00</td>\n",
       "      <td>324594.0</td>\n",
       "      <td>P</td>\n",
       "      <td>0</td>\n",
       "      <td>56.00</td>\n",
       "      <td>2</td>\n",
       "      <td>O OR ING</td>\n",
       "      <td>NaN</td>\n",
       "    </tr>\n",
       "    <tr>\n",
       "      <th>18</th>\n",
       "      <td>622</td>\n",
       "      <td>10000</td>\n",
       "      <td>761.0</td>\n",
       "      <td>187.0</td>\n",
       "      <td>8.43</td>\n",
       "      <td>696.0</td>\n",
       "      <td>R</td>\n",
       "      <td>0</td>\n",
       "      <td>42.00</td>\n",
       "      <td>1</td>\n",
       "      <td>O CARTE OR EDITION QUEBEC</td>\n",
       "      <td>NaN</td>\n",
       "    </tr>\n",
       "    <tr>\n",
       "      <th>19</th>\n",
       "      <td>2240</td>\n",
       "      <td>7000</td>\n",
       "      <td>762.0</td>\n",
       "      <td>1281.0</td>\n",
       "      <td>29.38</td>\n",
       "      <td>1884.0</td>\n",
       "      <td>R</td>\n",
       "      <td>0</td>\n",
       "      <td>31.00</td>\n",
       "      <td>1</td>\n",
       "      <td>O CARTE OR EDITION QUEBEC</td>\n",
       "      <td>NaN</td>\n",
       "    </tr>\n",
       "  </tbody>\n",
       "</table>\n",
       "</div>"
      ],
      "text/plain": [
       "    used_credit  credit_limit  credit_score  nb_days_account_open  \\\n",
       "0          1431          5500         772.0                9034.0   \n",
       "1             0          6500         800.0                 579.0   \n",
       "2          2174         10250         822.0               14752.0   \n",
       "3          3451         15000         822.0                5235.0   \n",
       "4          4780          8000         776.0                3112.0   \n",
       "5          3477          4000         674.0                 576.0   \n",
       "6           137          7500         725.0                2378.0   \n",
       "7            -7          2500         809.0                 601.0   \n",
       "8           -11          2500         776.0                3171.0   \n",
       "9             0          2850           NaN               12654.0   \n",
       "10           46          7000         854.0                8700.0   \n",
       "11         3830         13250         798.0                9564.0   \n",
       "12           43         10500         818.0                2228.0   \n",
       "13          229          1500         811.0                 840.0   \n",
       "14           88           500         729.0                2175.0   \n",
       "15          268          8000         821.0               14580.0   \n",
       "16        11607         12500         671.0                5260.0   \n",
       "17         2404         12500         803.0                7380.0   \n",
       "18          622         10000         761.0                 187.0   \n",
       "19         2240          7000         762.0                1281.0   \n",
       "\n",
       "    interests_last_month  loyalty_points reward_type  card_change  avg_age  \\\n",
       "0                   0.00          6243.0           R            1    62.00   \n",
       "1                   0.00             0.0           A            0    70.00   \n",
       "2                  38.44          1184.0           R            1    67.00   \n",
       "3                   0.00        102255.0           P            1    47.00   \n",
       "4                  52.37           985.0           R            0    48.00   \n",
       "5                  51.05             0.0           A            0    31.00   \n",
       "6                   1.02          7953.0           P            0    62.00   \n",
       "7                   0.00           114.0           R            0    21.00   \n",
       "8                   0.00             0.0           N            0    71.00   \n",
       "9                   0.00           373.0           R            1    69.00   \n",
       "10                  0.00           929.0           R            1    59.00   \n",
       "11                 53.95        163687.0           P            1    22.75   \n",
       "12                  0.00             0.0           N            0    52.00   \n",
       "13                  3.14          1501.0           R            0    20.00   \n",
       "14                  0.00           646.0           R            0    65.00   \n",
       "15                  0.00          7210.0           R            1    63.00   \n",
       "16                131.64          1808.0           R            1    67.00   \n",
       "17                  0.00        324594.0           P            0    56.00   \n",
       "18                  8.43           696.0           R            0    42.00   \n",
       "19                 29.38          1884.0           R            0    31.00   \n",
       "\n",
       "    distinct_names             card_type_name insurance_plan  \n",
       "0                1  O CARTE OR EDITION QUEBEC            NaN  \n",
       "1                1                        CAA            NaN  \n",
       "2                1  O CARTE OR EDITION QUEBEC            NaN  \n",
       "3                1                      World            NaN  \n",
       "4                1  O CARTE OR EDITION QUEBEC            NaN  \n",
       "5                1                        CAA            NaN  \n",
       "6                1                PLATINE BNC        Regular  \n",
       "7                1  O CARTE OR EDITION QUEBEC            NaN  \n",
       "8                1  O CARTE OR EDITION QUEBEC            NaN  \n",
       "9                1  O CARTE OR EDITION QUEBEC        Regular  \n",
       "10               1  O CARTE OR EDITION QUEBEC        Regular  \n",
       "11               4                      World            NaN  \n",
       "12               1               MC1 (JEUNES)        Regular  \n",
       "13               1  O CARTE OR EDITION QUEBEC            NaN  \n",
       "14               1  O CARTE OR EDITION QUEBEC        Regular  \n",
       "15               1  O CARTE OR EDITION QUEBEC        Regular  \n",
       "16               1  O CARTE OR EDITION QUEBEC            NaN  \n",
       "17               2                   O OR ING            NaN  \n",
       "18               1  O CARTE OR EDITION QUEBEC            NaN  \n",
       "19               1  O CARTE OR EDITION QUEBEC            NaN  "
      ]
     },
     "execution_count": 216,
     "metadata": {},
     "output_type": "execute_result"
    }
   ],
   "source": [
    "#去掉了第一列 只是编号\n",
    "df2 = df1.iloc[:,1:14]\n",
    "df2.head(20) "
   ]
  },
  {
   "cell_type": "markdown",
   "metadata": {},
   "source": [
    "## 选取部分df作为df\n",
    "-  Create the list of row labels: rows\n",
    "\n",
    "rows = ['Philadelphia', 'Centre', 'Fulton']\n",
    "\n",
    "-  Create the list of column labels: cols\n",
    "\n",
    "cols = ['winner', 'Obama', 'Romney']\n",
    "\n",
    "-  Create the new DataFrame: three_counties\n",
    "\n",
    "three_counties = election.loc[rows, cols]\n",
    "\n",
    "- 大df[['列1'，‘列2’]] = 小df"
   ]
  },
  {
   "cell_type": "code",
   "execution_count": 217,
   "metadata": {
    "scrolled": true
   },
   "outputs": [
    {
     "data": {
      "text/html": [
       "<div>\n",
       "<style>\n",
       "    .dataframe thead tr:only-child th {\n",
       "        text-align: right;\n",
       "    }\n",
       "\n",
       "    .dataframe thead th {\n",
       "        text-align: left;\n",
       "    }\n",
       "\n",
       "    .dataframe tbody tr th {\n",
       "        vertical-align: top;\n",
       "    }\n",
       "</style>\n",
       "<table border=\"1\" class=\"dataframe\">\n",
       "  <thead>\n",
       "    <tr style=\"text-align: right;\">\n",
       "      <th></th>\n",
       "      <th>used_credit</th>\n",
       "      <th>credit_limit</th>\n",
       "      <th>credit_score</th>\n",
       "      <th>nb_days_account_open</th>\n",
       "      <th>interests_last_month</th>\n",
       "      <th>loyalty_points</th>\n",
       "      <th>reward_type</th>\n",
       "      <th>card_change</th>\n",
       "      <th>avg_age</th>\n",
       "      <th>distinct_names</th>\n",
       "      <th>card_type_name</th>\n",
       "      <th>insurance_plan</th>\n",
       "    </tr>\n",
       "  </thead>\n",
       "  <tbody>\n",
       "    <tr>\n",
       "      <th>0</th>\n",
       "      <td>1431</td>\n",
       "      <td>5500</td>\n",
       "      <td>772.0</td>\n",
       "      <td>9034.0</td>\n",
       "      <td>0.00</td>\n",
       "      <td>6243.0</td>\n",
       "      <td>R</td>\n",
       "      <td>1</td>\n",
       "      <td>62.0</td>\n",
       "      <td>1</td>\n",
       "      <td>O CARTE OR EDITION QUEBEC</td>\n",
       "      <td>NaN</td>\n",
       "    </tr>\n",
       "    <tr>\n",
       "      <th>1</th>\n",
       "      <td>0</td>\n",
       "      <td>6500</td>\n",
       "      <td>800.0</td>\n",
       "      <td>579.0</td>\n",
       "      <td>0.00</td>\n",
       "      <td>0.0</td>\n",
       "      <td>A</td>\n",
       "      <td>0</td>\n",
       "      <td>70.0</td>\n",
       "      <td>1</td>\n",
       "      <td>CAA</td>\n",
       "      <td>NaN</td>\n",
       "    </tr>\n",
       "    <tr>\n",
       "      <th>2</th>\n",
       "      <td>2174</td>\n",
       "      <td>10250</td>\n",
       "      <td>822.0</td>\n",
       "      <td>14752.0</td>\n",
       "      <td>38.44</td>\n",
       "      <td>1184.0</td>\n",
       "      <td>R</td>\n",
       "      <td>1</td>\n",
       "      <td>67.0</td>\n",
       "      <td>1</td>\n",
       "      <td>O CARTE OR EDITION QUEBEC</td>\n",
       "      <td>NaN</td>\n",
       "    </tr>\n",
       "    <tr>\n",
       "      <th>3</th>\n",
       "      <td>3451</td>\n",
       "      <td>15000</td>\n",
       "      <td>822.0</td>\n",
       "      <td>5235.0</td>\n",
       "      <td>0.00</td>\n",
       "      <td>102255.0</td>\n",
       "      <td>P</td>\n",
       "      <td>1</td>\n",
       "      <td>47.0</td>\n",
       "      <td>1</td>\n",
       "      <td>World</td>\n",
       "      <td>NaN</td>\n",
       "    </tr>\n",
       "    <tr>\n",
       "      <th>4</th>\n",
       "      <td>4780</td>\n",
       "      <td>8000</td>\n",
       "      <td>776.0</td>\n",
       "      <td>3112.0</td>\n",
       "      <td>52.37</td>\n",
       "      <td>985.0</td>\n",
       "      <td>R</td>\n",
       "      <td>0</td>\n",
       "      <td>48.0</td>\n",
       "      <td>1</td>\n",
       "      <td>O CARTE OR EDITION QUEBEC</td>\n",
       "      <td>NaN</td>\n",
       "    </tr>\n",
       "  </tbody>\n",
       "</table>\n",
       "</div>"
      ],
      "text/plain": [
       "   used_credit  credit_limit  credit_score  nb_days_account_open  \\\n",
       "0         1431          5500         772.0                9034.0   \n",
       "1            0          6500         800.0                 579.0   \n",
       "2         2174         10250         822.0               14752.0   \n",
       "3         3451         15000         822.0                5235.0   \n",
       "4         4780          8000         776.0                3112.0   \n",
       "\n",
       "   interests_last_month  loyalty_points reward_type  card_change  avg_age  \\\n",
       "0                  0.00          6243.0           R            1     62.0   \n",
       "1                  0.00             0.0           A            0     70.0   \n",
       "2                 38.44          1184.0           R            1     67.0   \n",
       "3                  0.00        102255.0           P            1     47.0   \n",
       "4                 52.37           985.0           R            0     48.0   \n",
       "\n",
       "   distinct_names             card_type_name insurance_plan  \n",
       "0               1  O CARTE OR EDITION QUEBEC            NaN  \n",
       "1               1                        CAA            NaN  \n",
       "2               1  O CARTE OR EDITION QUEBEC            NaN  \n",
       "3               1                      World            NaN  \n",
       "4               1  O CARTE OR EDITION QUEBEC            NaN  "
      ]
     },
     "execution_count": 217,
     "metadata": {},
     "output_type": "execute_result"
    }
   ],
   "source": [
    "df_small = df2.iloc[0:6, :]\n",
    "df_small.head()"
   ]
  },
  {
   "cell_type": "code",
   "execution_count": 221,
   "metadata": {},
   "outputs": [
    {
     "data": {
      "text/html": [
       "<div>\n",
       "<style>\n",
       "    .dataframe thead tr:only-child th {\n",
       "        text-align: right;\n",
       "    }\n",
       "\n",
       "    .dataframe thead th {\n",
       "        text-align: left;\n",
       "    }\n",
       "\n",
       "    .dataframe tbody tr th {\n",
       "        vertical-align: top;\n",
       "    }\n",
       "</style>\n",
       "<table border=\"1\" class=\"dataframe\">\n",
       "  <thead>\n",
       "    <tr style=\"text-align: right;\">\n",
       "      <th></th>\n",
       "      <th>used_credit</th>\n",
       "      <th>credit_limit</th>\n",
       "      <th>credit_score</th>\n",
       "      <th>nb_days_account_open</th>\n",
       "      <th>interests_last_month</th>\n",
       "      <th>loyalty_points</th>\n",
       "      <th>reward_type</th>\n",
       "      <th>card_change</th>\n",
       "      <th>avg_age</th>\n",
       "      <th>distinct_names</th>\n",
       "      <th>card_type_name</th>\n",
       "      <th>insurance_plan</th>\n",
       "    </tr>\n",
       "  </thead>\n",
       "  <tbody>\n",
       "    <tr>\n",
       "      <th>0</th>\n",
       "      <td>1431</td>\n",
       "      <td>5500</td>\n",
       "      <td>772.0</td>\n",
       "      <td>9034.0</td>\n",
       "      <td>0.00</td>\n",
       "      <td>6243.0</td>\n",
       "      <td>R</td>\n",
       "      <td>1</td>\n",
       "      <td>62.00</td>\n",
       "      <td>1</td>\n",
       "      <td>O CARTE OR EDITION QUEBEC</td>\n",
       "      <td>0</td>\n",
       "    </tr>\n",
       "    <tr>\n",
       "      <th>1</th>\n",
       "      <td>0</td>\n",
       "      <td>6500</td>\n",
       "      <td>800.0</td>\n",
       "      <td>579.0</td>\n",
       "      <td>0.00</td>\n",
       "      <td>0.0</td>\n",
       "      <td>A</td>\n",
       "      <td>0</td>\n",
       "      <td>70.00</td>\n",
       "      <td>1</td>\n",
       "      <td>CAA</td>\n",
       "      <td>0</td>\n",
       "    </tr>\n",
       "    <tr>\n",
       "      <th>2</th>\n",
       "      <td>2174</td>\n",
       "      <td>10250</td>\n",
       "      <td>822.0</td>\n",
       "      <td>14752.0</td>\n",
       "      <td>38.44</td>\n",
       "      <td>1184.0</td>\n",
       "      <td>R</td>\n",
       "      <td>1</td>\n",
       "      <td>67.00</td>\n",
       "      <td>1</td>\n",
       "      <td>O CARTE OR EDITION QUEBEC</td>\n",
       "      <td>0</td>\n",
       "    </tr>\n",
       "    <tr>\n",
       "      <th>3</th>\n",
       "      <td>3451</td>\n",
       "      <td>15000</td>\n",
       "      <td>822.0</td>\n",
       "      <td>5235.0</td>\n",
       "      <td>0.00</td>\n",
       "      <td>102255.0</td>\n",
       "      <td>P</td>\n",
       "      <td>1</td>\n",
       "      <td>47.00</td>\n",
       "      <td>1</td>\n",
       "      <td>World</td>\n",
       "      <td>0</td>\n",
       "    </tr>\n",
       "    <tr>\n",
       "      <th>4</th>\n",
       "      <td>4780</td>\n",
       "      <td>8000</td>\n",
       "      <td>776.0</td>\n",
       "      <td>3112.0</td>\n",
       "      <td>52.37</td>\n",
       "      <td>985.0</td>\n",
       "      <td>R</td>\n",
       "      <td>0</td>\n",
       "      <td>48.00</td>\n",
       "      <td>1</td>\n",
       "      <td>O CARTE OR EDITION QUEBEC</td>\n",
       "      <td>0</td>\n",
       "    </tr>\n",
       "    <tr>\n",
       "      <th>5</th>\n",
       "      <td>3477</td>\n",
       "      <td>4000</td>\n",
       "      <td>674.0</td>\n",
       "      <td>576.0</td>\n",
       "      <td>51.05</td>\n",
       "      <td>0.0</td>\n",
       "      <td>A</td>\n",
       "      <td>0</td>\n",
       "      <td>31.00</td>\n",
       "      <td>1</td>\n",
       "      <td>CAA</td>\n",
       "      <td>0</td>\n",
       "    </tr>\n",
       "    <tr>\n",
       "      <th>6</th>\n",
       "      <td>137</td>\n",
       "      <td>7500</td>\n",
       "      <td>725.0</td>\n",
       "      <td>2378.0</td>\n",
       "      <td>1.02</td>\n",
       "      <td>7953.0</td>\n",
       "      <td>P</td>\n",
       "      <td>0</td>\n",
       "      <td>62.00</td>\n",
       "      <td>1</td>\n",
       "      <td>PLATINE BNC</td>\n",
       "      <td>Regular</td>\n",
       "    </tr>\n",
       "    <tr>\n",
       "      <th>7</th>\n",
       "      <td>-7</td>\n",
       "      <td>2500</td>\n",
       "      <td>809.0</td>\n",
       "      <td>601.0</td>\n",
       "      <td>0.00</td>\n",
       "      <td>114.0</td>\n",
       "      <td>R</td>\n",
       "      <td>0</td>\n",
       "      <td>21.00</td>\n",
       "      <td>1</td>\n",
       "      <td>O CARTE OR EDITION QUEBEC</td>\n",
       "      <td>0</td>\n",
       "    </tr>\n",
       "    <tr>\n",
       "      <th>8</th>\n",
       "      <td>-11</td>\n",
       "      <td>2500</td>\n",
       "      <td>776.0</td>\n",
       "      <td>3171.0</td>\n",
       "      <td>0.00</td>\n",
       "      <td>0.0</td>\n",
       "      <td>N</td>\n",
       "      <td>0</td>\n",
       "      <td>71.00</td>\n",
       "      <td>1</td>\n",
       "      <td>O CARTE OR EDITION QUEBEC</td>\n",
       "      <td>0</td>\n",
       "    </tr>\n",
       "    <tr>\n",
       "      <th>9</th>\n",
       "      <td>0</td>\n",
       "      <td>2850</td>\n",
       "      <td>NaN</td>\n",
       "      <td>12654.0</td>\n",
       "      <td>0.00</td>\n",
       "      <td>373.0</td>\n",
       "      <td>R</td>\n",
       "      <td>1</td>\n",
       "      <td>69.00</td>\n",
       "      <td>1</td>\n",
       "      <td>O CARTE OR EDITION QUEBEC</td>\n",
       "      <td>Regular</td>\n",
       "    </tr>\n",
       "    <tr>\n",
       "      <th>10</th>\n",
       "      <td>46</td>\n",
       "      <td>7000</td>\n",
       "      <td>854.0</td>\n",
       "      <td>8700.0</td>\n",
       "      <td>0.00</td>\n",
       "      <td>929.0</td>\n",
       "      <td>R</td>\n",
       "      <td>1</td>\n",
       "      <td>59.00</td>\n",
       "      <td>1</td>\n",
       "      <td>O CARTE OR EDITION QUEBEC</td>\n",
       "      <td>Regular</td>\n",
       "    </tr>\n",
       "    <tr>\n",
       "      <th>11</th>\n",
       "      <td>3830</td>\n",
       "      <td>13250</td>\n",
       "      <td>798.0</td>\n",
       "      <td>9564.0</td>\n",
       "      <td>53.95</td>\n",
       "      <td>163687.0</td>\n",
       "      <td>P</td>\n",
       "      <td>1</td>\n",
       "      <td>22.75</td>\n",
       "      <td>4</td>\n",
       "      <td>World</td>\n",
       "      <td>0</td>\n",
       "    </tr>\n",
       "    <tr>\n",
       "      <th>12</th>\n",
       "      <td>43</td>\n",
       "      <td>10500</td>\n",
       "      <td>818.0</td>\n",
       "      <td>2228.0</td>\n",
       "      <td>0.00</td>\n",
       "      <td>0.0</td>\n",
       "      <td>N</td>\n",
       "      <td>0</td>\n",
       "      <td>52.00</td>\n",
       "      <td>1</td>\n",
       "      <td>MC1 (JEUNES)</td>\n",
       "      <td>Regular</td>\n",
       "    </tr>\n",
       "    <tr>\n",
       "      <th>13</th>\n",
       "      <td>229</td>\n",
       "      <td>1500</td>\n",
       "      <td>811.0</td>\n",
       "      <td>840.0</td>\n",
       "      <td>3.14</td>\n",
       "      <td>1501.0</td>\n",
       "      <td>R</td>\n",
       "      <td>0</td>\n",
       "      <td>20.00</td>\n",
       "      <td>1</td>\n",
       "      <td>O CARTE OR EDITION QUEBEC</td>\n",
       "      <td>0</td>\n",
       "    </tr>\n",
       "    <tr>\n",
       "      <th>14</th>\n",
       "      <td>88</td>\n",
       "      <td>500</td>\n",
       "      <td>729.0</td>\n",
       "      <td>2175.0</td>\n",
       "      <td>0.00</td>\n",
       "      <td>646.0</td>\n",
       "      <td>R</td>\n",
       "      <td>0</td>\n",
       "      <td>65.00</td>\n",
       "      <td>1</td>\n",
       "      <td>O CARTE OR EDITION QUEBEC</td>\n",
       "      <td>Regular</td>\n",
       "    </tr>\n",
       "    <tr>\n",
       "      <th>15</th>\n",
       "      <td>268</td>\n",
       "      <td>8000</td>\n",
       "      <td>821.0</td>\n",
       "      <td>14580.0</td>\n",
       "      <td>0.00</td>\n",
       "      <td>7210.0</td>\n",
       "      <td>R</td>\n",
       "      <td>1</td>\n",
       "      <td>63.00</td>\n",
       "      <td>1</td>\n",
       "      <td>O CARTE OR EDITION QUEBEC</td>\n",
       "      <td>Regular</td>\n",
       "    </tr>\n",
       "    <tr>\n",
       "      <th>16</th>\n",
       "      <td>11607</td>\n",
       "      <td>12500</td>\n",
       "      <td>671.0</td>\n",
       "      <td>5260.0</td>\n",
       "      <td>131.64</td>\n",
       "      <td>1808.0</td>\n",
       "      <td>R</td>\n",
       "      <td>1</td>\n",
       "      <td>67.00</td>\n",
       "      <td>1</td>\n",
       "      <td>O CARTE OR EDITION QUEBEC</td>\n",
       "      <td>0</td>\n",
       "    </tr>\n",
       "    <tr>\n",
       "      <th>17</th>\n",
       "      <td>2404</td>\n",
       "      <td>12500</td>\n",
       "      <td>803.0</td>\n",
       "      <td>7380.0</td>\n",
       "      <td>0.00</td>\n",
       "      <td>324594.0</td>\n",
       "      <td>P</td>\n",
       "      <td>0</td>\n",
       "      <td>56.00</td>\n",
       "      <td>2</td>\n",
       "      <td>O OR ING</td>\n",
       "      <td>0</td>\n",
       "    </tr>\n",
       "    <tr>\n",
       "      <th>18</th>\n",
       "      <td>622</td>\n",
       "      <td>10000</td>\n",
       "      <td>761.0</td>\n",
       "      <td>187.0</td>\n",
       "      <td>8.43</td>\n",
       "      <td>696.0</td>\n",
       "      <td>R</td>\n",
       "      <td>0</td>\n",
       "      <td>42.00</td>\n",
       "      <td>1</td>\n",
       "      <td>O CARTE OR EDITION QUEBEC</td>\n",
       "      <td>0</td>\n",
       "    </tr>\n",
       "    <tr>\n",
       "      <th>19</th>\n",
       "      <td>2240</td>\n",
       "      <td>7000</td>\n",
       "      <td>762.0</td>\n",
       "      <td>1281.0</td>\n",
       "      <td>29.38</td>\n",
       "      <td>1884.0</td>\n",
       "      <td>R</td>\n",
       "      <td>0</td>\n",
       "      <td>31.00</td>\n",
       "      <td>1</td>\n",
       "      <td>O CARTE OR EDITION QUEBEC</td>\n",
       "      <td>0</td>\n",
       "    </tr>\n",
       "    <tr>\n",
       "      <th>20</th>\n",
       "      <td>3598</td>\n",
       "      <td>6500</td>\n",
       "      <td>736.0</td>\n",
       "      <td>4776.0</td>\n",
       "      <td>77.27</td>\n",
       "      <td>161.0</td>\n",
       "      <td>R</td>\n",
       "      <td>1</td>\n",
       "      <td>44.00</td>\n",
       "      <td>1</td>\n",
       "      <td>O CARTE OR EDITION QUEBEC</td>\n",
       "      <td>0</td>\n",
       "    </tr>\n",
       "    <tr>\n",
       "      <th>21</th>\n",
       "      <td>339</td>\n",
       "      <td>3500</td>\n",
       "      <td>828.0</td>\n",
       "      <td>14780.0</td>\n",
       "      <td>0.00</td>\n",
       "      <td>1918.0</td>\n",
       "      <td>R</td>\n",
       "      <td>1</td>\n",
       "      <td>71.00</td>\n",
       "      <td>1</td>\n",
       "      <td>O CARTE OR EDITION QUEBEC</td>\n",
       "      <td>0</td>\n",
       "    </tr>\n",
       "    <tr>\n",
       "      <th>22</th>\n",
       "      <td>111</td>\n",
       "      <td>6750</td>\n",
       "      <td>812.0</td>\n",
       "      <td>3470.0</td>\n",
       "      <td>0.00</td>\n",
       "      <td>0.0</td>\n",
       "      <td>N</td>\n",
       "      <td>1</td>\n",
       "      <td>45.00</td>\n",
       "      <td>1</td>\n",
       "      <td>O ULTRAMAR FAMILIALE</td>\n",
       "      <td>0</td>\n",
       "    </tr>\n",
       "    <tr>\n",
       "      <th>23</th>\n",
       "      <td>0</td>\n",
       "      <td>500</td>\n",
       "      <td>746.0</td>\n",
       "      <td>652.0</td>\n",
       "      <td>0.00</td>\n",
       "      <td>0.0</td>\n",
       "      <td>N</td>\n",
       "      <td>0</td>\n",
       "      <td>29.00</td>\n",
       "      <td>1</td>\n",
       "      <td>MC1 (JEUNES)</td>\n",
       "      <td>0</td>\n",
       "    </tr>\n",
       "    <tr>\n",
       "      <th>24</th>\n",
       "      <td>78</td>\n",
       "      <td>3125</td>\n",
       "      <td>840.0</td>\n",
       "      <td>15190.0</td>\n",
       "      <td>0.00</td>\n",
       "      <td>348.0</td>\n",
       "      <td>R</td>\n",
       "      <td>1</td>\n",
       "      <td>74.00</td>\n",
       "      <td>1</td>\n",
       "      <td>O CARTE OR EDITION QUEBEC</td>\n",
       "      <td>0</td>\n",
       "    </tr>\n",
       "    <tr>\n",
       "      <th>25</th>\n",
       "      <td>3116</td>\n",
       "      <td>5000</td>\n",
       "      <td>684.0</td>\n",
       "      <td>709.0</td>\n",
       "      <td>47.53</td>\n",
       "      <td>1121.0</td>\n",
       "      <td>R</td>\n",
       "      <td>0</td>\n",
       "      <td>56.00</td>\n",
       "      <td>1</td>\n",
       "      <td>O CARTE OR EDITION QUEBEC</td>\n",
       "      <td>Regular</td>\n",
       "    </tr>\n",
       "    <tr>\n",
       "      <th>26</th>\n",
       "      <td>938</td>\n",
       "      <td>1000</td>\n",
       "      <td>716.0</td>\n",
       "      <td>638.0</td>\n",
       "      <td>7.00</td>\n",
       "      <td>0.0</td>\n",
       "      <td>N</td>\n",
       "      <td>0</td>\n",
       "      <td>18.00</td>\n",
       "      <td>1</td>\n",
       "      <td>O SYNCRO FAMILIALE</td>\n",
       "      <td>0</td>\n",
       "    </tr>\n",
       "    <tr>\n",
       "      <th>27</th>\n",
       "      <td>29</td>\n",
       "      <td>500</td>\n",
       "      <td>803.0</td>\n",
       "      <td>2935.0</td>\n",
       "      <td>4.50</td>\n",
       "      <td>1690.0</td>\n",
       "      <td>R</td>\n",
       "      <td>0</td>\n",
       "      <td>57.00</td>\n",
       "      <td>1</td>\n",
       "      <td>O CARTE OR EDITION QUEBEC</td>\n",
       "      <td>0</td>\n",
       "    </tr>\n",
       "    <tr>\n",
       "      <th>28</th>\n",
       "      <td>967</td>\n",
       "      <td>7000</td>\n",
       "      <td>769.0</td>\n",
       "      <td>858.0</td>\n",
       "      <td>23.07</td>\n",
       "      <td>10588.0</td>\n",
       "      <td>R</td>\n",
       "      <td>0</td>\n",
       "      <td>21.00</td>\n",
       "      <td>1</td>\n",
       "      <td>O CARTE OR EDITION QUEBEC</td>\n",
       "      <td>0</td>\n",
       "    </tr>\n",
       "    <tr>\n",
       "      <th>29</th>\n",
       "      <td>1373</td>\n",
       "      <td>3000</td>\n",
       "      <td>807.0</td>\n",
       "      <td>11865.0</td>\n",
       "      <td>17.08</td>\n",
       "      <td>1078.0</td>\n",
       "      <td>R</td>\n",
       "      <td>1</td>\n",
       "      <td>83.00</td>\n",
       "      <td>2</td>\n",
       "      <td>O CARTE OR EDITION QUEBEC</td>\n",
       "      <td>0</td>\n",
       "    </tr>\n",
       "  </tbody>\n",
       "</table>\n",
       "</div>"
      ],
      "text/plain": [
       "    used_credit  credit_limit  credit_score  nb_days_account_open  \\\n",
       "0          1431          5500         772.0                9034.0   \n",
       "1             0          6500         800.0                 579.0   \n",
       "2          2174         10250         822.0               14752.0   \n",
       "3          3451         15000         822.0                5235.0   \n",
       "4          4780          8000         776.0                3112.0   \n",
       "5          3477          4000         674.0                 576.0   \n",
       "6           137          7500         725.0                2378.0   \n",
       "7            -7          2500         809.0                 601.0   \n",
       "8           -11          2500         776.0                3171.0   \n",
       "9             0          2850           NaN               12654.0   \n",
       "10           46          7000         854.0                8700.0   \n",
       "11         3830         13250         798.0                9564.0   \n",
       "12           43         10500         818.0                2228.0   \n",
       "13          229          1500         811.0                 840.0   \n",
       "14           88           500         729.0                2175.0   \n",
       "15          268          8000         821.0               14580.0   \n",
       "16        11607         12500         671.0                5260.0   \n",
       "17         2404         12500         803.0                7380.0   \n",
       "18          622         10000         761.0                 187.0   \n",
       "19         2240          7000         762.0                1281.0   \n",
       "20         3598          6500         736.0                4776.0   \n",
       "21          339          3500         828.0               14780.0   \n",
       "22          111          6750         812.0                3470.0   \n",
       "23            0           500         746.0                 652.0   \n",
       "24           78          3125         840.0               15190.0   \n",
       "25         3116          5000         684.0                 709.0   \n",
       "26          938          1000         716.0                 638.0   \n",
       "27           29           500         803.0                2935.0   \n",
       "28          967          7000         769.0                 858.0   \n",
       "29         1373          3000         807.0               11865.0   \n",
       "\n",
       "    interests_last_month  loyalty_points reward_type  card_change  avg_age  \\\n",
       "0                   0.00          6243.0           R            1    62.00   \n",
       "1                   0.00             0.0           A            0    70.00   \n",
       "2                  38.44          1184.0           R            1    67.00   \n",
       "3                   0.00        102255.0           P            1    47.00   \n",
       "4                  52.37           985.0           R            0    48.00   \n",
       "5                  51.05             0.0           A            0    31.00   \n",
       "6                   1.02          7953.0           P            0    62.00   \n",
       "7                   0.00           114.0           R            0    21.00   \n",
       "8                   0.00             0.0           N            0    71.00   \n",
       "9                   0.00           373.0           R            1    69.00   \n",
       "10                  0.00           929.0           R            1    59.00   \n",
       "11                 53.95        163687.0           P            1    22.75   \n",
       "12                  0.00             0.0           N            0    52.00   \n",
       "13                  3.14          1501.0           R            0    20.00   \n",
       "14                  0.00           646.0           R            0    65.00   \n",
       "15                  0.00          7210.0           R            1    63.00   \n",
       "16                131.64          1808.0           R            1    67.00   \n",
       "17                  0.00        324594.0           P            0    56.00   \n",
       "18                  8.43           696.0           R            0    42.00   \n",
       "19                 29.38          1884.0           R            0    31.00   \n",
       "20                 77.27           161.0           R            1    44.00   \n",
       "21                  0.00          1918.0           R            1    71.00   \n",
       "22                  0.00             0.0           N            1    45.00   \n",
       "23                  0.00             0.0           N            0    29.00   \n",
       "24                  0.00           348.0           R            1    74.00   \n",
       "25                 47.53          1121.0           R            0    56.00   \n",
       "26                  7.00             0.0           N            0    18.00   \n",
       "27                  4.50          1690.0           R            0    57.00   \n",
       "28                 23.07         10588.0           R            0    21.00   \n",
       "29                 17.08          1078.0           R            1    83.00   \n",
       "\n",
       "    distinct_names             card_type_name insurance_plan  \n",
       "0                1  O CARTE OR EDITION QUEBEC              0  \n",
       "1                1                        CAA              0  \n",
       "2                1  O CARTE OR EDITION QUEBEC              0  \n",
       "3                1                      World              0  \n",
       "4                1  O CARTE OR EDITION QUEBEC              0  \n",
       "5                1                        CAA              0  \n",
       "6                1                PLATINE BNC        Regular  \n",
       "7                1  O CARTE OR EDITION QUEBEC              0  \n",
       "8                1  O CARTE OR EDITION QUEBEC              0  \n",
       "9                1  O CARTE OR EDITION QUEBEC        Regular  \n",
       "10               1  O CARTE OR EDITION QUEBEC        Regular  \n",
       "11               4                      World              0  \n",
       "12               1               MC1 (JEUNES)        Regular  \n",
       "13               1  O CARTE OR EDITION QUEBEC              0  \n",
       "14               1  O CARTE OR EDITION QUEBEC        Regular  \n",
       "15               1  O CARTE OR EDITION QUEBEC        Regular  \n",
       "16               1  O CARTE OR EDITION QUEBEC              0  \n",
       "17               2                   O OR ING              0  \n",
       "18               1  O CARTE OR EDITION QUEBEC              0  \n",
       "19               1  O CARTE OR EDITION QUEBEC              0  \n",
       "20               1  O CARTE OR EDITION QUEBEC              0  \n",
       "21               1  O CARTE OR EDITION QUEBEC              0  \n",
       "22               1       O ULTRAMAR FAMILIALE              0  \n",
       "23               1               MC1 (JEUNES)              0  \n",
       "24               1  O CARTE OR EDITION QUEBEC              0  \n",
       "25               1  O CARTE OR EDITION QUEBEC        Regular  \n",
       "26               1         O SYNCRO FAMILIALE              0  \n",
       "27               1  O CARTE OR EDITION QUEBEC              0  \n",
       "28               1  O CARTE OR EDITION QUEBEC              0  \n",
       "29               2  O CARTE OR EDITION QUEBEC              0  "
      ]
     },
     "execution_count": 221,
     "metadata": {},
     "output_type": "execute_result"
    }
   ],
   "source": [
    "df2['insurance_plan'] =df2.insurance_plan.fillna(0)\n",
    "df3=df2.copy()\n",
    "df3.head(30)"
   ]
  },
  {
   "cell_type": "code",
   "execution_count": 179,
   "metadata": {},
   "outputs": [
    {
     "data": {
      "text/html": [
       "<div>\n",
       "<style>\n",
       "    .dataframe thead tr:only-child th {\n",
       "        text-align: right;\n",
       "    }\n",
       "\n",
       "    .dataframe thead th {\n",
       "        text-align: left;\n",
       "    }\n",
       "\n",
       "    .dataframe tbody tr th {\n",
       "        vertical-align: top;\n",
       "    }\n",
       "</style>\n",
       "<table border=\"1\" class=\"dataframe\">\n",
       "  <thead>\n",
       "    <tr style=\"text-align: right;\">\n",
       "      <th></th>\n",
       "      <th>nb_days_account_open</th>\n",
       "      <th>reward_type</th>\n",
       "      <th>avg_age</th>\n",
       "      <th>card_type_name</th>\n",
       "    </tr>\n",
       "  </thead>\n",
       "  <tbody>\n",
       "    <tr>\n",
       "      <th>0</th>\n",
       "      <td>9034.0</td>\n",
       "      <td>R</td>\n",
       "      <td>62.0</td>\n",
       "      <td>O CARTE OR EDITION QUEBEC</td>\n",
       "    </tr>\n",
       "  </tbody>\n",
       "</table>\n",
       "</div>"
      ],
      "text/plain": [
       "   nb_days_account_open reward_type  avg_age             card_type_name\n",
       "0                9034.0           R     62.0  O CARTE OR EDITION QUEBEC"
      ]
     },
     "execution_count": 179,
     "metadata": {},
     "output_type": "execute_result"
    }
   ],
   "source": [
    "# all non-zeros columns in df\n",
    "df_no_0 = df3.loc[:,df3.all()]\n",
    "df_no_0.head(1)"
   ]
  },
  {
   "cell_type": "code",
   "execution_count": 178,
   "metadata": {},
   "outputs": [
    {
     "data": {
      "text/html": [
       "<div>\n",
       "<style>\n",
       "    .dataframe thead tr:only-child th {\n",
       "        text-align: right;\n",
       "    }\n",
       "\n",
       "    .dataframe thead th {\n",
       "        text-align: left;\n",
       "    }\n",
       "\n",
       "    .dataframe tbody tr th {\n",
       "        vertical-align: top;\n",
       "    }\n",
       "</style>\n",
       "<table border=\"1\" class=\"dataframe\">\n",
       "  <thead>\n",
       "    <tr style=\"text-align: right;\">\n",
       "      <th></th>\n",
       "      <th>used_credit</th>\n",
       "      <th>credit_limit</th>\n",
       "      <th>credit_score</th>\n",
       "      <th>nb_days_account_open</th>\n",
       "      <th>interests_last_month</th>\n",
       "      <th>loyalty_points</th>\n",
       "      <th>reward_type</th>\n",
       "      <th>card_change</th>\n",
       "      <th>avg_age</th>\n",
       "      <th>distinct_names</th>\n",
       "      <th>card_type_name</th>\n",
       "      <th>insurance_plan</th>\n",
       "    </tr>\n",
       "  </thead>\n",
       "  <tbody>\n",
       "    <tr>\n",
       "      <th>0</th>\n",
       "      <td>1431</td>\n",
       "      <td>5500</td>\n",
       "      <td>772.0</td>\n",
       "      <td>9034.0</td>\n",
       "      <td>0.0</td>\n",
       "      <td>6243.0</td>\n",
       "      <td>R</td>\n",
       "      <td>1</td>\n",
       "      <td>62.0</td>\n",
       "      <td>1</td>\n",
       "      <td>O CARTE OR EDITION QUEBEC</td>\n",
       "      <td>0</td>\n",
       "    </tr>\n",
       "  </tbody>\n",
       "</table>\n",
       "</div>"
      ],
      "text/plain": [
       "   used_credit  credit_limit  credit_score  nb_days_account_open  \\\n",
       "0         1431          5500         772.0                9034.0   \n",
       "\n",
       "   interests_last_month  loyalty_points reward_type  card_change  avg_age  \\\n",
       "0                   0.0          6243.0           R            1     62.0   \n",
       "\n",
       "   distinct_names             card_type_name insurance_plan  \n",
       "0               1  O CARTE OR EDITION QUEBEC              0  "
      ]
     },
     "execution_count": 178,
     "metadata": {},
     "output_type": "execute_result"
    }
   ],
   "source": [
    "# 选是有0的column\n",
    "df_0=df3.loc[:,df3.any()]\n",
    "df_0.head(1)"
   ]
  },
  {
   "cell_type": "code",
   "execution_count": 176,
   "metadata": {},
   "outputs": [
    {
     "data": {
      "text/html": [
       "<div>\n",
       "<style>\n",
       "    .dataframe thead tr:only-child th {\n",
       "        text-align: right;\n",
       "    }\n",
       "\n",
       "    .dataframe thead th {\n",
       "        text-align: left;\n",
       "    }\n",
       "\n",
       "    .dataframe tbody tr th {\n",
       "        vertical-align: top;\n",
       "    }\n",
       "</style>\n",
       "<table border=\"1\" class=\"dataframe\">\n",
       "  <thead>\n",
       "    <tr style=\"text-align: right;\">\n",
       "      <th></th>\n",
       "      <th>credit_score</th>\n",
       "      <th>nb_days_account_open</th>\n",
       "      <th>interests_last_month</th>\n",
       "      <th>loyalty_points</th>\n",
       "      <th>reward_type</th>\n",
       "      <th>avg_age</th>\n",
       "    </tr>\n",
       "  </thead>\n",
       "  <tbody>\n",
       "    <tr>\n",
       "      <th>0</th>\n",
       "      <td>772.0</td>\n",
       "      <td>9034.0</td>\n",
       "      <td>0.0</td>\n",
       "      <td>6243.0</td>\n",
       "      <td>R</td>\n",
       "      <td>62.0</td>\n",
       "    </tr>\n",
       "  </tbody>\n",
       "</table>\n",
       "</div>"
      ],
      "text/plain": [
       "   credit_score  nb_days_account_open  interests_last_month  loyalty_points  \\\n",
       "0         772.0                9034.0                   0.0          6243.0   \n",
       "\n",
       "  reward_type  avg_age  \n",
       "0           R     62.0  "
      ]
     },
     "execution_count": 176,
     "metadata": {},
     "output_type": "execute_result"
    }
   ],
   "source": [
    "#有null的columns\n",
    "df_null = df3.loc[:,df3.isnull().any()]\n",
    "df_null.head(1)"
   ]
  },
  {
   "cell_type": "code",
   "execution_count": 181,
   "metadata": {},
   "outputs": [
    {
     "data": {
      "text/html": [
       "<div>\n",
       "<style>\n",
       "    .dataframe thead tr:only-child th {\n",
       "        text-align: right;\n",
       "    }\n",
       "\n",
       "    .dataframe thead th {\n",
       "        text-align: left;\n",
       "    }\n",
       "\n",
       "    .dataframe tbody tr th {\n",
       "        vertical-align: top;\n",
       "    }\n",
       "</style>\n",
       "<table border=\"1\" class=\"dataframe\">\n",
       "  <thead>\n",
       "    <tr style=\"text-align: right;\">\n",
       "      <th></th>\n",
       "      <th>used_credit</th>\n",
       "      <th>credit_limit</th>\n",
       "      <th>card_change</th>\n",
       "      <th>distinct_names</th>\n",
       "      <th>card_type_name</th>\n",
       "      <th>insurance_plan</th>\n",
       "    </tr>\n",
       "  </thead>\n",
       "  <tbody>\n",
       "    <tr>\n",
       "      <th>0</th>\n",
       "      <td>1431</td>\n",
       "      <td>5500</td>\n",
       "      <td>1</td>\n",
       "      <td>1</td>\n",
       "      <td>O CARTE OR EDITION QUEBEC</td>\n",
       "      <td>0</td>\n",
       "    </tr>\n",
       "  </tbody>\n",
       "</table>\n",
       "</div>"
      ],
      "text/plain": [
       "   used_credit  credit_limit  card_change  distinct_names  \\\n",
       "0         1431          5500            1               1   \n",
       "\n",
       "              card_type_name insurance_plan  \n",
       "0  O CARTE OR EDITION QUEBEC              0  "
      ]
     },
     "execution_count": 181,
     "metadata": {},
     "output_type": "execute_result"
    }
   ],
   "source": [
    "#没有null的columns\n",
    "df_no_null = df3.loc[:,df3.notnull().all()]\n",
    "df_no_null.head(1)"
   ]
  },
  {
   "cell_type": "code",
   "execution_count": 222,
   "metadata": {},
   "outputs": [
    {
     "name": "stdout",
     "output_type": "stream",
     "text": [
      "<class 'pandas.core.frame.DataFrame'>\n",
      "Int64Index: 493497 entries, 0 to 499999\n",
      "Data columns (total 12 columns):\n",
      "used_credit             493497 non-null int64\n",
      "credit_limit            493497 non-null int64\n",
      "credit_score            485473 non-null float64\n",
      "nb_days_account_open    493497 non-null float64\n",
      "interests_last_month    493497 non-null float64\n",
      "loyalty_points          493497 non-null float64\n",
      "reward_type             493497 non-null object\n",
      "card_change             493497 non-null int64\n",
      "avg_age                 493497 non-null float64\n",
      "distinct_names          493497 non-null int64\n",
      "card_type_name          493497 non-null object\n",
      "insurance_plan          493497 non-null object\n",
      "dtypes: float64(5), int64(4), object(3)\n",
      "memory usage: 48.9+ MB\n"
     ]
    }
   ],
   "source": [
    "\n",
    "df3 = df2[df2.avg_age<120]\n",
    "df3.info()"
   ]
  },
  {
   "cell_type": "code",
   "execution_count": 200,
   "metadata": {},
   "outputs": [
    {
     "name": "stdout",
     "output_type": "stream",
     "text": [
      "<class 'pandas.core.frame.DataFrame'>\n",
      "RangeIndex: 500000 entries, 0 to 499999\n",
      "Data columns (total 12 columns):\n",
      "used_credit             500000 non-null int64\n",
      "credit_limit            500000 non-null int64\n",
      "credit_score            491910 non-null float64\n",
      "nb_days_account_open    499962 non-null float64\n",
      "interests_last_month    499135 non-null float64\n",
      "loyalty_points          499135 non-null float64\n",
      "reward_type             499971 non-null category\n",
      "card_change             500000 non-null int64\n",
      "avg_age                 493504 non-null float64\n",
      "distinct_names          500000 non-null int64\n",
      "card_type_name          500000 non-null object\n",
      "insurance_plan          500000 non-null object\n",
      "dtypes: category(1), float64(5), int64(4), object(2)\n",
      "memory usage: 42.4+ MB\n"
     ]
    }
   ],
   "source": [
    "df2.info()"
   ]
  },
  {
   "cell_type": "markdown",
   "metadata": {},
   "source": [
    "## 有条件的去掉column根据缺失值"
   ]
  },
  {
   "cell_type": "code",
   "execution_count": null,
   "metadata": {
    "collapsed": true
   },
   "outputs": [],
   "source": [
    "# 去掉df中有多雨1000个缺失值的columns\n",
    "#Drop columns in titanic with more than 1000 missing values\n",
    "print(df.dropna(thresh=1000, axis='columns').info())"
   ]
  },
  {
   "cell_type": "code",
   "execution_count": 201,
   "metadata": {},
   "outputs": [
    {
     "data": {
      "text/plain": [
       "Int64Index([     0,      1,      2,      3,      4,      5,      6,      7,\n",
       "                 8,      9,\n",
       "            ...\n",
       "            499990, 499991, 499992, 499993, 499994, 499995, 499996, 499997,\n",
       "            499998, 499999],\n",
       "           dtype='int64', length=493497)"
      ]
     },
     "execution_count": 201,
     "metadata": {},
     "output_type": "execute_result"
    }
   ],
   "source": [
    "df3.index #\n",
    "\n",
    "案例\n",
    "df.index = df.index.str.upper()#将第一列的值变成了大写"
   ]
  },
  {
   "cell_type": "markdown",
   "metadata": {},
   "source": [
    "## apply()  transform a column DF\n",
    " - used on a pandas DataFrame to apply an arbitrary Python function to every element. \n",
    "\n",
    " 1.写一个function\n",
    " 2.运用到这个pandas df 的某些列\n",
    " 3.创造出了新的DF"
   ]
  },
  {
   "cell_type": "code",
   "execution_count": null,
   "metadata": {
    "collapsed": true
   },
   "outputs": [],
   "source": [
    "# 1.Write a function to convert degrees Fahrenheit to degrees Celsius: to_celsius\n",
    "def to_celsius(F):\n",
    "    return 5/9*(F - 32)"
   ]
  },
  {
   "cell_type": "code",
   "execution_count": null,
   "metadata": {
    "collapsed": true
   },
   "outputs": [],
   "source": [
    "# 2.3.创造了新的DF：Apply the function over 'Mean TemperatureF' and 'Mean Dew PointF': df_celsius\n",
    "df_celsius = weather[['Mean TemperatureF', 'Mean Dew PointF']].apply(to_celsius)\n",
    "\n",
    "# 4.对新的DF进行改名 Reassign the columns df_celsius\n",
    "df_celsius.columns = ['Mean TemperatureC', 'Mean Dew PointC']\n",
    "\n",
    "# Print the output of df_celsius.head()\n",
    "print(df_celsius.head())"
   ]
  },
  {
   "cell_type": "markdown",
   "metadata": {},
   "source": [
    "## Map()---将dictionary作为新列引入Df，根据DF的一列\n",
    "- 创建dictionary：Create the dictionary: red_vs_blue\n",
    "  - DF已经有了color列：其中只有'blue'和'red'\n",
    "  - red_vs_blue = {'Obama':'blue', 'Romney':'red'}\n",
    "\n",
    "- 将dictionary加入到新一列winner：map the 'winner' column to the new column: election['color']\n",
    "  - 根据已经有的color列加入新的一列\n",
    "  - election['color'] = election['column_new'].map(red_vs_blue)\n",
    "\n",
    "# 对DF运用自定义function去处理\n",
    "- apply: df.column.apply(functionname)"
   ]
  },
  {
   "cell_type": "code",
   "execution_count": null,
   "metadata": {
    "collapsed": true
   },
   "outputs": [],
   "source": [
    "# Define recode_sex()\n",
    "def recode_sex(sex_value):\n",
    "\n",
    "    # Return 1 if sex_value is 'Male'\n",
    "    if sex_value == 'Male':\n",
    "        return 1\n",
    "    \n",
    "    # Return 0 if sex_value is 'Female'\n",
    "    elif sex_value == 'Female':\n",
    "        return 0\n",
    "        \n",
    "    # Return np.nan    \n",
    "    else:\n",
    "        return np.nan\n",
    "\n",
    "# Apply the function to the sex column\n",
    "tips['sex_recode'] = tips.sex.apply(recode_sex)\n",
    "\n",
    "# Print the first five rows of tips\n",
    "print(tips.head())"
   ]
  },
  {
   "cell_type": "code",
   "execution_count": 225,
   "metadata": {},
   "outputs": [
    {
     "data": {
      "text/plain": [
       "0          396803\n",
       "Regular     75051\n",
       "65+         21643\n",
       "Name: insurance_plan, dtype: int64"
      ]
     },
     "execution_count": 225,
     "metadata": {},
     "output_type": "execute_result"
    }
   ],
   "source": [
    "df3['insurance_plan'].value_counts()"
   ]
  },
  {
   "cell_type": "code",
   "execution_count": null,
   "metadata": {
    "collapsed": true
   },
   "outputs": [],
   "source": []
  },
  {
   "cell_type": "code",
   "execution_count": null,
   "metadata": {
    "collapsed": true
   },
   "outputs": [],
   "source": []
  },
  {
   "cell_type": "code",
   "execution_count": 239,
   "metadata": {},
   "outputs": [
    {
     "name": "stdout",
     "output_type": "stream",
     "text": [
      "<class 'pandas.core.frame.DataFrame'>\n",
      "RangeIndex: 500000 entries, 0 to 499999\n",
      "Data columns (total 12 columns):\n",
      "used_credit             500000 non-null int64\n",
      "credit_limit            500000 non-null int64\n",
      "credit_score            500000 non-null float64\n",
      "nb_days_account_open    499962 non-null float64\n",
      "interests_last_month    499135 non-null float64\n",
      "loyalty_points          499135 non-null float64\n",
      "reward_type             499971 non-null object\n",
      "card_change             500000 non-null int64\n",
      "avg_age                 500000 non-null float64\n",
      "distinct_names          500000 non-null int64\n",
      "card_type_name          500000 non-null object\n",
      "insurance_plan          500000 non-null object\n",
      "dtypes: float64(5), int64(4), object(3)\n",
      "memory usage: 45.8+ MB\n"
     ]
    }
   ],
   "source": [
    "df2['avg_age'] =df2['avg_age'].fillna(df2.avg_age.median())\n",
    "df2['credit_score'] = df2['credit_score'].fillna(df2.credit_score.median())\n",
    "df2.info()"
   ]
  },
  {
   "cell_type": "code",
   "execution_count": null,
   "metadata": {
    "collapsed": true
   },
   "outputs": [],
   "source": []
  },
  {
   "cell_type": "code",
   "execution_count": 252,
   "metadata": {},
   "outputs": [
    {
     "name": "stdout",
     "output_type": "stream",
     "text": [
      "<class 'pandas.core.frame.DataFrame'>\n",
      "Int64Index: 499955 entries, 0 to 499999\n",
      "Data columns (total 12 columns):\n",
      "used_credit             499955 non-null int64\n",
      "credit_limit            499955 non-null int64\n",
      "credit_score            499955 non-null float64\n",
      "nb_days_account_open    499955 non-null float64\n",
      "interests_last_month    499128 non-null float64\n",
      "loyalty_points          499128 non-null float64\n",
      "reward_type             499953 non-null object\n",
      "card_change             499955 non-null int64\n",
      "avg_age                 499955 non-null float64\n",
      "distinct_names          499955 non-null int64\n",
      "card_type_name          499955 non-null object\n",
      "insurance_plan          499955 non-null object\n",
      "dtypes: float64(5), int64(4), object(3)\n",
      "memory usage: 49.6+ MB\n"
     ]
    }
   ],
   "source": [
    "df4 = df4[df4.nb_days_account_open > 20]\n",
    "df4.info()"
   ]
  },
  {
   "cell_type": "code",
   "execution_count": 256,
   "metadata": {},
   "outputs": [
    {
     "data": {
      "text/plain": [
       "R    212081\n",
       "P    124012\n",
       "N    102656\n",
       "C     39188\n",
       "A     22018\n",
       "Name: reward_type, dtype: int64"
      ]
     },
     "execution_count": 256,
     "metadata": {},
     "output_type": "execute_result"
    }
   ],
   "source": [
    "df4.reward_type.value_counts()"
   ]
  },
  {
   "cell_type": "code",
   "execution_count": 255,
   "metadata": {
    "collapsed": true
   },
   "outputs": [],
   "source": [
    "df4['interests_last_month'] =df4['interests_last_month'].fillna(df1.interests_last_month.median())\n",
    "df4['loyalty_points'] =df4['loyalty_points'].fillna(df1.loyalty_points.median())\n",
    "df4['reward_type'] =df4['reward_type'].fillna('R')"
   ]
  },
  {
   "cell_type": "code",
   "execution_count": 258,
   "metadata": {},
   "outputs": [
    {
     "name": "stdout",
     "output_type": "stream",
     "text": [
      "<class 'pandas.core.frame.DataFrame'>\n",
      "Int64Index: 499955 entries, 0 to 499999\n",
      "Data columns (total 12 columns):\n",
      "used_credit             499955 non-null int64\n",
      "credit_limit            499955 non-null int64\n",
      "credit_score            499955 non-null float64\n",
      "nb_days_account_open    499955 non-null float64\n",
      "interests_last_month    499955 non-null float64\n",
      "loyalty_points          499955 non-null float64\n",
      "reward_type             499955 non-null object\n",
      "card_change             499955 non-null int64\n",
      "avg_age                 499955 non-null float64\n",
      "distinct_names          499955 non-null int64\n",
      "card_type_name          499955 non-null object\n",
      "insurance_plan          499955 non-null object\n",
      "dtypes: float64(5), int64(4), object(3)\n",
      "memory usage: 49.6+ MB\n"
     ]
    }
   ],
   "source": [
    "df4.info()"
   ]
  },
  {
   "cell_type": "markdown",
   "metadata": {},
   "source": [
    "# 引入median 针对credit_score的缺失值"
   ]
  },
  {
   "cell_type": "code",
   "execution_count": 237,
   "metadata": {},
   "outputs": [
    {
     "name": "stderr",
     "output_type": "stream",
     "text": [
      "/Users/libolin/anaconda3/lib/python3.6/site-packages/ipykernel_launcher.py:1: SettingWithCopyWarning: \n",
      "A value is trying to be set on a copy of a slice from a DataFrame.\n",
      "Try using .loc[row_indexer,col_indexer] = value instead\n",
      "\n",
      "See the caveats in the documentation: http://pandas.pydata.org/pandas-docs/stable/indexing.html#indexing-view-versus-copy\n",
      "  \"\"\"Entry point for launching an IPython kernel.\n"
     ]
    },
    {
     "name": "stdout",
     "output_type": "stream",
     "text": [
      "<class 'pandas.core.frame.DataFrame'>\n",
      "Int64Index: 493497 entries, 0 to 499999\n",
      "Data columns (total 12 columns):\n",
      "used_credit             493497 non-null int64\n",
      "credit_limit            493497 non-null int64\n",
      "credit_score            493497 non-null float64\n",
      "nb_days_account_open    493497 non-null float64\n",
      "interests_last_month    493497 non-null float64\n",
      "loyalty_points          493497 non-null float64\n",
      "reward_type             493497 non-null object\n",
      "card_change             493497 non-null int64\n",
      "avg_age                 493497 non-null float64\n",
      "distinct_names          493497 non-null int64\n",
      "card_type_name          493497 non-null object\n",
      "insurance_plan          493497 non-null object\n",
      "dtypes: float64(5), int64(4), object(3)\n",
      "memory usage: 68.9+ MB\n"
     ]
    }
   ],
   "source": [
    "df3['credit_score'] = df3['credit_score'].fillna(df3.credit_score.median())\n",
    "df3.info()"
   ]
  },
  {
   "cell_type": "markdown",
   "metadata": {},
   "source": [
    "## 标准化zscore\n",
    "- .apply()能直接对DF处理再产生DF\n",
    "- the zscore产生的是NumPy矩阵：UFunc will take a pandas Series as input and return a NumPy array. \n",
    "- 要将这个array再放入DF中：Need then assign the values of the NumPy array to a new column in the DataFrame. \n",
    "\n"
   ]
  },
  {
   "cell_type": "code",
   "execution_count": null,
   "metadata": {
    "collapsed": true
   },
   "outputs": [],
   "source": [
    "# Import zscore from scipy.stats\n",
    "from scipy.stats import zscore\n",
    "\n",
    "# Call zscore with election['turnout'] as input: turnout_zscore\n",
    "列_zscore = zscore(DF['列'])\n",
    "# Print the type of turnout_zscore\n",
    "print(type(列_zscore))\n",
    "\n",
    "# Assign turnout_zscore to a new column: election['turnout_zscore']\n",
    "DF['列_zscore'] = 列_zscore\n",
    "# Print the output of election.head()\n",
    "print(DF.head())"
   ]
  },
  {
   "cell_type": "code",
   "execution_count": 300,
   "metadata": {},
   "outputs": [
    {
     "name": "stdout",
     "output_type": "stream",
     "text": [
      "<class 'pandas.core.frame.DataFrame'>\n",
      "Int64Index: 499955 entries, 0 to 499999\n",
      "Data columns (total 12 columns):\n",
      "used_credit             499955 non-null int64\n",
      "credit_limit            499955 non-null int64\n",
      "credit_score            499955 non-null float64\n",
      "nb_days_account_open    499955 non-null float64\n",
      "interests_last_month    499955 non-null float64\n",
      "loyalty_points          499955 non-null float64\n",
      "reward_type             499955 non-null object\n",
      "card_change             499955 non-null int64\n",
      "avg_age                 499955 non-null float64\n",
      "distinct_names          499955 non-null int64\n",
      "card_type_name          499955 non-null object\n",
      "insurance_plan          499955 non-null category\n",
      "dtypes: category(1), float64(5), int64(4), object(2)\n",
      "memory usage: 66.2+ MB\n"
     ]
    }
   ],
   "source": [
    "df4.insurance_plan = df4.insurance_plan.astype('category')\n",
    "df4.info()"
   ]
  },
  {
   "cell_type": "code",
   "execution_count": 270,
   "metadata": {
    "collapsed": true
   },
   "outputs": [],
   "source": [
    "df5 = df4.copy()\n",
    "df5[\"insurance_plan\"] = df5[\"insurance_plan\"].cat.codes"
   ]
  },
  {
   "cell_type": "code",
   "execution_count": 288,
   "metadata": {
    "collapsed": true
   },
   "outputs": [],
   "source": [
    "df5['card_type_name'] = df5['card_type_name'].astype('category')\n",
    "df5['reward_type'] = df5['reward_type'].astype('category')\n",
    "df5['insurance_plan'] = df5['insurance_plan'].astype('category')"
   ]
  },
  {
   "cell_type": "code",
   "execution_count": 289,
   "metadata": {},
   "outputs": [
    {
     "data": {
      "text/plain": [
       "0    402248\n",
       "2     75866\n",
       "1     21841\n",
       "Name: insurance_plan, dtype: int64"
      ]
     },
     "execution_count": 289,
     "metadata": {},
     "output_type": "execute_result"
    }
   ],
   "source": [
    "df5.insurance_plan.value_counts()"
   ]
  },
  {
   "cell_type": "code",
   "execution_count": 290,
   "metadata": {},
   "outputs": [
    {
     "name": "stdout",
     "output_type": "stream",
     "text": [
      "<class 'pandas.core.frame.DataFrame'>\n",
      "Int64Index: 499955 entries, 0 to 499999\n",
      "Data columns (total 12 columns):\n",
      "used_credit             499955 non-null int64\n",
      "credit_limit            499955 non-null int64\n",
      "credit_score            499955 non-null float64\n",
      "nb_days_account_open    499955 non-null float64\n",
      "interests_last_month    499955 non-null float64\n",
      "loyalty_points          499955 non-null float64\n",
      "reward_type             499955 non-null category\n",
      "card_change             499955 non-null int64\n",
      "avg_age                 499955 non-null float64\n",
      "distinct_names          499955 non-null int64\n",
      "card_type_name          499955 non-null category\n",
      "insurance_plan          499955 non-null category\n",
      "dtypes: category(3), float64(5), int64(4)\n",
      "memory usage: 59.6 MB\n"
     ]
    }
   ],
   "source": [
    "df5.info()"
   ]
  },
  {
   "cell_type": "code",
   "execution_count": 318,
   "metadata": {},
   "outputs": [
    {
     "data": {
      "text/html": [
       "<div>\n",
       "<style>\n",
       "    .dataframe thead tr:only-child th {\n",
       "        text-align: right;\n",
       "    }\n",
       "\n",
       "    .dataframe thead th {\n",
       "        text-align: left;\n",
       "    }\n",
       "\n",
       "    .dataframe tbody tr th {\n",
       "        vertical-align: top;\n",
       "    }\n",
       "</style>\n",
       "<table border=\"1\" class=\"dataframe\">\n",
       "  <thead>\n",
       "    <tr style=\"text-align: right;\">\n",
       "      <th></th>\n",
       "      <th>used_credit</th>\n",
       "      <th>credit_limit</th>\n",
       "      <th>credit_score</th>\n",
       "      <th>nb_days_account_open</th>\n",
       "      <th>interests_last_month</th>\n",
       "      <th>loyalty_points</th>\n",
       "      <th>avg_age</th>\n",
       "    </tr>\n",
       "  </thead>\n",
       "  <tbody>\n",
       "    <tr>\n",
       "      <th>count</th>\n",
       "      <td>4.999550e+05</td>\n",
       "      <td>4.999550e+05</td>\n",
       "      <td>4.999550e+05</td>\n",
       "      <td>4.999550e+05</td>\n",
       "      <td>4.999550e+05</td>\n",
       "      <td>4.999550e+05</td>\n",
       "      <td>4.999550e+05</td>\n",
       "    </tr>\n",
       "    <tr>\n",
       "      <th>mean</th>\n",
       "      <td>9.022475e-16</td>\n",
       "      <td>7.508404e-17</td>\n",
       "      <td>-3.510304e-16</td>\n",
       "      <td>-6.908085e-17</td>\n",
       "      <td>-5.238520e-16</td>\n",
       "      <td>1.223465e-15</td>\n",
       "      <td>-1.455135e-15</td>\n",
       "    </tr>\n",
       "    <tr>\n",
       "      <th>std</th>\n",
       "      <td>1.000001e+00</td>\n",
       "      <td>1.000001e+00</td>\n",
       "      <td>1.000001e+00</td>\n",
       "      <td>1.000001e+00</td>\n",
       "      <td>1.000001e+00</td>\n",
       "      <td>1.000001e+00</td>\n",
       "      <td>1.000001e+00</td>\n",
       "    </tr>\n",
       "    <tr>\n",
       "      <th>min</th>\n",
       "      <td>-5.572040e+01</td>\n",
       "      <td>-1.175521e+00</td>\n",
       "      <td>-1.260399e+01</td>\n",
       "      <td>-1.086029e+00</td>\n",
       "      <td>-4.489552e-01</td>\n",
       "      <td>-2.152815e+00</td>\n",
       "      <td>-2.782197e+00</td>\n",
       "    </tr>\n",
       "    <tr>\n",
       "      <th>25%</th>\n",
       "      <td>-5.549061e-01</td>\n",
       "      <td>-7.463434e-01</td>\n",
       "      <td>-5.321015e-01</td>\n",
       "      <td>-8.233145e-01</td>\n",
       "      <td>-4.301529e-01</td>\n",
       "      <td>-2.669016e-01</td>\n",
       "      <td>-8.013107e-01</td>\n",
       "    </tr>\n",
       "    <tr>\n",
       "      <th>50%</th>\n",
       "      <td>-4.113905e-01</td>\n",
       "      <td>-2.391337e-01</td>\n",
       "      <td>1.955189e-01</td>\n",
       "      <td>-3.336469e-01</td>\n",
       "      <td>-4.301529e-01</td>\n",
       "      <td>-2.498163e-01</td>\n",
       "      <td>7.260979e-02</td>\n",
       "    </tr>\n",
       "    <tr>\n",
       "      <th>75%</th>\n",
       "      <td>9.404699e-02</td>\n",
       "      <td>5.021729e-01</td>\n",
       "      <td>7.081605e-01</td>\n",
       "      <td>5.557325e-01</td>\n",
       "      <td>-1.083520e-01</td>\n",
       "      <td>-1.612326e-01</td>\n",
       "      <td>7.426155e-01</td>\n",
       "    </tr>\n",
       "    <tr>\n",
       "      <th>max</th>\n",
       "      <td>3.380410e+01</td>\n",
       "      <td>5.344707e+01</td>\n",
       "      <td>2.080717e+00</td>\n",
       "      <td>3.362518e+00</td>\n",
       "      <td>3.139853e+01</td>\n",
       "      <td>9.362755e+01</td>\n",
       "      <td>3.859599e+00</td>\n",
       "    </tr>\n",
       "  </tbody>\n",
       "</table>\n",
       "</div>"
      ],
      "text/plain": [
       "        used_credit  credit_limit  credit_score  nb_days_account_open  \\\n",
       "count  4.999550e+05  4.999550e+05  4.999550e+05          4.999550e+05   \n",
       "mean   9.022475e-16  7.508404e-17 -3.510304e-16         -6.908085e-17   \n",
       "std    1.000001e+00  1.000001e+00  1.000001e+00          1.000001e+00   \n",
       "min   -5.572040e+01 -1.175521e+00 -1.260399e+01         -1.086029e+00   \n",
       "25%   -5.549061e-01 -7.463434e-01 -5.321015e-01         -8.233145e-01   \n",
       "50%   -4.113905e-01 -2.391337e-01  1.955189e-01         -3.336469e-01   \n",
       "75%    9.404699e-02  5.021729e-01  7.081605e-01          5.557325e-01   \n",
       "max    3.380410e+01  5.344707e+01  2.080717e+00          3.362518e+00   \n",
       "\n",
       "       interests_last_month  loyalty_points       avg_age  \n",
       "count          4.999550e+05    4.999550e+05  4.999550e+05  \n",
       "mean          -5.238520e-16    1.223465e-15 -1.455135e-15  \n",
       "std            1.000001e+00    1.000001e+00  1.000001e+00  \n",
       "min           -4.489552e-01   -2.152815e+00 -2.782197e+00  \n",
       "25%           -4.301529e-01   -2.669016e-01 -8.013107e-01  \n",
       "50%           -4.301529e-01   -2.498163e-01  7.260979e-02  \n",
       "75%           -1.083520e-01   -1.612326e-01  7.426155e-01  \n",
       "max            3.139853e+01    9.362755e+01  3.859599e+00  "
      ]
     },
     "execution_count": 318,
     "metadata": {},
     "output_type": "execute_result"
    }
   ],
   "source": [
    "# Import zscore\n",
    "from scipy.stats import zscore\n",
    "# 1.标准化numeric的column： standardized\n",
    "standardized = df5[['used_credit','credit_limit','credit_score',\n",
    "                   'nb_days_account_open','interests_last_month','loyalty_points','avg_age']].transform(zscore)\n",
    "\n",
    "standardized.describe()"
   ]
  },
  {
   "cell_type": "code",
   "execution_count": 319,
   "metadata": {},
   "outputs": [
    {
     "name": "stdout",
     "output_type": "stream",
     "text": [
      "<class 'pandas.core.frame.DataFrame'>\n",
      "Int64Index: 8530 entries, 17 to 499956\n",
      "Data columns (total 12 columns):\n",
      "used_credit             8530 non-null int64\n",
      "credit_limit            8530 non-null int64\n",
      "credit_score            8530 non-null float64\n",
      "nb_days_account_open    8530 non-null float64\n",
      "interests_last_month    8530 non-null float64\n",
      "loyalty_points          8530 non-null float64\n",
      "reward_type             8530 non-null category\n",
      "card_change             8530 non-null int64\n",
      "avg_age                 8530 non-null float64\n",
      "distinct_names          8530 non-null int64\n",
      "card_type_name          8530 non-null category\n",
      "insurance_plan          8530 non-null category\n",
      "dtypes: category(3), float64(5), int64(4)\n",
      "memory usage: 692.5 KB\n"
     ]
    }
   ],
   "source": [
    "# 2.Construct a Boolean Series to identify outliers: outliers\n",
    "outliers = (standardized['used_credit'].abs() >5) | (standardized['credit_limit'].abs() >5)| (standardized['credit_score'].abs() >5) | (standardized['nb_days_account_open'].abs() >5)|(standardized['interests_last_month'].abs() >5) |(standardized['loyalty_points'].abs() >5)|(standardized['avg_age'].abs() >5)\n",
    "# 3.Filter gapminder_2010 by the outliers: gm_outliers\n",
    "outliers = df5.loc[outliers]\n",
    "outliers.info()"
   ]
  },
  {
   "cell_type": "code",
   "execution_count": 321,
   "metadata": {},
   "outputs": [
    {
     "data": {
      "text/html": [
       "<div>\n",
       "<style>\n",
       "    .dataframe thead tr:only-child th {\n",
       "        text-align: right;\n",
       "    }\n",
       "\n",
       "    .dataframe thead th {\n",
       "        text-align: left;\n",
       "    }\n",
       "\n",
       "    .dataframe tbody tr th {\n",
       "        vertical-align: top;\n",
       "    }\n",
       "</style>\n",
       "<table border=\"1\" class=\"dataframe\">\n",
       "  <thead>\n",
       "    <tr style=\"text-align: right;\">\n",
       "      <th></th>\n",
       "      <th>used_credit</th>\n",
       "      <th>credit_limit</th>\n",
       "      <th>credit_score</th>\n",
       "      <th>nb_days_account_open</th>\n",
       "      <th>interests_last_month</th>\n",
       "      <th>loyalty_points</th>\n",
       "      <th>reward_type</th>\n",
       "      <th>card_change</th>\n",
       "      <th>avg_age</th>\n",
       "      <th>distinct_names</th>\n",
       "      <th>card_type_name</th>\n",
       "      <th>insurance_plan</th>\n",
       "    </tr>\n",
       "  </thead>\n",
       "  <tbody>\n",
       "    <tr>\n",
       "      <th>0</th>\n",
       "      <td>-0.130923</td>\n",
       "      <td>-0.317166</td>\n",
       "      <td>0.162445</td>\n",
       "      <td>1.392294</td>\n",
       "      <td>-0.430153</td>\n",
       "      <td>-0.160345</td>\n",
       "      <td>R</td>\n",
       "      <td>1</td>\n",
       "      <td>0.596962</td>\n",
       "      <td>1</td>\n",
       "      <td>O CARTE OR EDITION QUEBEC</td>\n",
       "      <td>0</td>\n",
       "    </tr>\n",
       "    <tr>\n",
       "      <th>1</th>\n",
       "      <td>-0.557890</td>\n",
       "      <td>-0.161101</td>\n",
       "      <td>0.625476</td>\n",
       "      <td>-0.933627</td>\n",
       "      <td>-0.430153</td>\n",
       "      <td>-0.266902</td>\n",
       "      <td>A</td>\n",
       "      <td>0</td>\n",
       "      <td>1.063053</td>\n",
       "      <td>1</td>\n",
       "      <td>CAA</td>\n",
       "      <td>0</td>\n",
       "    </tr>\n",
       "    <tr>\n",
       "      <th>2</th>\n",
       "      <td>0.090765</td>\n",
       "      <td>0.424141</td>\n",
       "      <td>0.989287</td>\n",
       "      <td>2.965282</td>\n",
       "      <td>0.400608</td>\n",
       "      <td>-0.246693</td>\n",
       "      <td>R</td>\n",
       "      <td>1</td>\n",
       "      <td>0.888269</td>\n",
       "      <td>1</td>\n",
       "      <td>O CARTE OR EDITION QUEBEC</td>\n",
       "      <td>0</td>\n",
       "    </tr>\n",
       "    <tr>\n",
       "      <th>3</th>\n",
       "      <td>0.471782</td>\n",
       "      <td>1.165447</td>\n",
       "      <td>0.989287</td>\n",
       "      <td>0.347211</td>\n",
       "      <td>-0.430153</td>\n",
       "      <td>1.478404</td>\n",
       "      <td>P</td>\n",
       "      <td>1</td>\n",
       "      <td>-0.276958</td>\n",
       "      <td>1</td>\n",
       "      <td>World</td>\n",
       "      <td>0</td>\n",
       "    </tr>\n",
       "    <tr>\n",
       "      <th>4</th>\n",
       "      <td>0.868315</td>\n",
       "      <td>0.072995</td>\n",
       "      <td>0.228593</td>\n",
       "      <td>-0.236814</td>\n",
       "      <td>0.701661</td>\n",
       "      <td>-0.250089</td>\n",
       "      <td>R</td>\n",
       "      <td>0</td>\n",
       "      <td>-0.218697</td>\n",
       "      <td>1</td>\n",
       "      <td>O CARTE OR EDITION QUEBEC</td>\n",
       "      <td>0</td>\n",
       "    </tr>\n",
       "  </tbody>\n",
       "</table>\n",
       "</div>"
      ],
      "text/plain": [
       "   used_credit  credit_limit  credit_score  nb_days_account_open  \\\n",
       "0    -0.130923     -0.317166      0.162445              1.392294   \n",
       "1    -0.557890     -0.161101      0.625476             -0.933627   \n",
       "2     0.090765      0.424141      0.989287              2.965282   \n",
       "3     0.471782      1.165447      0.989287              0.347211   \n",
       "4     0.868315      0.072995      0.228593             -0.236814   \n",
       "\n",
       "   interests_last_month  loyalty_points reward_type  card_change   avg_age  \\\n",
       "0             -0.430153       -0.160345           R            1  0.596962   \n",
       "1             -0.430153       -0.266902           A            0  1.063053   \n",
       "2              0.400608       -0.246693           R            1  0.888269   \n",
       "3             -0.430153        1.478404           P            1 -0.276958   \n",
       "4              0.701661       -0.250089           R            0 -0.218697   \n",
       "\n",
       "   distinct_names             card_type_name insurance_plan  \n",
       "0               1  O CARTE OR EDITION QUEBEC              0  \n",
       "1               1                        CAA              0  \n",
       "2               1  O CARTE OR EDITION QUEBEC              0  \n",
       "3               1                      World              0  \n",
       "4               1  O CARTE OR EDITION QUEBEC              0  "
      ]
     },
     "execution_count": 321,
     "metadata": {},
     "output_type": "execute_result"
    }
   ],
   "source": [
    "df5[['used_credit','credit_limit','credit_score','nb_days_account_open','interests_last_month','loyalty_points','avg_age']] = df5[['used_credit','credit_limit','credit_score',\n",
    "                   'nb_days_account_open','interests_last_month','loyalty_points','avg_age']].transform(zscore)\n",
    "df5.head()"
   ]
  },
  {
   "cell_type": "markdown",
   "metadata": {},
   "source": [
    "# 分割数据train和test数据集\n",
    "## stratified sample很重要的新建变量可以考虑"
   ]
  },
  {
   "cell_type": "code",
   "execution_count": null,
   "metadata": {
    "collapsed": true
   },
   "outputs": [],
   "source": [
    "#普通随机的分割数据集\n",
    "from sklearn.model_selection import train_test_split\n",
    "\n",
    "train_set, test_set = train_test_split(DF, test_size=0.2, random_state=42)"
   ]
  },
  {
   "cell_type": "code",
   "execution_count": null,
   "metadata": {
    "collapsed": true
   },
   "outputs": [],
   "source": [
    "#StratifiedShuffleSplit分层的数据集 \n",
    "#新建立一个variable---因为target variable非常接近和相关\n",
    "#根据这个新建立的variable分层，分完之后就去除这个变量了\n",
    "\n",
    "from sklearn.model_selection import StratifiedShuffleSplit\n",
    "\n",
    "split = StratifiedShuffleSplit(n_splits=1, test_size=0.2, random_state=42)\n",
    "for train_index, test_index in split.split(housing, DF[\"新变量\"]):\n",
    "    strat_train_set = DF.loc[train_index]\n",
    "    strat_test_set = DF.loc[test_index]"
   ]
  },
  {
   "cell_type": "code",
   "execution_count": 411,
   "metadata": {
    "collapsed": true
   },
   "outputs": [],
   "source": [
    "#这里数据分开了！！！！\n",
    "from sklearn.model_selection import StratifiedShuffleSplit\n",
    "\n",
    "split = StratifiedShuffleSplit(n_splits=1, test_size=0.2, random_state=42)\n",
    "for train_index, test_index in split.split(df5, df5[\"insurance_plan\"]):\n",
    "    train_set = df5.loc[train_index]\n",
    "    test_set = df5.loc[test_index]"
   ]
  },
  {
   "cell_type": "code",
   "execution_count": 412,
   "metadata": {},
   "outputs": [
    {
     "name": "stdout",
     "output_type": "stream",
     "text": [
      "<class 'pandas.core.frame.DataFrame'>\n",
      "Int64Index: 399964 entries, 293170 to 242645\n",
      "Data columns (total 12 columns):\n",
      "used_credit             399928 non-null float64\n",
      "credit_limit            399928 non-null float64\n",
      "credit_score            399928 non-null float64\n",
      "nb_days_account_open    399928 non-null float64\n",
      "interests_last_month    399928 non-null float64\n",
      "loyalty_points          399928 non-null float64\n",
      "reward_type             399928 non-null category\n",
      "card_change             399928 non-null float64\n",
      "avg_age                 399928 non-null float64\n",
      "distinct_names          399928 non-null float64\n",
      "card_type_name          399928 non-null category\n",
      "insurance_plan          399928 non-null category\n",
      "dtypes: category(3), float64(9)\n",
      "memory usage: 31.7 MB\n"
     ]
    }
   ],
   "source": [
    "train_set.info()"
   ]
  },
  {
   "cell_type": "code",
   "execution_count": 413,
   "metadata": {},
   "outputs": [
    {
     "data": {
      "text/plain": [
       "0    321787\n",
       "2     60688\n",
       "1     17453\n",
       "Name: insurance_plan, dtype: int64"
      ]
     },
     "execution_count": 413,
     "metadata": {},
     "output_type": "execute_result"
    }
   ],
   "source": [
    "train_set.insurance_plan.value_counts()  "
   ]
  },
  {
   "cell_type": "code",
   "execution_count": 422,
   "metadata": {},
   "outputs": [
    {
     "name": "stdout",
     "output_type": "stream",
     "text": [
      "<class 'pandas.core.frame.DataFrame'>\n",
      "Int64Index: 399964 entries, 293170 to 242645\n",
      "Data columns (total 12 columns):\n",
      "used_credit             399928 non-null float64\n",
      "credit_limit            399928 non-null float64\n",
      "credit_score            399928 non-null float64\n",
      "nb_days_account_open    399928 non-null float64\n",
      "interests_last_month    399928 non-null float64\n",
      "loyalty_points          399928 non-null float64\n",
      "reward_type             399928 non-null category\n",
      "card_change             399928 non-null float64\n",
      "avg_age                 399928 non-null float64\n",
      "distinct_names          399928 non-null float64\n",
      "card_type_name          399928 non-null category\n",
      "insurance_plan          399928 non-null category\n",
      "dtypes: category(3), float64(9)\n",
      "memory usage: 31.7 MB\n"
     ]
    }
   ],
   "source": [
    "train.info()"
   ]
  },
  {
   "cell_type": "code",
   "execution_count": 295,
   "metadata": {
    "collapsed": true
   },
   "outputs": [],
   "source": [
    "corr_matrix =train.corr()"
   ]
  },
  {
   "cell_type": "code",
   "execution_count": null,
   "metadata": {
    "collapsed": true
   },
   "outputs": [],
   "source": [
    "#怎么每个与变量的相关性\n",
    "corr_matrix[\"insurance_plan\"].sort_values(ascending=False)"
   ]
  },
  {
   "cell_type": "code",
   "execution_count": 297,
   "metadata": {},
   "outputs": [
    {
     "data": {
      "text/plain": [
       "[O PROG FIN PROFESSIONNEL SANTE, O CARTE OR EDITION QUEBEC, MC1 (JEUNES), BNC ALLURE, OR BNQ  NATIONALE DU CANADA, ..., O OR ING, O OR COMPTABLES AGREES DU QUE, O PROGRAMMES FINANCIERS OR, R ORDRE DES INGENIEURS DU QUE, NaN]\n",
       "Length: 21\n",
       "Categories (20, object): [O PROG FIN PROFESSIONNEL SANTE, O CARTE OR EDITION QUEBEC, MC1 (JEUNES), BNC ALLURE, ..., O OR ING, O OR COMPTABLES AGREES DU QUE, O PROGRAMMES FINANCIERS OR, R ORDRE DES INGENIEURS DU QUE]"
      ]
     },
     "execution_count": 297,
     "metadata": {},
     "output_type": "execute_result"
    }
   ],
   "source": [
    "train.card_type_name.unique()"
   ]
  },
  {
   "cell_type": "code",
   "execution_count": 298,
   "metadata": {},
   "outputs": [
    {
     "data": {
      "text/plain": [
       "[P, R, N, A, C, NaN]\n",
       "Categories (5, object): [P, R, N, A, C]"
      ]
     },
     "execution_count": 298,
     "metadata": {},
     "output_type": "execute_result"
    }
   ],
   "source": [
    "train.reward_type .unique()"
   ]
  },
  {
   "cell_type": "markdown",
   "metadata": {},
   "source": [
    "# Correlation\n",
    "## 画图scatter plot"
   ]
  },
  {
   "cell_type": "code",
   "execution_count": 325,
   "metadata": {},
   "outputs": [
    {
     "data": {
      "image/png": "[encoded data removed]",
      "text/plain": [
       "<matplotlib.figure.Figure at 0x1189ad2b0>"
      ]
     },
     "metadata": {},
     "output_type": "display_data"
    }
   ],
   "source": [
    "# Import matplotlib.pyplot\n",
    "import matplotlib.pyplot as plt\n",
    "# Create the scatter plot\n",
    "train.plot(kind='scatter', x='nb_days_account_open', y='avg_age')\n",
    "# Specify axis labels\n",
    "plt.xlabel('nb_days_account_open')\n",
    "plt.ylabel('avg_age')\n",
    "# Display the plot\n",
    "plt.show()\n",
    "#中等的正相关"
   ]
  },
  {
   "cell_type": "code",
   "execution_count": 335,
   "metadata": {},
   "outputs": [
    {
     "data": {
      "image/png": "[encoded data removed]",
      "text/plain": [
       "<matplotlib.figure.Figure at 0x11b9deeb8>"
      ]
     },
     "metadata": {},
     "output_type": "display_data"
    }
   ],
   "source": [
    "# Create the scatter plot\n",
    "train.plot(kind='scatter', x='nb_days_account_open', y='used_credit')\n",
    "# Specify axis labels\n",
    "plt.xlabel('nb_days_account_open')\n",
    "plt.ylabel('used_credit')\n",
    "# Display the plot\n",
    "plt.show()"
   ]
  },
  {
   "cell_type": "code",
   "execution_count": 336,
   "metadata": {},
   "outputs": [
    {
     "data": {
      "image/png": "[encoded data removed]",
      "text/plain": [
       "<matplotlib.figure.Figure at 0x15eb4d320>"
      ]
     },
     "metadata": {},
     "output_type": "display_data"
    }
   ],
   "source": [
    "# Create the scatter plot\n",
    "train.plot(kind='scatter', x='nb_days_account_open', y='credit_limit')\n",
    "# Specify axis labels\n",
    "plt.xlabel('nb_days_account_open')\n",
    "plt.ylabel('credit_limit')\n",
    "# Display the plot\n",
    "plt.show()"
   ]
  },
  {
   "cell_type": "code",
   "execution_count": 334,
   "metadata": {},
   "outputs": [
    {
     "data": {
      "image/png": "[encoded data removed]",
      "text/plain": [
       "<matplotlib.figure.Figure at 0x11b54c668>"
      ]
     },
     "metadata": {},
     "output_type": "display_data"
    }
   ],
   "source": [
    "# Import matplotlib.pyplot\n",
    "import matplotlib.pyplot as plt\n",
    "# Create the scatter plot\n",
    "train.plot(kind='scatter', x='nb_days_account_open', y='loyalty_points')\n",
    "# Specify axis labels\n",
    "plt.xlabel('loyalty_points')\n",
    "plt.ylabel('')\n",
    "# Display the plot\n",
    "plt.show()"
   ]
  },
  {
   "cell_type": "code",
   "execution_count": 332,
   "metadata": {},
   "outputs": [
    {
     "data": {
      "image/png": "[encoded data removed]",
      "text/plain": [
       "<matplotlib.figure.Figure at 0x1237c4160>"
      ]
     },
     "metadata": {},
     "output_type": "display_data"
    }
   ],
   "source": [
    "# Import matplotlib.pyplot\n",
    "import matplotlib.pyplot as plt\n",
    "# Create the scatter plot\n",
    "train.plot(kind='scatter', x='loyalty_points', y='credit_score')\n",
    "# Specify axis labels\n",
    "plt.xlabel('loyalty_points')\n",
    "plt.ylabel('credit_score')\n",
    "# Display the plot\n",
    "plt.show()"
   ]
  },
  {
   "cell_type": "code",
   "execution_count": 379,
   "metadata": {},
   "outputs": [
    {
     "data": {
      "text/plain": [
       "array([[<matplotlib.axes._subplots.AxesSubplot object at 0x1114865c0>,\n",
       "        <matplotlib.axes._subplots.AxesSubplot object at 0x112b5bac8>,\n",
       "        <matplotlib.axes._subplots.AxesSubplot object at 0x112f41b38>],\n",
       "       [<matplotlib.axes._subplots.AxesSubplot object at 0x112ff6ba8>,\n",
       "        <matplotlib.axes._subplots.AxesSubplot object at 0x11308eba8>,\n",
       "        <matplotlib.axes._subplots.AxesSubplot object at 0x11308ebe0>],\n",
       "       [<matplotlib.axes._subplots.AxesSubplot object at 0x1123105f8>,\n",
       "        <matplotlib.axes._subplots.AxesSubplot object at 0x113919ac8>,\n",
       "        <matplotlib.axes._subplots.AxesSubplot object at 0x113939048>]], dtype=object)"
      ]
     },
     "execution_count": 379,
     "metadata": {},
     "output_type": "execute_result"
    }
   ],
   "source": [
    "# from pandas.tools.plotting import scatter_matrix # For older versions of Pandas\n",
    "from pandas.plotting import scatter_matrix\n",
    "\n",
    "attributes = [\"avg_age\", \"interests_last_month\", \"nb_days_account_open\",\n",
    "              \"used_credit\",\"loyalty_points\",\"distinct_names\",\"credit_score\",\"credit_limit\"]\n",
    "scatter_matrix(train[attributes], figsize=(8, 8))"
   ]
  },
  {
   "cell_type": "markdown",
   "metadata": {},
   "source": [
    "## 整体计算两个之间的相关系数\n",
    "### corr_matrix = df.corr()\n",
    "### corr_matrix [‘目标列'].sort_values(ascending=False)"
   ]
  },
  {
   "cell_type": "code",
   "execution_count": 426,
   "metadata": {},
   "outputs": [
    {
     "data": {
      "text/plain": [
       "used_credit             1.000000\n",
       "interests_last_month    0.827369\n",
       "credit_limit            0.445138\n",
       "loyalty_points          0.204301\n",
       "distinct_names          0.118647\n",
       "card_change             0.100595\n",
       "nb_days_account_open    0.019344\n",
       "insurance_plan         -0.023174\n",
       "avg_age                -0.053462\n",
       "credit_score           -0.276170\n",
       "Name: used_credit, dtype: float64"
      ]
     },
     "execution_count": 426,
     "metadata": {},
     "output_type": "execute_result"
    }
   ],
   "source": [
    "corr_matrix = train.corr()\n",
    "corr_matrix['used_credit'].sort_values(ascending=False)"
   ]
  },
  {
   "cell_type": "code",
   "execution_count": 427,
   "metadata": {},
   "outputs": [
    {
     "data": {
      "text/plain": [
       "credit_limit            1.000000\n",
       "used_credit             0.445138\n",
       "loyalty_points          0.379401\n",
       "distinct_names          0.266073\n",
       "interests_last_month    0.243807\n",
       "card_change             0.199453\n",
       "avg_age                 0.160676\n",
       "nb_days_account_open    0.155137\n",
       "credit_score            0.095565\n",
       "insurance_plan         -0.112267\n",
       "Name: credit_limit, dtype: float64"
      ]
     },
     "execution_count": 427,
     "metadata": {},
     "output_type": "execute_result"
    }
   ],
   "source": [
    "corr_matrix['credit_limit'].sort_values(ascending=False)"
   ]
  },
  {
   "cell_type": "code",
   "execution_count": 428,
   "metadata": {},
   "outputs": [
    {
     "data": {
      "text/plain": [
       "loyalty_points          1.000000\n",
       "credit_limit            0.379401\n",
       "used_credit             0.204301\n",
       "distinct_names          0.198508\n",
       "card_change             0.111160\n",
       "nb_days_account_open    0.056948\n",
       "interests_last_month    0.024649\n",
       "credit_score            0.018298\n",
       "avg_age                -0.014452\n",
       "insurance_plan         -0.056063\n",
       "Name: loyalty_points, dtype: float64"
      ]
     },
     "execution_count": 428,
     "metadata": {},
     "output_type": "execute_result"
    }
   ],
   "source": [
    "corr_matrix['loyalty_points'].sort_values(ascending=False)"
   ]
  },
  {
   "cell_type": "code",
   "execution_count": 429,
   "metadata": {},
   "outputs": [
    {
     "data": {
      "text/plain": [
       "credit_score            1.000000\n",
       "avg_age                 0.314359\n",
       "nb_days_account_open    0.309700\n",
       "card_change             0.187282\n",
       "credit_limit            0.095565\n",
       "distinct_names          0.076665\n",
       "loyalty_points          0.018298\n",
       "insurance_plan         -0.097700\n",
       "used_credit            -0.276170\n",
       "interests_last_month   -0.349202\n",
       "Name: credit_score, dtype: float64"
      ]
     },
     "execution_count": 429,
     "metadata": {},
     "output_type": "execute_result"
    }
   ],
   "source": [
    "corr_matrix['credit_score'].sort_values(ascending=False)"
   ]
  },
  {
   "cell_type": "code",
   "execution_count": 430,
   "metadata": {},
   "outputs": [
    {
     "data": {
      "text/plain": [
       "nb_days_account_open    1.000000\n",
       "card_change             0.631794\n",
       "avg_age                 0.355213\n",
       "credit_score            0.309700\n",
       "credit_limit            0.155137\n",
       "distinct_names          0.063330\n",
       "loyalty_points          0.056948\n",
       "used_credit             0.019344\n",
       "interests_last_month   -0.007197\n",
       "insurance_plan         -0.010501\n",
       "Name: nb_days_account_open, dtype: float64"
      ]
     },
     "execution_count": 430,
     "metadata": {},
     "output_type": "execute_result"
    }
   ],
   "source": [
    "corr_matrix['nb_days_account_open'].sort_values(ascending=False)"
   ]
  },
  {
   "cell_type": "code",
   "execution_count": 431,
   "metadata": {},
   "outputs": [
    {
     "data": {
      "text/plain": [
       "insurance_plan          1.000000\n",
       "avg_age                 0.060443\n",
       "interests_last_month    0.027698\n",
       "nb_days_account_open   -0.010501\n",
       "card_change            -0.021045\n",
       "used_credit            -0.023174\n",
       "loyalty_points         -0.056063\n",
       "distinct_names         -0.075750\n",
       "credit_score           -0.097700\n",
       "credit_limit           -0.112267\n",
       "Name: insurance_plan, dtype: float64"
      ]
     },
     "execution_count": 431,
     "metadata": {},
     "output_type": "execute_result"
    }
   ],
   "source": [
    "corr_matrix['insurance_plan'].sort_values(ascending=False)"
   ]
  },
  {
   "cell_type": "markdown",
   "metadata": {},
   "source": [
    "# 如何转化target列\n",
    "## 转化categorical为numeric变量\n",
    "## 转化为只要买了的都是1，没有2"
   ]
  },
  {
   "cell_type": "code",
   "execution_count": 374,
   "metadata": {},
   "outputs": [
    {
     "name": "stdout",
     "output_type": "stream",
     "text": [
      "399928\n",
      "<class 'pandas.core.frame.DataFrame'>\n",
      "Int64Index: 399964 entries, 293170 to 242645\n",
      "Data columns (total 12 columns):\n",
      "used_credit             399928 non-null float64\n",
      "credit_limit            399928 non-null float64\n",
      "credit_score            399928 non-null float64\n",
      "nb_days_account_open    399928 non-null float64\n",
      "interests_last_month    399928 non-null float64\n",
      "loyalty_points          399928 non-null float64\n",
      "reward_type             399928 non-null category\n",
      "card_change             399928 non-null float64\n",
      "avg_age                 399928 non-null float64\n",
      "distinct_names          399928 non-null float64\n",
      "card_type_name          399928 non-null category\n",
      "insurance_plan          399928 non-null float64\n",
      "dtypes: category(2), float64(10)\n",
      "memory usage: 44.3 MB\n",
      "None\n"
     ]
    }
   ],
   "source": [
    "print(train.loc[:,'insurance_plan'].count())\n",
    "print(train.info())"
   ]
  },
  {
   "cell_type": "code",
   "execution_count": 423,
   "metadata": {},
   "outputs": [
    {
     "name": "stdout",
     "output_type": "stream",
     "text": [
      "0.0    321787\n",
      "2.0     60688\n",
      "1.0     17453\n",
      "Name: insurance_plan, dtype: int64\n"
     ]
    }
   ],
   "source": [
    "train.insurance_plan = pd.to_numeric(train.insurance_plan)\n",
    "\n",
    "print(train.insurance_plan.value_counts())"
   ]
  },
  {
   "cell_type": "code",
   "execution_count": 424,
   "metadata": {
    "collapsed": true
   },
   "outputs": [],
   "source": [
    "train.loc[train['insurance_plan'] > 1, 'insurance_plan'] = 1\n"
   ]
  },
  {
   "cell_type": "code",
   "execution_count": 425,
   "metadata": {},
   "outputs": [
    {
     "data": {
      "text/plain": [
       "0.0    321787\n",
       "1.0     78141\n",
       "Name: insurance_plan, dtype: int64"
      ]
     },
     "execution_count": 425,
     "metadata": {},
     "output_type": "execute_result"
    }
   ],
   "source": [
    "train.insurance_plan.value_counts()"
   ]
  },
  {
   "cell_type": "markdown",
   "metadata": {},
   "source": [
    "# AttributeCombinations需再考虑"
   ]
  },
  {
   "cell_type": "code",
   "execution_count": null,
   "metadata": {
    "collapsed": true
   },
   "outputs": [],
   "source": [
    "housing[\"rooms_per_household\"] = housing[\"total_rooms\"]/housing[\"households\"]\n",
    "housing[\"bedrooms_per_room\"] = housing[\"total_bedrooms\"]/housing[\"total_rooms\"]\n",
    "housing[\"population_per_household\"]=housing[\"population\"]/housing[\"households\"]"
   ]
  },
  {
   "cell_type": "markdown",
   "metadata": {},
   "source": [
    "# 准备数据为机器学习Algorithms\n",
    "## 去掉train数据的target变量"
   ]
  },
  {
   "cell_type": "code",
   "execution_count": 432,
   "metadata": {
    "collapsed": true
   },
   "outputs": [],
   "source": [
    "insurance = train.drop(\"insurance_plan\", axis=1) # drop labels for training set\n",
    "insurance_labels = train[\"insurance_plan\"].copy()"
   ]
  },
  {
   "cell_type": "markdown",
   "metadata": {},
   "source": [
    "## Data Cleaning\n",
    "### 方法1\n",
    "- housing.dropna(subset=[\"total_bedrooms\"])    # option 1\n",
    "- housing.drop(\"total_bedrooms\", axis=1)       # option 2\n",
    "- median = housing[\"total_bedrooms\"].median()  # option 3\n",
    "- housing[\"total_bedrooms\"].fillna(median, inplace=True)\n",
    "### 方法2\n",
    "建立一个没有categorical variable的数据集DF\n",
    "**from sklearn.preprocessing import Imputer**\n",
    "- imputer = Imputer(strategy=\"median\")\n",
    "  - housing_num = housing.drop(\"ocean_proximity\", axis=1)\n",
    "  - imputer.fit(housing_num)\n",
    "  - X = imputer.transform(housing_num)\n",
    "  - housing_tr = pd.DataFrame(X, columns=housing_num.columns)"
   ]
  },
  {
   "cell_type": "markdown",
   "metadata": {},
   "source": [
    "## 处理Text,Categorical Attributes\n",
    "### Scikit-Learn OneHotEncoder\n",
    "- reward_type \n",
    "- card_type_name "
   ]
  },
  {
   "cell_type": "code",
   "execution_count": 433,
   "metadata": {},
   "outputs": [
    {
     "data": {
      "text/plain": [
       "(399964, 11)"
      ]
     },
     "execution_count": 433,
     "metadata": {},
     "output_type": "execute_result"
    }
   ],
   "source": [
    "insurance.shape"
   ]
  },
  {
   "cell_type": "markdown",
   "metadata": {},
   "source": [
    "## custom transformer----extra attributes\n",
    "\n",
    "- The CategoricalEncoder expects a 2D array containing one or more categorical input features. We need to reshape housing_cat to a 2D array:"
   ]
  },
  {
   "cell_type": "code",
   "execution_count": null,
   "metadata": {
    "collapsed": true
   },
   "outputs": [],
   "source": []
  },
  {
   "cell_type": "code",
   "execution_count": 435,
   "metadata": {},
   "outputs": [
    {
     "name": "stdout",
     "output_type": "stream",
     "text": [
      "<class 'pandas.core.frame.DataFrame'>\n",
      "Int64Index: 399964 entries, 293170 to 242645\n",
      "Data columns (total 11 columns):\n",
      "used_credit             399928 non-null float64\n",
      "credit_limit            399928 non-null float64\n",
      "credit_score            399928 non-null float64\n",
      "nb_days_account_open    399928 non-null float64\n",
      "interests_last_month    399928 non-null float64\n",
      "loyalty_points          399928 non-null float64\n",
      "reward_type             399928 non-null category\n",
      "card_change             399928 non-null float64\n",
      "avg_age                 399928 non-null float64\n",
      "distinct_names          399928 non-null float64\n",
      "card_type_name          399928 non-null category\n",
      "dtypes: category(2), float64(9)\n",
      "memory usage: 31.3 MB\n"
     ]
    }
   ],
   "source": [
    "insurance.info()"
   ]
  },
  {
   "cell_type": "code",
   "execution_count": null,
   "metadata": {
    "collapsed": true
   },
   "outputs": [],
   "source": []
  },
  {
   "cell_type": "markdown",
   "metadata": {},
   "source": [
    "# 自己的处理numeric变量标准化"
   ]
  },
  {
   "cell_type": "code",
   "execution_count": 398,
   "metadata": {},
   "outputs": [
    {
     "data": {
      "text/html": [
       "<div>\n",
       "<style>\n",
       "    .dataframe thead tr:only-child th {\n",
       "        text-align: right;\n",
       "    }\n",
       "\n",
       "    .dataframe thead th {\n",
       "        text-align: left;\n",
       "    }\n",
       "\n",
       "    .dataframe tbody tr th {\n",
       "        vertical-align: top;\n",
       "    }\n",
       "</style>\n",
       "<table border=\"1\" class=\"dataframe\">\n",
       "  <thead>\n",
       "    <tr style=\"text-align: right;\">\n",
       "      <th></th>\n",
       "      <th>used_credit</th>\n",
       "      <th>credit_limit</th>\n",
       "      <th>credit_score</th>\n",
       "      <th>nb_days_account_open</th>\n",
       "      <th>interests_last_month</th>\n",
       "      <th>loyalty_points</th>\n",
       "      <th>reward_type</th>\n",
       "      <th>card_change</th>\n",
       "      <th>avg_age</th>\n",
       "      <th>distinct_names</th>\n",
       "      <th>card_type_name</th>\n",
       "    </tr>\n",
       "  </thead>\n",
       "  <tbody>\n",
       "    <tr>\n",
       "      <th>293170</th>\n",
       "      <td>NaN</td>\n",
       "      <td>NaN</td>\n",
       "      <td>NaN</td>\n",
       "      <td>NaN</td>\n",
       "      <td>NaN</td>\n",
       "      <td>NaN</td>\n",
       "      <td>P</td>\n",
       "      <td>1.0</td>\n",
       "      <td>NaN</td>\n",
       "      <td>1.0</td>\n",
       "      <td>O PROG FIN PROFESSIONNEL SANTE</td>\n",
       "    </tr>\n",
       "    <tr>\n",
       "      <th>318485</th>\n",
       "      <td>NaN</td>\n",
       "      <td>NaN</td>\n",
       "      <td>NaN</td>\n",
       "      <td>NaN</td>\n",
       "      <td>NaN</td>\n",
       "      <td>NaN</td>\n",
       "      <td>R</td>\n",
       "      <td>1.0</td>\n",
       "      <td>NaN</td>\n",
       "      <td>2.0</td>\n",
       "      <td>O CARTE OR EDITION QUEBEC</td>\n",
       "    </tr>\n",
       "    <tr>\n",
       "      <th>182363</th>\n",
       "      <td>NaN</td>\n",
       "      <td>NaN</td>\n",
       "      <td>NaN</td>\n",
       "      <td>NaN</td>\n",
       "      <td>NaN</td>\n",
       "      <td>NaN</td>\n",
       "      <td>R</td>\n",
       "      <td>1.0</td>\n",
       "      <td>NaN</td>\n",
       "      <td>1.0</td>\n",
       "      <td>O CARTE OR EDITION QUEBEC</td>\n",
       "    </tr>\n",
       "    <tr>\n",
       "      <th>256321</th>\n",
       "      <td>NaN</td>\n",
       "      <td>NaN</td>\n",
       "      <td>NaN</td>\n",
       "      <td>NaN</td>\n",
       "      <td>NaN</td>\n",
       "      <td>NaN</td>\n",
       "      <td>N</td>\n",
       "      <td>0.0</td>\n",
       "      <td>NaN</td>\n",
       "      <td>1.0</td>\n",
       "      <td>MC1 (JEUNES)</td>\n",
       "    </tr>\n",
       "    <tr>\n",
       "      <th>473323</th>\n",
       "      <td>NaN</td>\n",
       "      <td>NaN</td>\n",
       "      <td>NaN</td>\n",
       "      <td>NaN</td>\n",
       "      <td>NaN</td>\n",
       "      <td>NaN</td>\n",
       "      <td>R</td>\n",
       "      <td>0.0</td>\n",
       "      <td>NaN</td>\n",
       "      <td>1.0</td>\n",
       "      <td>O CARTE OR EDITION QUEBEC</td>\n",
       "    </tr>\n",
       "  </tbody>\n",
       "</table>\n",
       "</div>"
      ],
      "text/plain": [
       "        used_credit  credit_limit  credit_score  nb_days_account_open  \\\n",
       "293170          NaN           NaN           NaN                   NaN   \n",
       "318485          NaN           NaN           NaN                   NaN   \n",
       "182363          NaN           NaN           NaN                   NaN   \n",
       "256321          NaN           NaN           NaN                   NaN   \n",
       "473323          NaN           NaN           NaN                   NaN   \n",
       "\n",
       "        interests_last_month  loyalty_points reward_type  card_change  \\\n",
       "293170                   NaN             NaN           P          1.0   \n",
       "318485                   NaN             NaN           R          1.0   \n",
       "182363                   NaN             NaN           R          1.0   \n",
       "256321                   NaN             NaN           N          0.0   \n",
       "473323                   NaN             NaN           R          0.0   \n",
       "\n",
       "        avg_age  distinct_names                  card_type_name  \n",
       "293170      NaN             1.0  O PROG FIN PROFESSIONNEL SANTE  \n",
       "318485      NaN             2.0       O CARTE OR EDITION QUEBEC  \n",
       "182363      NaN             1.0       O CARTE OR EDITION QUEBEC  \n",
       "256321      NaN             1.0                    MC1 (JEUNES)  \n",
       "473323      NaN             1.0       O CARTE OR EDITION QUEBEC  "
      ]
     },
     "execution_count": 398,
     "metadata": {},
     "output_type": "execute_result"
    }
   ],
   "source": [
    "# 不知道为何不行，从前面进行了计算Import zscore\n",
    "from scipy.stats import zscore\n",
    "# 1.标准化numeric的column： standardized\n",
    "insurance[['used_credit','credit_limit','credit_score','nb_days_account_open','interests_last_month','loyalty_points','avg_age']] = insurance[['used_credit','credit_limit','credit_score',\n",
    "                   'nb_days_account_open','interests_last_month','loyalty_points','avg_age']].transform(zscore)"
   ]
  },
  {
   "cell_type": "code",
   "execution_count": 4,
   "metadata": {},
   "outputs": [
    {
     "ename": "NameError",
     "evalue": "name 'insurance' is not defined",
     "output_type": "error",
     "traceback": [
      "\u001b[0;31m---------------------------------------------------------------------------\u001b[0m",
      "\u001b[0;31mNameError\u001b[0m                                 Traceback (most recent call last)",
      "\u001b[0;32m<ipython-input-4-06574d5f994a>\u001b[0m in \u001b[0;36m<module>\u001b[0;34m()\u001b[0m\n\u001b[0;32m----> 1\u001b[0;31m \u001b[0minsurance\u001b[0m\u001b[0;34m.\u001b[0m\u001b[0mhead\u001b[0m\u001b[0;34m(\u001b[0m\u001b[0;36m3\u001b[0m\u001b[0;34m)\u001b[0m\u001b[0;34m\u001b[0m\u001b[0m\n\u001b[0m",
      "\u001b[0;31mNameError\u001b[0m: name 'insurance' is not defined"
     ]
    }
   ],
   "source": [
    "insurance.head(3)"
   ]
  },
  {
   "cell_type": "code",
   "execution_count": 445,
   "metadata": {},
   "outputs": [
    {
     "ename": "ValueError",
     "evalue": "bad input shape (399964, 2)",
     "output_type": "error",
     "traceback": [
      "\u001b[0;31m---------------------------------------------------------------------------\u001b[0m",
      "\u001b[0;31mValueError\u001b[0m                                Traceback (most recent call last)",
      "\u001b[0;32m<ipython-input-445-f2c8aba401a1>\u001b[0m in \u001b[0;36m<module>\u001b[0;34m()\u001b[0m\n\u001b[1;32m      2\u001b[0m \u001b[0;34m\u001b[0m\u001b[0m\n\u001b[1;32m      3\u001b[0m \u001b[0mlb_make\u001b[0m \u001b[0;34m=\u001b[0m \u001b[0mLabelEncoder\u001b[0m\u001b[0;34m(\u001b[0m\u001b[0;34m)\u001b[0m\u001b[0;34m\u001b[0m\u001b[0m\n\u001b[0;32m----> 4\u001b[0;31m \u001b[0mlb_make\u001b[0m\u001b[0;34m.\u001b[0m\u001b[0mfit_transform\u001b[0m\u001b[0;34m(\u001b[0m\u001b[0minsurance\u001b[0m\u001b[0;34m[\u001b[0m\u001b[0;34m[\u001b[0m\u001b[0;34m'reward_type'\u001b[0m\u001b[0;34m,\u001b[0m\u001b[0;34m'card_type_name'\u001b[0m\u001b[0;34m]\u001b[0m\u001b[0;34m]\u001b[0m\u001b[0;34m)\u001b[0m\u001b[0;34m\u001b[0m\u001b[0m\n\u001b[0m\u001b[1;32m      5\u001b[0m \u001b[0minsurance\u001b[0m\u001b[0;34m[\u001b[0m\u001b[0;34m[\u001b[0m\u001b[0;34m'reward_type'\u001b[0m\u001b[0;34m,\u001b[0m\u001b[0;34m'card_type_name'\u001b[0m\u001b[0;34m]\u001b[0m\u001b[0;34m]\u001b[0m\u001b[0;34m.\u001b[0m\u001b[0mhead\u001b[0m\u001b[0;34m(\u001b[0m\u001b[0;34m)\u001b[0m\u001b[0;34m\u001b[0m\u001b[0m\n",
      "\u001b[0;32m~/anaconda3/lib/python3.6/site-packages/sklearn/preprocessing/label.py\u001b[0m in \u001b[0;36mfit_transform\u001b[0;34m(self, y)\u001b[0m\n\u001b[1;32m    109\u001b[0m         \u001b[0my\u001b[0m \u001b[0;34m:\u001b[0m \u001b[0marray\u001b[0m\u001b[0;34m-\u001b[0m\u001b[0mlike\u001b[0m \u001b[0mof\u001b[0m \u001b[0mshape\u001b[0m \u001b[0;34m[\u001b[0m\u001b[0mn_samples\u001b[0m\u001b[0;34m]\u001b[0m\u001b[0;34m\u001b[0m\u001b[0m\n\u001b[1;32m    110\u001b[0m         \"\"\"\n\u001b[0;32m--> 111\u001b[0;31m         \u001b[0my\u001b[0m \u001b[0;34m=\u001b[0m \u001b[0mcolumn_or_1d\u001b[0m\u001b[0;34m(\u001b[0m\u001b[0my\u001b[0m\u001b[0;34m,\u001b[0m \u001b[0mwarn\u001b[0m\u001b[0;34m=\u001b[0m\u001b[0;32mTrue\u001b[0m\u001b[0;34m)\u001b[0m\u001b[0;34m\u001b[0m\u001b[0m\n\u001b[0m\u001b[1;32m    112\u001b[0m         \u001b[0mself\u001b[0m\u001b[0;34m.\u001b[0m\u001b[0mclasses_\u001b[0m\u001b[0;34m,\u001b[0m \u001b[0my\u001b[0m \u001b[0;34m=\u001b[0m \u001b[0mnp\u001b[0m\u001b[0;34m.\u001b[0m\u001b[0munique\u001b[0m\u001b[0;34m(\u001b[0m\u001b[0my\u001b[0m\u001b[0;34m,\u001b[0m \u001b[0mreturn_inverse\u001b[0m\u001b[0;34m=\u001b[0m\u001b[0;32mTrue\u001b[0m\u001b[0;34m)\u001b[0m\u001b[0;34m\u001b[0m\u001b[0m\n\u001b[1;32m    113\u001b[0m         \u001b[0;32mreturn\u001b[0m \u001b[0my\u001b[0m\u001b[0;34m\u001b[0m\u001b[0m\n",
      "\u001b[0;32m~/anaconda3/lib/python3.6/site-packages/sklearn/utils/validation.py\u001b[0m in \u001b[0;36mcolumn_or_1d\u001b[0;34m(y, warn)\u001b[0m\n\u001b[1;32m    612\u001b[0m         \u001b[0;32mreturn\u001b[0m \u001b[0mnp\u001b[0m\u001b[0;34m.\u001b[0m\u001b[0mravel\u001b[0m\u001b[0;34m(\u001b[0m\u001b[0my\u001b[0m\u001b[0;34m)\u001b[0m\u001b[0;34m\u001b[0m\u001b[0m\n\u001b[1;32m    613\u001b[0m \u001b[0;34m\u001b[0m\u001b[0m\n\u001b[0;32m--> 614\u001b[0;31m     \u001b[0;32mraise\u001b[0m \u001b[0mValueError\u001b[0m\u001b[0;34m(\u001b[0m\u001b[0;34m\"bad input shape {0}\"\u001b[0m\u001b[0;34m.\u001b[0m\u001b[0mformat\u001b[0m\u001b[0;34m(\u001b[0m\u001b[0mshape\u001b[0m\u001b[0;34m)\u001b[0m\u001b[0;34m)\u001b[0m\u001b[0;34m\u001b[0m\u001b[0m\n\u001b[0m\u001b[1;32m    615\u001b[0m \u001b[0;34m\u001b[0m\u001b[0m\n\u001b[1;32m    616\u001b[0m \u001b[0;34m\u001b[0m\u001b[0m\n",
      "\u001b[0;31mValueError\u001b[0m: bad input shape (399964, 2)"
     ]
    }
   ],
   "source": [
    "from sklearn.preprocessing import LabelEncoder\n",
    "\n",
    "lb_make = LabelEncoder()\n",
    "lb_make.fit_transform(insurance[['reward_type','card_type_name']])\n",
    "insurance[['reward_type','card_type_name']].head()"
   ]
  },
  {
   "cell_type": "code",
   "execution_count": null,
   "metadata": {
    "collapsed": true
   },
   "outputs": [],
   "source": [
    "insurance_cat= insurance[['reward_type','card_type_name']]\n",
    "print(type(insurance_cat))\n",
    "print(insurance_cat.info())"
   ]
  },
  {
   "cell_type": "code",
   "execution_count": 464,
   "metadata": {},
   "outputs": [
    {
     "name": "stdout",
     "output_type": "stream",
     "text": [
      "        reward_A  reward_C  reward_N  reward_P  reward_R\n",
      "293170         0         0         0         1         0\n",
      "318485         0         0         0         0         1\n",
      "182363         0         0         0         0         1\n",
      "256321         0         0         1         0         0\n",
      "473323         0         0         0         0         1\n",
      "<class 'pandas.core.frame.DataFrame'>\n",
      "(399964, 5)\n"
     ]
    }
   ],
   "source": [
    "import pandas as pd\n",
    "insurance1=pd.get_dummies(insurance['reward_type'],prefix='reward')\n",
    "print(insurance1.head())\n",
    "print(type(insurance1))\n",
    "print(insurance1.shape)"
   ]
  },
  {
   "cell_type": "code",
   "execution_count": 475,
   "metadata": {},
   "outputs": [
    {
     "name": "stdout",
     "output_type": "stream",
     "text": [
      "<class 'pandas.core.frame.DataFrame'>\n",
      "Int64Index: 399964 entries, 293170 to 242645\n",
      "Data columns (total 20 columns):\n",
      "cardtype_BNC ALLURE                        399964 non-null uint8\n",
      "cardtype_CAA                               399964 non-null uint8\n",
      "cardtype_ECHO                              399964 non-null uint8\n",
      "cardtype_MC1 (JEUNES)                      399964 non-null uint8\n",
      "cardtype_O CARTE EDITION HORS-QUEBEC       399964 non-null uint8\n",
      "cardtype_O CARTE ESCAPADE                  399964 non-null uint8\n",
      "cardtype_O CARTE OR EDITION QUEBEC         399964 non-null uint8\n",
      "cardtype_O OR COMPTABLES AGREES DU QUE     399964 non-null uint8\n",
      "cardtype_O OR ING                          399964 non-null uint8\n",
      "cardtype_O PROG FIN PROFESSIONNEL SANTE    399964 non-null uint8\n",
      "cardtype_O PROG FINANCIER INGENIEURS       399964 non-null uint8\n",
      "cardtype_O PROGRAMMES FINANCIERS OR        399964 non-null uint8\n",
      "cardtype_O SYNCRO FAMILIALE                399964 non-null uint8\n",
      "cardtype_O ULTRAMAR FAMILIALE              399964 non-null uint8\n",
      "cardtype_OR BNQ  NATIONALE DU CANADA       399964 non-null uint8\n",
      "cardtype_Other                             399964 non-null uint8\n",
      "cardtype_PLATINE BNC                       399964 non-null uint8\n",
      "cardtype_R ORDRE DES INGENIEURS DU QUE     399964 non-null uint8\n",
      "cardtype_World                             399964 non-null uint8\n",
      "cardtype_World elite                       399964 non-null uint8\n",
      "dtypes: uint8(20)\n",
      "memory usage: 10.7 MB\n"
     ]
    }
   ],
   "source": [
    "insurance2=pd.get_dummies(insurance['card_type_name'],prefix='cardtype')\n",
    "insurance2.info()"
   ]
  },
  {
   "cell_type": "code",
   "execution_count": 478,
   "metadata": {},
   "outputs": [
    {
     "data": {
      "text/html": [
       "<div>\n",
       "<style>\n",
       "    .dataframe thead tr:only-child th {\n",
       "        text-align: right;\n",
       "    }\n",
       "\n",
       "    .dataframe thead th {\n",
       "        text-align: left;\n",
       "    }\n",
       "\n",
       "    .dataframe tbody tr th {\n",
       "        vertical-align: top;\n",
       "    }\n",
       "</style>\n",
       "<table border=\"1\" class=\"dataframe\">\n",
       "  <thead>\n",
       "    <tr style=\"text-align: right;\">\n",
       "      <th></th>\n",
       "      <th>used_credit</th>\n",
       "      <th>credit_limit</th>\n",
       "      <th>credit_score</th>\n",
       "      <th>nb_days_account_open</th>\n",
       "      <th>interests_last_month</th>\n",
       "      <th>loyalty_points</th>\n",
       "      <th>card_change</th>\n",
       "      <th>avg_age</th>\n",
       "      <th>distinct_names</th>\n",
       "      <th>insurance_plan</th>\n",
       "    </tr>\n",
       "  </thead>\n",
       "  <tbody>\n",
       "    <tr>\n",
       "      <th>used_credit</th>\n",
       "      <td>1.000000</td>\n",
       "      <td>0.445138</td>\n",
       "      <td>-0.276170</td>\n",
       "      <td>0.019344</td>\n",
       "      <td>0.827369</td>\n",
       "      <td>0.204301</td>\n",
       "      <td>0.100595</td>\n",
       "      <td>-0.053462</td>\n",
       "      <td>0.118647</td>\n",
       "      <td>-0.023174</td>\n",
       "    </tr>\n",
       "    <tr>\n",
       "      <th>credit_limit</th>\n",
       "      <td>0.445138</td>\n",
       "      <td>1.000000</td>\n",
       "      <td>0.095565</td>\n",
       "      <td>0.155137</td>\n",
       "      <td>0.243807</td>\n",
       "      <td>0.379401</td>\n",
       "      <td>0.199453</td>\n",
       "      <td>0.160676</td>\n",
       "      <td>0.266073</td>\n",
       "      <td>-0.112267</td>\n",
       "    </tr>\n",
       "    <tr>\n",
       "      <th>credit_score</th>\n",
       "      <td>-0.276170</td>\n",
       "      <td>0.095565</td>\n",
       "      <td>1.000000</td>\n",
       "      <td>0.309700</td>\n",
       "      <td>-0.349202</td>\n",
       "      <td>0.018298</td>\n",
       "      <td>0.187282</td>\n",
       "      <td>0.314359</td>\n",
       "      <td>0.076665</td>\n",
       "      <td>-0.097700</td>\n",
       "    </tr>\n",
       "    <tr>\n",
       "      <th>nb_days_account_open</th>\n",
       "      <td>0.019344</td>\n",
       "      <td>0.155137</td>\n",
       "      <td>0.309700</td>\n",
       "      <td>1.000000</td>\n",
       "      <td>-0.007197</td>\n",
       "      <td>0.056948</td>\n",
       "      <td>0.631794</td>\n",
       "      <td>0.355213</td>\n",
       "      <td>0.063330</td>\n",
       "      <td>-0.010501</td>\n",
       "    </tr>\n",
       "    <tr>\n",
       "      <th>interests_last_month</th>\n",
       "      <td>0.827369</td>\n",
       "      <td>0.243807</td>\n",
       "      <td>-0.349202</td>\n",
       "      <td>-0.007197</td>\n",
       "      <td>1.000000</td>\n",
       "      <td>0.024649</td>\n",
       "      <td>0.029187</td>\n",
       "      <td>-0.066216</td>\n",
       "      <td>-0.018544</td>\n",
       "      <td>0.027698</td>\n",
       "    </tr>\n",
       "    <tr>\n",
       "      <th>loyalty_points</th>\n",
       "      <td>0.204301</td>\n",
       "      <td>0.379401</td>\n",
       "      <td>0.018298</td>\n",
       "      <td>0.056948</td>\n",
       "      <td>0.024649</td>\n",
       "      <td>1.000000</td>\n",
       "      <td>0.111160</td>\n",
       "      <td>-0.014452</td>\n",
       "      <td>0.198508</td>\n",
       "      <td>-0.056063</td>\n",
       "    </tr>\n",
       "    <tr>\n",
       "      <th>card_change</th>\n",
       "      <td>0.100595</td>\n",
       "      <td>0.199453</td>\n",
       "      <td>0.187282</td>\n",
       "      <td>0.631794</td>\n",
       "      <td>0.029187</td>\n",
       "      <td>0.111160</td>\n",
       "      <td>1.000000</td>\n",
       "      <td>0.135292</td>\n",
       "      <td>0.125040</td>\n",
       "      <td>-0.021045</td>\n",
       "    </tr>\n",
       "    <tr>\n",
       "      <th>avg_age</th>\n",
       "      <td>-0.053462</td>\n",
       "      <td>0.160676</td>\n",
       "      <td>0.314359</td>\n",
       "      <td>0.355213</td>\n",
       "      <td>-0.066216</td>\n",
       "      <td>-0.014452</td>\n",
       "      <td>0.135292</td>\n",
       "      <td>1.000000</td>\n",
       "      <td>0.069816</td>\n",
       "      <td>0.060443</td>\n",
       "    </tr>\n",
       "    <tr>\n",
       "      <th>distinct_names</th>\n",
       "      <td>0.118647</td>\n",
       "      <td>0.266073</td>\n",
       "      <td>0.076665</td>\n",
       "      <td>0.063330</td>\n",
       "      <td>-0.018544</td>\n",
       "      <td>0.198508</td>\n",
       "      <td>0.125040</td>\n",
       "      <td>0.069816</td>\n",
       "      <td>1.000000</td>\n",
       "      <td>-0.075750</td>\n",
       "    </tr>\n",
       "    <tr>\n",
       "      <th>insurance_plan</th>\n",
       "      <td>-0.023174</td>\n",
       "      <td>-0.112267</td>\n",
       "      <td>-0.097700</td>\n",
       "      <td>-0.010501</td>\n",
       "      <td>0.027698</td>\n",
       "      <td>-0.056063</td>\n",
       "      <td>-0.021045</td>\n",
       "      <td>0.060443</td>\n",
       "      <td>-0.075750</td>\n",
       "      <td>1.000000</td>\n",
       "    </tr>\n",
       "  </tbody>\n",
       "</table>\n",
       "</div>"
      ],
      "text/plain": [
       "                      used_credit  credit_limit  credit_score  \\\n",
       "used_credit              1.000000      0.445138     -0.276170   \n",
       "credit_limit             0.445138      1.000000      0.095565   \n",
       "credit_score            -0.276170      0.095565      1.000000   \n",
       "nb_days_account_open     0.019344      0.155137      0.309700   \n",
       "interests_last_month     0.827369      0.243807     -0.349202   \n",
       "loyalty_points           0.204301      0.379401      0.018298   \n",
       "card_change              0.100595      0.199453      0.187282   \n",
       "avg_age                 -0.053462      0.160676      0.314359   \n",
       "distinct_names           0.118647      0.266073      0.076665   \n",
       "insurance_plan          -0.023174     -0.112267     -0.097700   \n",
       "\n",
       "                      nb_days_account_open  interests_last_month  \\\n",
       "used_credit                       0.019344              0.827369   \n",
       "credit_limit                      0.155137              0.243807   \n",
       "credit_score                      0.309700             -0.349202   \n",
       "nb_days_account_open              1.000000             -0.007197   \n",
       "interests_last_month             -0.007197              1.000000   \n",
       "loyalty_points                    0.056948              0.024649   \n",
       "card_change                       0.631794              0.029187   \n",
       "avg_age                           0.355213             -0.066216   \n",
       "distinct_names                    0.063330             -0.018544   \n",
       "insurance_plan                   -0.010501              0.027698   \n",
       "\n",
       "                      loyalty_points  card_change   avg_age  distinct_names  \\\n",
       "used_credit                 0.204301     0.100595 -0.053462        0.118647   \n",
       "credit_limit                0.379401     0.199453  0.160676        0.266073   \n",
       "credit_score                0.018298     0.187282  0.314359        0.076665   \n",
       "nb_days_account_open        0.056948     0.631794  0.355213        0.063330   \n",
       "interests_last_month        0.024649     0.029187 -0.066216       -0.018544   \n",
       "loyalty_points              1.000000     0.111160 -0.014452        0.198508   \n",
       "card_change                 0.111160     1.000000  0.135292        0.125040   \n",
       "avg_age                    -0.014452     0.135292  1.000000        0.069816   \n",
       "distinct_names              0.198508     0.125040  0.069816        1.000000   \n",
       "insurance_plan             -0.056063    -0.021045  0.060443       -0.075750   \n",
       "\n",
       "                      insurance_plan  \n",
       "used_credit                -0.023174  \n",
       "credit_limit               -0.112267  \n",
       "credit_score               -0.097700  \n",
       "nb_days_account_open       -0.010501  \n",
       "interests_last_month        0.027698  \n",
       "loyalty_points             -0.056063  \n",
       "card_change                -0.021045  \n",
       "avg_age                     0.060443  \n",
       "distinct_names             -0.075750  \n",
       "insurance_plan              1.000000  "
      ]
     },
     "execution_count": 478,
     "metadata": {},
     "output_type": "execute_result"
    }
   ],
   "source": [
    "train.corr()"
   ]
  },
  {
   "cell_type": "code",
   "execution_count": 2,
   "metadata": {},
   "outputs": [],
   "source": [
    "# visualization\n",
    "import seaborn as sns\n",
    "import matplotlib.pyplot as plt\n",
    "%matplotlib inline"
   ]
  },
  {
   "cell_type": "code",
   "execution_count": 3,
   "metadata": {},
   "outputs": [
    {
     "ename": "NameError",
     "evalue": "name 'train' is not defined",
     "output_type": "error",
     "traceback": [
      "\u001b[0;31m---------------------------------------------------------------------------\u001b[0m",
      "\u001b[0;31mNameError\u001b[0m                                 Traceback (most recent call last)",
      "\u001b[0;32m<ipython-input-3-9850426eba72>\u001b[0m in \u001b[0;36m<module>\u001b[0;34m()\u001b[0m\n\u001b[0;32m----> 1\u001b[0;31m \u001b[0msns\u001b[0m\u001b[0;34m.\u001b[0m\u001b[0mpairplot\u001b[0m\u001b[0;34m(\u001b[0m\u001b[0mtrain\u001b[0m\u001b[0;34m)\u001b[0m\u001b[0;34m\u001b[0m\u001b[0m\n\u001b[0m",
      "\u001b[0;31mNameError\u001b[0m: name 'train' is not defined"
     ]
    }
   ],
   "source": [
    "sns.pairplot(train)"
   ]
  },
  {
   "cell_type": "code",
   "execution_count": null,
   "metadata": {
    "collapsed": true
   },
   "outputs": [],
   "source": []
  },
  {
   "cell_type": "code",
   "execution_count": null,
   "metadata": {
    "collapsed": true
   },
   "outputs": [],
   "source": []
  }
 ],
 "metadata": {
  "kernelspec": {
   "display_name": "Python 3",
   "language": "python",
   "name": "python3"
  },
  "language_info": {
   "codemirror_mode": {
    "name": "ipython",
    "version": 3
   },
   "file_extension": ".py",
   "mimetype": "text/x-python",
   "name": "python",
   "nbconvert_exporter": "python",
   "pygments_lexer": "ipython3",
   "version": "3.6.3"
  },
  "toc": {
   "nav_menu": {},
   "number_sections": true,
   "sideBar": true,
   "skip_h1_title": false,
   "toc_cell": true,
   "toc_position": {
    "height": "566px",
    "left": "0px",
    "right": "987px",
    "top": "106px",
    "width": "293px"
   },
   "toc_section_display": "block",
   "toc_window_display": true
  }
 },
 "nbformat": 4,
 "nbformat_minor": 2
}
